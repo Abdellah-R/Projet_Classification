{
 "cells": [
  {
   "cell_type": "code",
   "execution_count": 126,
   "metadata": {},
   "outputs": [],
   "source": [
    "import pandas as pd"
   ]
  },
  {
   "cell_type": "code",
   "execution_count": 127,
   "metadata": {},
   "outputs": [],
   "source": [
    "df = pd.read_csv(\"df_analyse.csv\")"
   ]
  },
  {
   "cell_type": "code",
   "execution_count": 128,
   "metadata": {},
   "outputs": [
    {
     "data": {
      "text/html": [
       "<div>\n",
       "<style scoped>\n",
       "    .dataframe tbody tr th:only-of-type {\n",
       "        vertical-align: middle;\n",
       "    }\n",
       "\n",
       "    .dataframe tbody tr th {\n",
       "        vertical-align: top;\n",
       "    }\n",
       "\n",
       "    .dataframe thead th {\n",
       "        text-align: right;\n",
       "    }\n",
       "</style>\n",
       "<table border=\"1\" class=\"dataframe\">\n",
       "  <thead>\n",
       "    <tr style=\"text-align: right;\">\n",
       "      <th></th>\n",
       "      <th>Unnamed: 0</th>\n",
       "      <th>NAICS</th>\n",
       "      <th>NoEmp</th>\n",
       "      <th>NewExist</th>\n",
       "      <th>CreateJob</th>\n",
       "      <th>RetainedJob</th>\n",
       "      <th>FranchiseCode</th>\n",
       "      <th>UrbanRural</th>\n",
       "      <th>MIS_Status</th>\n",
       "    </tr>\n",
       "  </thead>\n",
       "  <tbody>\n",
       "    <tr>\n",
       "      <th>0</th>\n",
       "      <td>0</td>\n",
       "      <td>451120</td>\n",
       "      <td>4</td>\n",
       "      <td>1.0</td>\n",
       "      <td>0</td>\n",
       "      <td>0</td>\n",
       "      <td>0</td>\n",
       "      <td>0</td>\n",
       "      <td>0</td>\n",
       "    </tr>\n",
       "    <tr>\n",
       "      <th>1</th>\n",
       "      <td>1</td>\n",
       "      <td>722410</td>\n",
       "      <td>2</td>\n",
       "      <td>1.0</td>\n",
       "      <td>0</td>\n",
       "      <td>0</td>\n",
       "      <td>0</td>\n",
       "      <td>0</td>\n",
       "      <td>0</td>\n",
       "    </tr>\n",
       "    <tr>\n",
       "      <th>2</th>\n",
       "      <td>2</td>\n",
       "      <td>621210</td>\n",
       "      <td>7</td>\n",
       "      <td>0.0</td>\n",
       "      <td>0</td>\n",
       "      <td>0</td>\n",
       "      <td>0</td>\n",
       "      <td>0</td>\n",
       "      <td>0</td>\n",
       "    </tr>\n",
       "    <tr>\n",
       "      <th>3</th>\n",
       "      <td>3</td>\n",
       "      <td>0</td>\n",
       "      <td>2</td>\n",
       "      <td>0.0</td>\n",
       "      <td>0</td>\n",
       "      <td>0</td>\n",
       "      <td>0</td>\n",
       "      <td>0</td>\n",
       "      <td>0</td>\n",
       "    </tr>\n",
       "    <tr>\n",
       "      <th>4</th>\n",
       "      <td>4</td>\n",
       "      <td>0</td>\n",
       "      <td>14</td>\n",
       "      <td>0.0</td>\n",
       "      <td>7</td>\n",
       "      <td>7</td>\n",
       "      <td>0</td>\n",
       "      <td>0</td>\n",
       "      <td>0</td>\n",
       "    </tr>\n",
       "    <tr>\n",
       "      <th>...</th>\n",
       "      <td>...</td>\n",
       "      <td>...</td>\n",
       "      <td>...</td>\n",
       "      <td>...</td>\n",
       "      <td>...</td>\n",
       "      <td>...</td>\n",
       "      <td>...</td>\n",
       "      <td>...</td>\n",
       "      <td>...</td>\n",
       "    </tr>\n",
       "    <tr>\n",
       "      <th>897989</th>\n",
       "      <td>897989</td>\n",
       "      <td>451120</td>\n",
       "      <td>6</td>\n",
       "      <td>0.0</td>\n",
       "      <td>0</td>\n",
       "      <td>0</td>\n",
       "      <td>0</td>\n",
       "      <td>0</td>\n",
       "      <td>0</td>\n",
       "    </tr>\n",
       "    <tr>\n",
       "      <th>897990</th>\n",
       "      <td>897990</td>\n",
       "      <td>451130</td>\n",
       "      <td>6</td>\n",
       "      <td>0.0</td>\n",
       "      <td>0</td>\n",
       "      <td>0</td>\n",
       "      <td>0</td>\n",
       "      <td>0</td>\n",
       "      <td>0</td>\n",
       "    </tr>\n",
       "    <tr>\n",
       "      <th>897991</th>\n",
       "      <td>897991</td>\n",
       "      <td>332321</td>\n",
       "      <td>26</td>\n",
       "      <td>0.0</td>\n",
       "      <td>0</td>\n",
       "      <td>0</td>\n",
       "      <td>0</td>\n",
       "      <td>0</td>\n",
       "      <td>0</td>\n",
       "    </tr>\n",
       "    <tr>\n",
       "      <th>897992</th>\n",
       "      <td>897992</td>\n",
       "      <td>0</td>\n",
       "      <td>6</td>\n",
       "      <td>0.0</td>\n",
       "      <td>0</td>\n",
       "      <td>0</td>\n",
       "      <td>0</td>\n",
       "      <td>0</td>\n",
       "      <td>1</td>\n",
       "    </tr>\n",
       "    <tr>\n",
       "      <th>897993</th>\n",
       "      <td>897993</td>\n",
       "      <td>0</td>\n",
       "      <td>1</td>\n",
       "      <td>1.0</td>\n",
       "      <td>0</td>\n",
       "      <td>0</td>\n",
       "      <td>0</td>\n",
       "      <td>0</td>\n",
       "      <td>0</td>\n",
       "    </tr>\n",
       "  </tbody>\n",
       "</table>\n",
       "<p>897994 rows × 9 columns</p>\n",
       "</div>"
      ],
      "text/plain": [
       "        Unnamed: 0   NAICS  NoEmp  NewExist  CreateJob  RetainedJob  \\\n",
       "0                0  451120      4       1.0          0            0   \n",
       "1                1  722410      2       1.0          0            0   \n",
       "2                2  621210      7       0.0          0            0   \n",
       "3                3       0      2       0.0          0            0   \n",
       "4                4       0     14       0.0          7            7   \n",
       "...            ...     ...    ...       ...        ...          ...   \n",
       "897989      897989  451120      6       0.0          0            0   \n",
       "897990      897990  451130      6       0.0          0            0   \n",
       "897991      897991  332321     26       0.0          0            0   \n",
       "897992      897992       0      6       0.0          0            0   \n",
       "897993      897993       0      1       1.0          0            0   \n",
       "\n",
       "        FranchiseCode  UrbanRural  MIS_Status  \n",
       "0                   0           0           0  \n",
       "1                   0           0           0  \n",
       "2                   0           0           0  \n",
       "3                   0           0           0  \n",
       "4                   0           0           0  \n",
       "...               ...         ...         ...  \n",
       "897989              0           0           0  \n",
       "897990              0           0           0  \n",
       "897991              0           0           0  \n",
       "897992              0           0           1  \n",
       "897993              0           0           0  \n",
       "\n",
       "[897994 rows x 9 columns]"
      ]
     },
     "execution_count": 128,
     "metadata": {},
     "output_type": "execute_result"
    }
   ],
   "source": [
    "df"
   ]
  },
  {
   "cell_type": "code",
   "execution_count": 129,
   "metadata": {},
   "outputs": [
    {
     "data": {
      "text/plain": [
       "Index(['Unnamed: 0', 'NAICS', 'NoEmp', 'NewExist', 'CreateJob', 'RetainedJob',\n",
       "       'FranchiseCode', 'UrbanRural', 'MIS_Status'],\n",
       "      dtype='object')"
      ]
     },
     "execution_count": 129,
     "metadata": {},
     "output_type": "execute_result"
    }
   ],
   "source": [
    "df.columns"
   ]
  },
  {
   "cell_type": "code",
   "execution_count": 130,
   "metadata": {},
   "outputs": [
    {
     "ename": "KeyError",
     "evalue": "\"['Term'] not in index\"",
     "output_type": "error",
     "traceback": [
      "\u001b[0;31m---------------------------------------------------------------------------\u001b[0m",
      "\u001b[0;31mKeyError\u001b[0m                                  Traceback (most recent call last)",
      "Cell \u001b[0;32mIn [130], line 1\u001b[0m\n\u001b[0;32m----> 1\u001b[0m df \u001b[39m=\u001b[39m df[[\u001b[39m'\u001b[39;49m\u001b[39mNAICS\u001b[39;49m\u001b[39m'\u001b[39;49m, \u001b[39m'\u001b[39;49m\u001b[39mNoEmp\u001b[39;49m\u001b[39m'\u001b[39;49m, \u001b[39m'\u001b[39;49m\u001b[39mNewExist\u001b[39;49m\u001b[39m'\u001b[39;49m, \u001b[39m'\u001b[39;49m\u001b[39mCreateJob\u001b[39;49m\u001b[39m'\u001b[39;49m, \u001b[39m'\u001b[39;49m\u001b[39mRetainedJob\u001b[39;49m\u001b[39m'\u001b[39;49m,\u001b[39m'\u001b[39;49m\u001b[39mFranchiseCode\u001b[39;49m\u001b[39m'\u001b[39;49m, \u001b[39m'\u001b[39;49m\u001b[39mUrbanRural\u001b[39;49m\u001b[39m'\u001b[39;49m, \u001b[39m'\u001b[39;49m\u001b[39mMIS_Status\u001b[39;49m\u001b[39m'\u001b[39;49m,\u001b[39m\"\u001b[39;49m\u001b[39mTerm\u001b[39;49m\u001b[39m\"\u001b[39;49m]]\n",
      "File \u001b[0;32m~/miniconda3/envs/potages/lib/python3.9/site-packages/pandas/core/frame.py:3811\u001b[0m, in \u001b[0;36mDataFrame.__getitem__\u001b[0;34m(self, key)\u001b[0m\n\u001b[1;32m   3809\u001b[0m     \u001b[39mif\u001b[39;00m is_iterator(key):\n\u001b[1;32m   3810\u001b[0m         key \u001b[39m=\u001b[39m \u001b[39mlist\u001b[39m(key)\n\u001b[0;32m-> 3811\u001b[0m     indexer \u001b[39m=\u001b[39m \u001b[39mself\u001b[39;49m\u001b[39m.\u001b[39;49mcolumns\u001b[39m.\u001b[39;49m_get_indexer_strict(key, \u001b[39m\"\u001b[39;49m\u001b[39mcolumns\u001b[39;49m\u001b[39m\"\u001b[39;49m)[\u001b[39m1\u001b[39m]\n\u001b[1;32m   3813\u001b[0m \u001b[39m# take() does not accept boolean indexers\u001b[39;00m\n\u001b[1;32m   3814\u001b[0m \u001b[39mif\u001b[39;00m \u001b[39mgetattr\u001b[39m(indexer, \u001b[39m\"\u001b[39m\u001b[39mdtype\u001b[39m\u001b[39m\"\u001b[39m, \u001b[39mNone\u001b[39;00m) \u001b[39m==\u001b[39m \u001b[39mbool\u001b[39m:\n",
      "File \u001b[0;32m~/miniconda3/envs/potages/lib/python3.9/site-packages/pandas/core/indexes/base.py:6113\u001b[0m, in \u001b[0;36mIndex._get_indexer_strict\u001b[0;34m(self, key, axis_name)\u001b[0m\n\u001b[1;32m   6110\u001b[0m \u001b[39melse\u001b[39;00m:\n\u001b[1;32m   6111\u001b[0m     keyarr, indexer, new_indexer \u001b[39m=\u001b[39m \u001b[39mself\u001b[39m\u001b[39m.\u001b[39m_reindex_non_unique(keyarr)\n\u001b[0;32m-> 6113\u001b[0m \u001b[39mself\u001b[39;49m\u001b[39m.\u001b[39;49m_raise_if_missing(keyarr, indexer, axis_name)\n\u001b[1;32m   6115\u001b[0m keyarr \u001b[39m=\u001b[39m \u001b[39mself\u001b[39m\u001b[39m.\u001b[39mtake(indexer)\n\u001b[1;32m   6116\u001b[0m \u001b[39mif\u001b[39;00m \u001b[39misinstance\u001b[39m(key, Index):\n\u001b[1;32m   6117\u001b[0m     \u001b[39m# GH 42790 - Preserve name from an Index\u001b[39;00m\n",
      "File \u001b[0;32m~/miniconda3/envs/potages/lib/python3.9/site-packages/pandas/core/indexes/base.py:6176\u001b[0m, in \u001b[0;36mIndex._raise_if_missing\u001b[0;34m(self, key, indexer, axis_name)\u001b[0m\n\u001b[1;32m   6173\u001b[0m     \u001b[39mraise\u001b[39;00m \u001b[39mKeyError\u001b[39;00m(\u001b[39mf\u001b[39m\u001b[39m\"\u001b[39m\u001b[39mNone of [\u001b[39m\u001b[39m{\u001b[39;00mkey\u001b[39m}\u001b[39;00m\u001b[39m] are in the [\u001b[39m\u001b[39m{\u001b[39;00maxis_name\u001b[39m}\u001b[39;00m\u001b[39m]\u001b[39m\u001b[39m\"\u001b[39m)\n\u001b[1;32m   6175\u001b[0m not_found \u001b[39m=\u001b[39m \u001b[39mlist\u001b[39m(ensure_index(key)[missing_mask\u001b[39m.\u001b[39mnonzero()[\u001b[39m0\u001b[39m]]\u001b[39m.\u001b[39munique())\n\u001b[0;32m-> 6176\u001b[0m \u001b[39mraise\u001b[39;00m \u001b[39mKeyError\u001b[39;00m(\u001b[39mf\u001b[39m\u001b[39m\"\u001b[39m\u001b[39m{\u001b[39;00mnot_found\u001b[39m}\u001b[39;00m\u001b[39m not in index\u001b[39m\u001b[39m\"\u001b[39m)\n",
      "\u001b[0;31mKeyError\u001b[0m: \"['Term'] not in index\""
     ]
    }
   ],
   "source": [
    "df = df[['NAICS', 'NoEmp', 'NewExist', 'CreateJob', 'RetainedJob','FranchiseCode', 'UrbanRural', 'MIS_Status']]"
   ]
  },
  {
   "cell_type": "code",
   "execution_count": null,
   "metadata": {},
   "outputs": [
    {
     "data": {
      "text/html": [
       "<div>\n",
       "<style scoped>\n",
       "    .dataframe tbody tr th:only-of-type {\n",
       "        vertical-align: middle;\n",
       "    }\n",
       "\n",
       "    .dataframe tbody tr th {\n",
       "        vertical-align: top;\n",
       "    }\n",
       "\n",
       "    .dataframe thead th {\n",
       "        text-align: right;\n",
       "    }\n",
       "</style>\n",
       "<table border=\"1\" class=\"dataframe\">\n",
       "  <thead>\n",
       "    <tr style=\"text-align: right;\">\n",
       "      <th></th>\n",
       "      <th>NAICS</th>\n",
       "      <th>NoEmp</th>\n",
       "      <th>NewExist</th>\n",
       "      <th>CreateJob</th>\n",
       "      <th>RetainedJob</th>\n",
       "      <th>FranchiseCode</th>\n",
       "      <th>UrbanRural</th>\n",
       "      <th>MIS_Status</th>\n",
       "    </tr>\n",
       "  </thead>\n",
       "  <tbody>\n",
       "    <tr>\n",
       "      <th>0</th>\n",
       "      <td>451120</td>\n",
       "      <td>4</td>\n",
       "      <td>1.0</td>\n",
       "      <td>0</td>\n",
       "      <td>0</td>\n",
       "      <td>0</td>\n",
       "      <td>0</td>\n",
       "      <td>0</td>\n",
       "    </tr>\n",
       "    <tr>\n",
       "      <th>1</th>\n",
       "      <td>722410</td>\n",
       "      <td>2</td>\n",
       "      <td>1.0</td>\n",
       "      <td>0</td>\n",
       "      <td>0</td>\n",
       "      <td>0</td>\n",
       "      <td>0</td>\n",
       "      <td>0</td>\n",
       "    </tr>\n",
       "    <tr>\n",
       "      <th>2</th>\n",
       "      <td>621210</td>\n",
       "      <td>7</td>\n",
       "      <td>0.0</td>\n",
       "      <td>0</td>\n",
       "      <td>0</td>\n",
       "      <td>0</td>\n",
       "      <td>0</td>\n",
       "      <td>0</td>\n",
       "    </tr>\n",
       "    <tr>\n",
       "      <th>3</th>\n",
       "      <td>0</td>\n",
       "      <td>2</td>\n",
       "      <td>0.0</td>\n",
       "      <td>0</td>\n",
       "      <td>0</td>\n",
       "      <td>0</td>\n",
       "      <td>0</td>\n",
       "      <td>0</td>\n",
       "    </tr>\n",
       "    <tr>\n",
       "      <th>4</th>\n",
       "      <td>0</td>\n",
       "      <td>14</td>\n",
       "      <td>0.0</td>\n",
       "      <td>7</td>\n",
       "      <td>7</td>\n",
       "      <td>0</td>\n",
       "      <td>0</td>\n",
       "      <td>0</td>\n",
       "    </tr>\n",
       "    <tr>\n",
       "      <th>...</th>\n",
       "      <td>...</td>\n",
       "      <td>...</td>\n",
       "      <td>...</td>\n",
       "      <td>...</td>\n",
       "      <td>...</td>\n",
       "      <td>...</td>\n",
       "      <td>...</td>\n",
       "      <td>...</td>\n",
       "    </tr>\n",
       "    <tr>\n",
       "      <th>897989</th>\n",
       "      <td>451120</td>\n",
       "      <td>6</td>\n",
       "      <td>0.0</td>\n",
       "      <td>0</td>\n",
       "      <td>0</td>\n",
       "      <td>0</td>\n",
       "      <td>0</td>\n",
       "      <td>0</td>\n",
       "    </tr>\n",
       "    <tr>\n",
       "      <th>897990</th>\n",
       "      <td>451130</td>\n",
       "      <td>6</td>\n",
       "      <td>0.0</td>\n",
       "      <td>0</td>\n",
       "      <td>0</td>\n",
       "      <td>0</td>\n",
       "      <td>0</td>\n",
       "      <td>0</td>\n",
       "    </tr>\n",
       "    <tr>\n",
       "      <th>897991</th>\n",
       "      <td>332321</td>\n",
       "      <td>26</td>\n",
       "      <td>0.0</td>\n",
       "      <td>0</td>\n",
       "      <td>0</td>\n",
       "      <td>0</td>\n",
       "      <td>0</td>\n",
       "      <td>0</td>\n",
       "    </tr>\n",
       "    <tr>\n",
       "      <th>897992</th>\n",
       "      <td>0</td>\n",
       "      <td>6</td>\n",
       "      <td>0.0</td>\n",
       "      <td>0</td>\n",
       "      <td>0</td>\n",
       "      <td>0</td>\n",
       "      <td>0</td>\n",
       "      <td>1</td>\n",
       "    </tr>\n",
       "    <tr>\n",
       "      <th>897993</th>\n",
       "      <td>0</td>\n",
       "      <td>1</td>\n",
       "      <td>1.0</td>\n",
       "      <td>0</td>\n",
       "      <td>0</td>\n",
       "      <td>0</td>\n",
       "      <td>0</td>\n",
       "      <td>0</td>\n",
       "    </tr>\n",
       "  </tbody>\n",
       "</table>\n",
       "<p>897994 rows × 8 columns</p>\n",
       "</div>"
      ],
      "text/plain": [
       "         NAICS  NoEmp  NewExist  CreateJob  RetainedJob  FranchiseCode  \\\n",
       "0       451120      4       1.0          0            0              0   \n",
       "1       722410      2       1.0          0            0              0   \n",
       "2       621210      7       0.0          0            0              0   \n",
       "3            0      2       0.0          0            0              0   \n",
       "4            0     14       0.0          7            7              0   \n",
       "...        ...    ...       ...        ...          ...            ...   \n",
       "897989  451120      6       0.0          0            0              0   \n",
       "897990  451130      6       0.0          0            0              0   \n",
       "897991  332321     26       0.0          0            0              0   \n",
       "897992       0      6       0.0          0            0              0   \n",
       "897993       0      1       1.0          0            0              0   \n",
       "\n",
       "        UrbanRural  MIS_Status  \n",
       "0                0           0  \n",
       "1                0           0  \n",
       "2                0           0  \n",
       "3                0           0  \n",
       "4                0           0  \n",
       "...            ...         ...  \n",
       "897989           0           0  \n",
       "897990           0           0  \n",
       "897991           0           0  \n",
       "897992           0           1  \n",
       "897993           0           0  \n",
       "\n",
       "[897994 rows x 8 columns]"
      ]
     },
     "execution_count": 79,
     "metadata": {},
     "output_type": "execute_result"
    }
   ],
   "source": [
    "df"
   ]
  },
  {
   "cell_type": "code",
   "execution_count": null,
   "metadata": {},
   "outputs": [
    {
     "data": {
      "text/html": [
       "<div>\n",
       "<style scoped>\n",
       "    .dataframe tbody tr th:only-of-type {\n",
       "        vertical-align: middle;\n",
       "    }\n",
       "\n",
       "    .dataframe tbody tr th {\n",
       "        vertical-align: top;\n",
       "    }\n",
       "\n",
       "    .dataframe thead th {\n",
       "        text-align: right;\n",
       "    }\n",
       "</style>\n",
       "<table border=\"1\" class=\"dataframe\">\n",
       "  <thead>\n",
       "    <tr style=\"text-align: right;\">\n",
       "      <th></th>\n",
       "      <th>NAICS</th>\n",
       "      <th>NoEmp</th>\n",
       "      <th>NewExist</th>\n",
       "      <th>CreateJob</th>\n",
       "      <th>RetainedJob</th>\n",
       "      <th>FranchiseCode</th>\n",
       "      <th>UrbanRural</th>\n",
       "      <th>MIS_Status</th>\n",
       "    </tr>\n",
       "  </thead>\n",
       "  <tbody>\n",
       "    <tr>\n",
       "      <th>0</th>\n",
       "      <td>451120</td>\n",
       "      <td>4</td>\n",
       "      <td>1.0</td>\n",
       "      <td>0</td>\n",
       "      <td>0</td>\n",
       "      <td>0</td>\n",
       "      <td>0</td>\n",
       "      <td>0</td>\n",
       "    </tr>\n",
       "    <tr>\n",
       "      <th>1</th>\n",
       "      <td>722410</td>\n",
       "      <td>2</td>\n",
       "      <td>1.0</td>\n",
       "      <td>0</td>\n",
       "      <td>0</td>\n",
       "      <td>0</td>\n",
       "      <td>0</td>\n",
       "      <td>0</td>\n",
       "    </tr>\n",
       "    <tr>\n",
       "      <th>2</th>\n",
       "      <td>621210</td>\n",
       "      <td>7</td>\n",
       "      <td>0.0</td>\n",
       "      <td>0</td>\n",
       "      <td>0</td>\n",
       "      <td>0</td>\n",
       "      <td>0</td>\n",
       "      <td>0</td>\n",
       "    </tr>\n",
       "    <tr>\n",
       "      <th>3</th>\n",
       "      <td>0</td>\n",
       "      <td>2</td>\n",
       "      <td>0.0</td>\n",
       "      <td>0</td>\n",
       "      <td>0</td>\n",
       "      <td>0</td>\n",
       "      <td>0</td>\n",
       "      <td>0</td>\n",
       "    </tr>\n",
       "    <tr>\n",
       "      <th>4</th>\n",
       "      <td>0</td>\n",
       "      <td>14</td>\n",
       "      <td>0.0</td>\n",
       "      <td>7</td>\n",
       "      <td>7</td>\n",
       "      <td>0</td>\n",
       "      <td>0</td>\n",
       "      <td>0</td>\n",
       "    </tr>\n",
       "    <tr>\n",
       "      <th>...</th>\n",
       "      <td>...</td>\n",
       "      <td>...</td>\n",
       "      <td>...</td>\n",
       "      <td>...</td>\n",
       "      <td>...</td>\n",
       "      <td>...</td>\n",
       "      <td>...</td>\n",
       "      <td>...</td>\n",
       "    </tr>\n",
       "    <tr>\n",
       "      <th>897989</th>\n",
       "      <td>451120</td>\n",
       "      <td>6</td>\n",
       "      <td>0.0</td>\n",
       "      <td>0</td>\n",
       "      <td>0</td>\n",
       "      <td>0</td>\n",
       "      <td>0</td>\n",
       "      <td>0</td>\n",
       "    </tr>\n",
       "    <tr>\n",
       "      <th>897990</th>\n",
       "      <td>451130</td>\n",
       "      <td>6</td>\n",
       "      <td>0.0</td>\n",
       "      <td>0</td>\n",
       "      <td>0</td>\n",
       "      <td>0</td>\n",
       "      <td>0</td>\n",
       "      <td>0</td>\n",
       "    </tr>\n",
       "    <tr>\n",
       "      <th>897991</th>\n",
       "      <td>332321</td>\n",
       "      <td>26</td>\n",
       "      <td>0.0</td>\n",
       "      <td>0</td>\n",
       "      <td>0</td>\n",
       "      <td>0</td>\n",
       "      <td>0</td>\n",
       "      <td>0</td>\n",
       "    </tr>\n",
       "    <tr>\n",
       "      <th>897992</th>\n",
       "      <td>0</td>\n",
       "      <td>6</td>\n",
       "      <td>0.0</td>\n",
       "      <td>0</td>\n",
       "      <td>0</td>\n",
       "      <td>0</td>\n",
       "      <td>0</td>\n",
       "      <td>1</td>\n",
       "    </tr>\n",
       "    <tr>\n",
       "      <th>897993</th>\n",
       "      <td>0</td>\n",
       "      <td>1</td>\n",
       "      <td>1.0</td>\n",
       "      <td>0</td>\n",
       "      <td>0</td>\n",
       "      <td>0</td>\n",
       "      <td>0</td>\n",
       "      <td>0</td>\n",
       "    </tr>\n",
       "  </tbody>\n",
       "</table>\n",
       "<p>897994 rows × 8 columns</p>\n",
       "</div>"
      ],
      "text/plain": [
       "         NAICS  NoEmp  NewExist  CreateJob  RetainedJob  FranchiseCode  \\\n",
       "0       451120      4       1.0          0            0              0   \n",
       "1       722410      2       1.0          0            0              0   \n",
       "2       621210      7       0.0          0            0              0   \n",
       "3            0      2       0.0          0            0              0   \n",
       "4            0     14       0.0          7            7              0   \n",
       "...        ...    ...       ...        ...          ...            ...   \n",
       "897989  451120      6       0.0          0            0              0   \n",
       "897990  451130      6       0.0          0            0              0   \n",
       "897991  332321     26       0.0          0            0              0   \n",
       "897992       0      6       0.0          0            0              0   \n",
       "897993       0      1       1.0          0            0              0   \n",
       "\n",
       "        UrbanRural  MIS_Status  \n",
       "0                0           0  \n",
       "1                0           0  \n",
       "2                0           0  \n",
       "3                0           0  \n",
       "4                0           0  \n",
       "...            ...         ...  \n",
       "897989           0           0  \n",
       "897990           0           0  \n",
       "897991           0           0  \n",
       "897992           0           1  \n",
       "897993           0           0  \n",
       "\n",
       "[897994 rows x 8 columns]"
      ]
     },
     "execution_count": 80,
     "metadata": {},
     "output_type": "execute_result"
    }
   ],
   "source": [
    "df"
   ]
  },
  {
   "cell_type": "markdown",
   "metadata": {},
   "source": [
    "D'apres le début de modélisation , nous avons vu que les colonne 'NAICS', 'RetainedJob', 'MIS_Status', 'NoEmp', 'Term', 'UrbanRural'\n",
    "semble être les plus intéressante a la modelisation "
   ]
  },
  {
   "cell_type": "code",
   "execution_count": null,
   "metadata": {},
   "outputs": [],
   "source": [
    "# Nous allons donc organiser l'analyse de ces variables afin de comprendre les prédictions de notre modèle \n"
   ]
  },
  {
   "cell_type": "code",
   "execution_count": null,
   "metadata": {},
   "outputs": [],
   "source": [
    "# noEMP est le nombre d'employé"
   ]
  },
  {
   "cell_type": "code",
   "execution_count": null,
   "metadata": {},
   "outputs": [],
   "source": [
    "# NAICS est la zone d'activité"
   ]
  },
  {
   "cell_type": "code",
   "execution_count": null,
   "metadata": {},
   "outputs": [],
   "source": [
    "# Term est la durée en moi du contrat "
   ]
  },
  {
   "cell_type": "code",
   "execution_count": null,
   "metadata": {},
   "outputs": [],
   "source": [
    "# UrbanRural savoir si la société est dans une zone urbaine ou rural "
   ]
  },
  {
   "cell_type": "code",
   "execution_count": null,
   "metadata": {},
   "outputs": [],
   "source": [
    "import seaborn as sns "
   ]
  },
  {
   "cell_type": "code",
   "execution_count": null,
   "metadata": {},
   "outputs": [
    {
     "data": {
      "text/plain": [
       "0         0\n",
       "1         0\n",
       "2         0\n",
       "3         0\n",
       "4         0\n",
       "         ..\n",
       "897989    0\n",
       "897990    0\n",
       "897991    0\n",
       "897992    1\n",
       "897993    0\n",
       "Name: MIS_Status, Length: 897994, dtype: int64"
      ]
     },
     "execution_count": 87,
     "metadata": {},
     "output_type": "execute_result"
    }
   ],
   "source": [
    "df[\"MIS_Status\"]"
   ]
  },
  {
   "cell_type": "code",
   "execution_count": null,
   "metadata": {},
   "outputs": [
    {
     "data": {
      "text/plain": [
       "<AxesSubplot: xlabel='UrbanRural', ylabel='MIS_Status'>"
      ]
     },
     "execution_count": 88,
     "metadata": {},
     "output_type": "execute_result"
    },
    {
     "data": {
      "image/png": "[encoded data removed]",
      "text/plain": [
       "<Figure size 640x480 with 1 Axes>"
      ]
     },
     "metadata": {},
     "output_type": "display_data"
    }
   ],
   "source": [
    "sns.histplot(x=df.UrbanRural,y = df.MIS_Status)"
   ]
  },
  {
   "cell_type": "code",
   "execution_count": null,
   "metadata": {},
   "outputs": [],
   "source": [
    "df = df[df[\"MIS_Status\"]!=2]"
   ]
  },
  {
   "cell_type": "code",
   "execution_count": null,
   "metadata": {},
   "outputs": [
    {
     "data": {
      "text/plain": [
       "0.1753697686176077"
      ]
     },
     "execution_count": 90,
     "metadata": {},
     "output_type": "execute_result"
    }
   ],
   "source": [
    "total = df.MIS_Status.count()\n",
    "(df.MIS_Status.sum()/total)"
   ]
  },
  {
   "cell_type": "code",
   "execution_count": null,
   "metadata": {},
   "outputs": [],
   "source": [
    "# on  en déduit avoir 17% d'entreprise Rural"
   ]
  },
  {
   "cell_type": "code",
   "execution_count": null,
   "metadata": {},
   "outputs": [],
   "source": [
    "# on veut maintenant savoir qui sont les plus susceptible entre les urbains et les rural de non payé "
   ]
  },
  {
   "cell_type": "code",
   "execution_count": null,
   "metadata": {},
   "outputs": [
    {
     "data": {
      "text/html": [
       "<div>\n",
       "<style scoped>\n",
       "    .dataframe tbody tr th:only-of-type {\n",
       "        vertical-align: middle;\n",
       "    }\n",
       "\n",
       "    .dataframe tbody tr th {\n",
       "        vertical-align: top;\n",
       "    }\n",
       "\n",
       "    .dataframe thead th {\n",
       "        text-align: right;\n",
       "    }\n",
       "</style>\n",
       "<table border=\"1\" class=\"dataframe\">\n",
       "  <thead>\n",
       "    <tr style=\"text-align: right;\">\n",
       "      <th></th>\n",
       "      <th>NAICS</th>\n",
       "      <th>NoEmp</th>\n",
       "      <th>NewExist</th>\n",
       "      <th>CreateJob</th>\n",
       "      <th>RetainedJob</th>\n",
       "      <th>FranchiseCode</th>\n",
       "      <th>UrbanRural</th>\n",
       "      <th>MIS_Status</th>\n",
       "    </tr>\n",
       "  </thead>\n",
       "  <tbody>\n",
       "    <tr>\n",
       "      <th>NAICS</th>\n",
       "      <td>1.000000</td>\n",
       "      <td>-0.038335</td>\n",
       "      <td>0.046867</td>\n",
       "      <td>-0.039320</td>\n",
       "      <td>-0.036513</td>\n",
       "      <td>0.024561</td>\n",
       "      <td>0.436705</td>\n",
       "      <td>0.105743</td>\n",
       "    </tr>\n",
       "    <tr>\n",
       "      <th>NoEmp</th>\n",
       "      <td>-0.038335</td>\n",
       "      <td>1.000000</td>\n",
       "      <td>-0.040063</td>\n",
       "      <td>0.008624</td>\n",
       "      <td>0.015386</td>\n",
       "      <td>0.007416</td>\n",
       "      <td>-0.041847</td>\n",
       "      <td>-0.026315</td>\n",
       "    </tr>\n",
       "    <tr>\n",
       "      <th>NewExist</th>\n",
       "      <td>0.046867</td>\n",
       "      <td>-0.040063</td>\n",
       "      <td>1.000000</td>\n",
       "      <td>-0.001828</td>\n",
       "      <td>-0.008950</td>\n",
       "      <td>0.142301</td>\n",
       "      <td>0.031345</td>\n",
       "      <td>0.019373</td>\n",
       "    </tr>\n",
       "    <tr>\n",
       "      <th>CreateJob</th>\n",
       "      <td>-0.039320</td>\n",
       "      <td>0.008624</td>\n",
       "      <td>-0.001828</td>\n",
       "      <td>1.000000</td>\n",
       "      <td>0.994020</td>\n",
       "      <td>0.001232</td>\n",
       "      <td>-0.029880</td>\n",
       "      <td>0.011906</td>\n",
       "    </tr>\n",
       "    <tr>\n",
       "      <th>RetainedJob</th>\n",
       "      <td>-0.036513</td>\n",
       "      <td>0.015386</td>\n",
       "      <td>-0.008950</td>\n",
       "      <td>0.994020</td>\n",
       "      <td>1.000000</td>\n",
       "      <td>-0.000509</td>\n",
       "      <td>-0.024788</td>\n",
       "      <td>0.012339</td>\n",
       "    </tr>\n",
       "    <tr>\n",
       "      <th>FranchiseCode</th>\n",
       "      <td>0.024561</td>\n",
       "      <td>0.007416</td>\n",
       "      <td>0.142301</td>\n",
       "      <td>0.001232</td>\n",
       "      <td>-0.000509</td>\n",
       "      <td>1.000000</td>\n",
       "      <td>-0.009471</td>\n",
       "      <td>-0.015284</td>\n",
       "    </tr>\n",
       "    <tr>\n",
       "      <th>UrbanRural</th>\n",
       "      <td>0.436705</td>\n",
       "      <td>-0.041847</td>\n",
       "      <td>0.031345</td>\n",
       "      <td>-0.029880</td>\n",
       "      <td>-0.024788</td>\n",
       "      <td>-0.009471</td>\n",
       "      <td>1.000000</td>\n",
       "      <td>0.158076</td>\n",
       "    </tr>\n",
       "    <tr>\n",
       "      <th>MIS_Status</th>\n",
       "      <td>0.105743</td>\n",
       "      <td>-0.026315</td>\n",
       "      <td>0.019373</td>\n",
       "      <td>0.011906</td>\n",
       "      <td>0.012339</td>\n",
       "      <td>-0.015284</td>\n",
       "      <td>0.158076</td>\n",
       "      <td>1.000000</td>\n",
       "    </tr>\n",
       "  </tbody>\n",
       "</table>\n",
       "</div>"
      ],
      "text/plain": [
       "                  NAICS     NoEmp  NewExist  CreateJob  RetainedJob  \\\n",
       "NAICS          1.000000 -0.038335  0.046867  -0.039320    -0.036513   \n",
       "NoEmp         -0.038335  1.000000 -0.040063   0.008624     0.015386   \n",
       "NewExist       0.046867 -0.040063  1.000000  -0.001828    -0.008950   \n",
       "CreateJob     -0.039320  0.008624 -0.001828   1.000000     0.994020   \n",
       "RetainedJob   -0.036513  0.015386 -0.008950   0.994020     1.000000   \n",
       "FranchiseCode  0.024561  0.007416  0.142301   0.001232    -0.000509   \n",
       "UrbanRural     0.436705 -0.041847  0.031345  -0.029880    -0.024788   \n",
       "MIS_Status     0.105743 -0.026315  0.019373   0.011906     0.012339   \n",
       "\n",
       "               FranchiseCode  UrbanRural  MIS_Status  \n",
       "NAICS               0.024561    0.436705    0.105743  \n",
       "NoEmp               0.007416   -0.041847   -0.026315  \n",
       "NewExist            0.142301    0.031345    0.019373  \n",
       "CreateJob           0.001232   -0.029880    0.011906  \n",
       "RetainedJob        -0.000509   -0.024788    0.012339  \n",
       "FranchiseCode       1.000000   -0.009471   -0.015284  \n",
       "UrbanRural         -0.009471    1.000000    0.158076  \n",
       "MIS_Status         -0.015284    0.158076    1.000000  "
      ]
     },
     "execution_count": 93,
     "metadata": {},
     "output_type": "execute_result"
    }
   ],
   "source": [
    "df.corr()"
   ]
  },
  {
   "cell_type": "markdown",
   "metadata": {},
   "source": [
    "ON en deduit il y a une légère correlation avec le fait d'être rural "
   ]
  },
  {
   "cell_type": "code",
   "execution_count": null,
   "metadata": {},
   "outputs": [
    {
     "data": {
      "text/plain": [
       "0.1753697686176077"
      ]
     },
     "execution_count": 94,
     "metadata": {},
     "output_type": "execute_result"
    }
   ],
   "source": [
    "df.MIS_Status.sum()/total"
   ]
  },
  {
   "cell_type": "markdown",
   "metadata": {},
   "source": [
    "on a 17,5 pourcent de chance de tomber sur une entreprise qui va pas payer "
   ]
  },
  {
   "cell_type": "code",
   "execution_count": null,
   "metadata": {},
   "outputs": [],
   "source": [
    "dfgros = df[df[\"NoEmp\"]>1000]"
   ]
  },
  {
   "cell_type": "code",
   "execution_count": null,
   "metadata": {},
   "outputs": [
    {
     "data": {
      "text/html": [
       "<div>\n",
       "<style scoped>\n",
       "    .dataframe tbody tr th:only-of-type {\n",
       "        vertical-align: middle;\n",
       "    }\n",
       "\n",
       "    .dataframe tbody tr th {\n",
       "        vertical-align: top;\n",
       "    }\n",
       "\n",
       "    .dataframe thead th {\n",
       "        text-align: right;\n",
       "    }\n",
       "</style>\n",
       "<table border=\"1\" class=\"dataframe\">\n",
       "  <thead>\n",
       "    <tr style=\"text-align: right;\">\n",
       "      <th></th>\n",
       "      <th>NAICS</th>\n",
       "      <th>NoEmp</th>\n",
       "      <th>NewExist</th>\n",
       "      <th>CreateJob</th>\n",
       "      <th>RetainedJob</th>\n",
       "      <th>FranchiseCode</th>\n",
       "      <th>UrbanRural</th>\n",
       "      <th>MIS_Status</th>\n",
       "    </tr>\n",
       "  </thead>\n",
       "  <tbody>\n",
       "    <tr>\n",
       "      <th>NAICS</th>\n",
       "      <td>1.000000</td>\n",
       "      <td>0.064278</td>\n",
       "      <td>0.243576</td>\n",
       "      <td>-0.055827</td>\n",
       "      <td>0.061669</td>\n",
       "      <td>0.010839</td>\n",
       "      <td>0.420341</td>\n",
       "      <td>0.047393</td>\n",
       "    </tr>\n",
       "    <tr>\n",
       "      <th>NoEmp</th>\n",
       "      <td>0.064278</td>\n",
       "      <td>1.000000</td>\n",
       "      <td>0.097736</td>\n",
       "      <td>-0.071516</td>\n",
       "      <td>-0.065882</td>\n",
       "      <td>0.020497</td>\n",
       "      <td>-0.072660</td>\n",
       "      <td>0.126662</td>\n",
       "    </tr>\n",
       "    <tr>\n",
       "      <th>NewExist</th>\n",
       "      <td>0.243576</td>\n",
       "      <td>0.097736</td>\n",
       "      <td>1.000000</td>\n",
       "      <td>-0.070633</td>\n",
       "      <td>-0.083904</td>\n",
       "      <td>0.276117</td>\n",
       "      <td>0.094672</td>\n",
       "      <td>0.117019</td>\n",
       "    </tr>\n",
       "    <tr>\n",
       "      <th>CreateJob</th>\n",
       "      <td>-0.055827</td>\n",
       "      <td>-0.071516</td>\n",
       "      <td>-0.070633</td>\n",
       "      <td>1.000000</td>\n",
       "      <td>0.142599</td>\n",
       "      <td>0.133880</td>\n",
       "      <td>0.045403</td>\n",
       "      <td>0.017728</td>\n",
       "    </tr>\n",
       "    <tr>\n",
       "      <th>RetainedJob</th>\n",
       "      <td>0.061669</td>\n",
       "      <td>-0.065882</td>\n",
       "      <td>-0.083904</td>\n",
       "      <td>0.142599</td>\n",
       "      <td>1.000000</td>\n",
       "      <td>-0.039652</td>\n",
       "      <td>0.170878</td>\n",
       "      <td>0.137466</td>\n",
       "    </tr>\n",
       "    <tr>\n",
       "      <th>FranchiseCode</th>\n",
       "      <td>0.010839</td>\n",
       "      <td>0.020497</td>\n",
       "      <td>0.276117</td>\n",
       "      <td>0.133880</td>\n",
       "      <td>-0.039652</td>\n",
       "      <td>1.000000</td>\n",
       "      <td>0.134167</td>\n",
       "      <td>0.130817</td>\n",
       "    </tr>\n",
       "    <tr>\n",
       "      <th>UrbanRural</th>\n",
       "      <td>0.420341</td>\n",
       "      <td>-0.072660</td>\n",
       "      <td>0.094672</td>\n",
       "      <td>0.045403</td>\n",
       "      <td>0.170878</td>\n",
       "      <td>0.134167</td>\n",
       "      <td>1.000000</td>\n",
       "      <td>0.069750</td>\n",
       "    </tr>\n",
       "    <tr>\n",
       "      <th>MIS_Status</th>\n",
       "      <td>0.047393</td>\n",
       "      <td>0.126662</td>\n",
       "      <td>0.117019</td>\n",
       "      <td>0.017728</td>\n",
       "      <td>0.137466</td>\n",
       "      <td>0.130817</td>\n",
       "      <td>0.069750</td>\n",
       "      <td>1.000000</td>\n",
       "    </tr>\n",
       "  </tbody>\n",
       "</table>\n",
       "</div>"
      ],
      "text/plain": [
       "                  NAICS     NoEmp  NewExist  CreateJob  RetainedJob  \\\n",
       "NAICS          1.000000  0.064278  0.243576  -0.055827     0.061669   \n",
       "NoEmp          0.064278  1.000000  0.097736  -0.071516    -0.065882   \n",
       "NewExist       0.243576  0.097736  1.000000  -0.070633    -0.083904   \n",
       "CreateJob     -0.055827 -0.071516 -0.070633   1.000000     0.142599   \n",
       "RetainedJob    0.061669 -0.065882 -0.083904   0.142599     1.000000   \n",
       "FranchiseCode  0.010839  0.020497  0.276117   0.133880    -0.039652   \n",
       "UrbanRural     0.420341 -0.072660  0.094672   0.045403     0.170878   \n",
       "MIS_Status     0.047393  0.126662  0.117019   0.017728     0.137466   \n",
       "\n",
       "               FranchiseCode  UrbanRural  MIS_Status  \n",
       "NAICS               0.010839    0.420341    0.047393  \n",
       "NoEmp               0.020497   -0.072660    0.126662  \n",
       "NewExist            0.276117    0.094672    0.117019  \n",
       "CreateJob           0.133880    0.045403    0.017728  \n",
       "RetainedJob        -0.039652    0.170878    0.137466  \n",
       "FranchiseCode       1.000000    0.134167    0.130817  \n",
       "UrbanRural          0.134167    1.000000    0.069750  \n",
       "MIS_Status          0.130817    0.069750    1.000000  "
      ]
     },
     "execution_count": 96,
     "metadata": {},
     "output_type": "execute_result"
    }
   ],
   "source": [
    "dfgros.corr()"
   ]
  },
  {
   "cell_type": "markdown",
   "metadata": {},
   "source": [
    "l'on observe que pour les grosse entreprise , plus de 1000 employé , il y a une différence significative de la correlation entre No EMP et MIS_status \n",
    "le souci étant que dans notre jeux de donnée , il y a peu d'entreprise ayant plus de mille donnée \n",
    "idée : utiliser la méthode francaise et regrouper en grande entreprise , petite entreprise , et moyenne entreprise "
   ]
  },
  {
   "cell_type": "code",
   "execution_count": null,
   "metadata": {},
   "outputs": [],
   "source": []
  },
  {
   "cell_type": "code",
   "execution_count": null,
   "metadata": {},
   "outputs": [
    {
     "data": {
      "text/plain": [
       "<AxesSubplot: xlabel='MIS_Status', ylabel='NoEmp'>"
      ]
     },
     "execution_count": 97,
     "metadata": {},
     "output_type": "execute_result"
    },
    {
     "data": {
      "image/png": "[encoded data removed]",
      "text/plain": [
       "<Figure size 640x480 with 1 Axes>"
      ]
     },
     "metadata": {},
     "output_type": "display_data"
    }
   ],
   "source": [
    "sns.boxplot(x=dfgros.MIS_Status , y = dfgros.NoEmp)"
   ]
  },
  {
   "cell_type": "code",
   "execution_count": null,
   "metadata": {},
   "outputs": [
    {
     "data": {
      "text/plain": [
       "<AxesSubplot: xlabel='MIS_Status', ylabel='NoEmp'>"
      ]
     },
     "execution_count": 98,
     "metadata": {},
     "output_type": "execute_result"
    },
    {
     "data": {
      "image/png": "[encoded data removed]",
      "text/plain": [
       "<Figure size 640x480 with 1 Axes>"
      ]
     },
     "metadata": {},
     "output_type": "display_data"
    }
   ],
   "source": [
    "sns.boxplot(x=df.MIS_Status , y = df.NoEmp)"
   ]
  },
  {
   "cell_type": "code",
   "execution_count": null,
   "metadata": {},
   "outputs": [
    {
     "data": {
      "text/plain": [
       "<AxesSubplot: xlabel='MIS_Status', ylabel='NAICS'>"
      ]
     },
     "execution_count": 99,
     "metadata": {},
     "output_type": "execute_result"
    },
    {
     "data": {
      "image/png": "[encoded data removed]",
      "text/plain": [
       "<Figure size 640x480 with 1 Axes>"
      ]
     },
     "metadata": {},
     "output_type": "display_data"
    }
   ],
   "source": [
    "sns.boxplot(x=dfgros.MIS_Status , y = dfgros.NAICS)"
   ]
  },
  {
   "cell_type": "code",
   "execution_count": null,
   "metadata": {},
   "outputs": [],
   "source": [
    "df[\"NAICS2\"] = df[\"NAICS\"].astype(str).apply(lambda x:x[:2])"
   ]
  },
  {
   "cell_type": "code",
   "execution_count": null,
   "metadata": {},
   "outputs": [
    {
     "data": {
      "text/plain": [
       "0         45\n",
       "1         72\n",
       "2         62\n",
       "3          0\n",
       "4          0\n",
       "          ..\n",
       "897989    45\n",
       "897990    45\n",
       "897991    33\n",
       "897992     0\n",
       "897993     0\n",
       "Name: NAICS2, Length: 897994, dtype: object"
      ]
     },
     "execution_count": 101,
     "metadata": {},
     "output_type": "execute_result"
    }
   ],
   "source": [
    "df[\"NAICS2\"]"
   ]
  },
  {
   "cell_type": "code",
   "execution_count": null,
   "metadata": {},
   "outputs": [],
   "source": [
    "df[\"dummy\"] = 1"
   ]
  },
  {
   "cell_type": "code",
   "execution_count": null,
   "metadata": {},
   "outputs": [],
   "source": [
    "secteur = df.groupby(df[\"NAICS2\"]).sum()"
   ]
  },
  {
   "cell_type": "code",
   "execution_count": null,
   "metadata": {},
   "outputs": [
    {
     "data": {
      "text/plain": [
       "NAICS2\n",
       "0     16780\n",
       "11      812\n",
       "21      157\n",
       "22       94\n",
       "23    15459\n",
       "31     2292\n",
       "32     2934\n",
       "33     5208\n",
       "42     9477\n",
       "44    18928\n",
       "45     9927\n",
       "48     5429\n",
       "49      508\n",
       "51     2820\n",
       "52     2692\n",
       "53     3904\n",
       "54    12956\n",
       "55       26\n",
       "56     7658\n",
       "61     1550\n",
       "62     5734\n",
       "71     3009\n",
       "72    14869\n",
       "81    14223\n",
       "92       35\n",
       "Name: MIS_Status, dtype: int64"
      ]
     },
     "execution_count": 104,
     "metadata": {},
     "output_type": "execute_result"
    }
   ],
   "source": [
    "secteur[\"MIS_Status\"]"
   ]
  },
  {
   "cell_type": "code",
   "execution_count": null,
   "metadata": {},
   "outputs": [
    {
     "data": {
      "text/html": [
       "<div>\n",
       "<style scoped>\n",
       "    .dataframe tbody tr th:only-of-type {\n",
       "        vertical-align: middle;\n",
       "    }\n",
       "\n",
       "    .dataframe tbody tr th {\n",
       "        vertical-align: top;\n",
       "    }\n",
       "\n",
       "    .dataframe thead th {\n",
       "        text-align: right;\n",
       "    }\n",
       "</style>\n",
       "<table border=\"1\" class=\"dataframe\">\n",
       "  <thead>\n",
       "    <tr style=\"text-align: right;\">\n",
       "      <th></th>\n",
       "      <th>NAICS</th>\n",
       "      <th>NoEmp</th>\n",
       "      <th>NewExist</th>\n",
       "      <th>CreateJob</th>\n",
       "      <th>RetainedJob</th>\n",
       "      <th>FranchiseCode</th>\n",
       "      <th>UrbanRural</th>\n",
       "      <th>MIS_Status</th>\n",
       "      <th>dummy</th>\n",
       "    </tr>\n",
       "    <tr>\n",
       "      <th>NAICS2</th>\n",
       "      <th></th>\n",
       "      <th></th>\n",
       "      <th></th>\n",
       "      <th></th>\n",
       "      <th></th>\n",
       "      <th></th>\n",
       "      <th></th>\n",
       "      <th></th>\n",
       "      <th></th>\n",
       "    </tr>\n",
       "  </thead>\n",
       "  <tbody>\n",
       "    <tr>\n",
       "      <th>0</th>\n",
       "      <td>0</td>\n",
       "      <td>3375688</td>\n",
       "      <td>59605.0</td>\n",
       "      <td>6033923</td>\n",
       "      <td>6110410</td>\n",
       "      <td>16828</td>\n",
       "      <td>26555</td>\n",
       "      <td>16780</td>\n",
       "      <td>201644</td>\n",
       "    </tr>\n",
       "    <tr>\n",
       "      <th>11</th>\n",
       "      <td>1014884022</td>\n",
       "      <td>46457</td>\n",
       "      <td>2903.0</td>\n",
       "      <td>7093</td>\n",
       "      <td>17106</td>\n",
       "      <td>9</td>\n",
       "      <td>7825</td>\n",
       "      <td>812</td>\n",
       "      <td>8983</td>\n",
       "    </tr>\n",
       "    <tr>\n",
       "      <th>21</th>\n",
       "      <td>392994484</td>\n",
       "      <td>19663</td>\n",
       "      <td>551.0</td>\n",
       "      <td>2704</td>\n",
       "      <td>6625</td>\n",
       "      <td>4</td>\n",
       "      <td>1748</td>\n",
       "      <td>157</td>\n",
       "      <td>1847</td>\n",
       "    </tr>\n",
       "    <tr>\n",
       "      <th>22</th>\n",
       "      <td>146477879</td>\n",
       "      <td>5448</td>\n",
       "      <td>174.0</td>\n",
       "      <td>579</td>\n",
       "      <td>2219</td>\n",
       "      <td>11</td>\n",
       "      <td>594</td>\n",
       "      <td>94</td>\n",
       "      <td>662</td>\n",
       "    </tr>\n",
       "    <tr>\n",
       "      <th>23</th>\n",
       "      <td>15757736279</td>\n",
       "      <td>760941</td>\n",
       "      <td>11323.0</td>\n",
       "      <td>123173</td>\n",
       "      <td>385182</td>\n",
       "      <td>521</td>\n",
       "      <td>64348</td>\n",
       "      <td>15459</td>\n",
       "      <td>66575</td>\n",
       "    </tr>\n",
       "    <tr>\n",
       "      <th>31</th>\n",
       "      <td>3689615239</td>\n",
       "      <td>206830</td>\n",
       "      <td>3053.0</td>\n",
       "      <td>38109</td>\n",
       "      <td>93468</td>\n",
       "      <td>441</td>\n",
       "      <td>10727</td>\n",
       "      <td>2292</td>\n",
       "      <td>11787</td>\n",
       "    </tr>\n",
       "    <tr>\n",
       "      <th>32</th>\n",
       "      <td>5808311070</td>\n",
       "      <td>317484</td>\n",
       "      <td>3603.0</td>\n",
       "      <td>54096</td>\n",
       "      <td>144207</td>\n",
       "      <td>455</td>\n",
       "      <td>16225</td>\n",
       "      <td>2934</td>\n",
       "      <td>17910</td>\n",
       "    </tr>\n",
       "    <tr>\n",
       "      <th>33</th>\n",
       "      <td>12811777618</td>\n",
       "      <td>705566</td>\n",
       "      <td>6964.0</td>\n",
       "      <td>106226</td>\n",
       "      <td>288980</td>\n",
       "      <td>266</td>\n",
       "      <td>32742</td>\n",
       "      <td>5208</td>\n",
       "      <td>38223</td>\n",
       "    </tr>\n",
       "    <tr>\n",
       "      <th>42</th>\n",
       "      <td>20586184880</td>\n",
       "      <td>496389</td>\n",
       "      <td>8622.0</td>\n",
       "      <td>86487</td>\n",
       "      <td>223892</td>\n",
       "      <td>375</td>\n",
       "      <td>39945</td>\n",
       "      <td>9477</td>\n",
       "      <td>48663</td>\n",
       "    </tr>\n",
       "    <tr>\n",
       "      <th>44</th>\n",
       "      <td>37661386881</td>\n",
       "      <td>609727</td>\n",
       "      <td>24094.0</td>\n",
       "      <td>141683</td>\n",
       "      <td>330080</td>\n",
       "      <td>4631</td>\n",
       "      <td>80578</td>\n",
       "      <td>18928</td>\n",
       "      <td>84643</td>\n",
       "    </tr>\n",
       "    <tr>\n",
       "      <th>45</th>\n",
       "      <td>19238368595</td>\n",
       "      <td>263205</td>\n",
       "      <td>15346.0</td>\n",
       "      <td>44638</td>\n",
       "      <td>116361</td>\n",
       "      <td>2552</td>\n",
       "      <td>36047</td>\n",
       "      <td>9927</td>\n",
       "      <td>42483</td>\n",
       "    </tr>\n",
       "    <tr>\n",
       "      <th>48</th>\n",
       "      <td>9847317123</td>\n",
       "      <td>167134</td>\n",
       "      <td>5347.0</td>\n",
       "      <td>34528</td>\n",
       "      <td>116019</td>\n",
       "      <td>170</td>\n",
       "      <td>23656</td>\n",
       "      <td>5429</td>\n",
       "      <td>20298</td>\n",
       "    </tr>\n",
       "    <tr>\n",
       "      <th>49</th>\n",
       "      <td>1093328920</td>\n",
       "      <td>24567</td>\n",
       "      <td>652.0</td>\n",
       "      <td>5857</td>\n",
       "      <td>17187</td>\n",
       "      <td>212</td>\n",
       "      <td>2375</td>\n",
       "      <td>508</td>\n",
       "      <td>2221</td>\n",
       "    </tr>\n",
       "    <tr>\n",
       "      <th>51</th>\n",
       "      <td>5839026527</td>\n",
       "      <td>94452</td>\n",
       "      <td>2960.0</td>\n",
       "      <td>23272</td>\n",
       "      <td>53660</td>\n",
       "      <td>81</td>\n",
       "      <td>10682</td>\n",
       "      <td>2820</td>\n",
       "      <td>11366</td>\n",
       "    </tr>\n",
       "    <tr>\n",
       "      <th>52</th>\n",
       "      <td>4967276055</td>\n",
       "      <td>65379</td>\n",
       "      <td>1864.0</td>\n",
       "      <td>19239</td>\n",
       "      <td>43993</td>\n",
       "      <td>100</td>\n",
       "      <td>10208</td>\n",
       "      <td>2692</td>\n",
       "      <td>9486</td>\n",
       "    </tr>\n",
       "    <tr>\n",
       "      <th>53</th>\n",
       "      <td>7243930654</td>\n",
       "      <td>100263</td>\n",
       "      <td>3587.0</td>\n",
       "      <td>22036</td>\n",
       "      <td>59376</td>\n",
       "      <td>552</td>\n",
       "      <td>13881</td>\n",
       "      <td>3904</td>\n",
       "      <td>13625</td>\n",
       "    </tr>\n",
       "    <tr>\n",
       "      <th>54</th>\n",
       "      <td>36884680073</td>\n",
       "      <td>520461</td>\n",
       "      <td>15747.0</td>\n",
       "      <td>119204</td>\n",
       "      <td>306409</td>\n",
       "      <td>658</td>\n",
       "      <td>62069</td>\n",
       "      <td>12956</td>\n",
       "      <td>68113</td>\n",
       "    </tr>\n",
       "    <tr>\n",
       "      <th>55</th>\n",
       "      <td>141635778</td>\n",
       "      <td>3702</td>\n",
       "      <td>69.0</td>\n",
       "      <td>837</td>\n",
       "      <td>1889</td>\n",
       "      <td>6</td>\n",
       "      <td>188</td>\n",
       "      <td>26</td>\n",
       "      <td>257</td>\n",
       "    </tr>\n",
       "    <tr>\n",
       "      <th>56</th>\n",
       "      <td>18339991549</td>\n",
       "      <td>376701</td>\n",
       "      <td>8021.0</td>\n",
       "      <td>75923</td>\n",
       "      <td>238804</td>\n",
       "      <td>1780</td>\n",
       "      <td>34017</td>\n",
       "      <td>7658</td>\n",
       "      <td>32651</td>\n",
       "    </tr>\n",
       "    <tr>\n",
       "      <th>61</th>\n",
       "      <td>3924455150</td>\n",
       "      <td>64332</td>\n",
       "      <td>2194.0</td>\n",
       "      <td>17704</td>\n",
       "      <td>40025</td>\n",
       "      <td>459</td>\n",
       "      <td>6966</td>\n",
       "      <td>1550</td>\n",
       "      <td>6417</td>\n",
       "    </tr>\n",
       "    <tr>\n",
       "      <th>62</th>\n",
       "      <td>34386948635</td>\n",
       "      <td>490058</td>\n",
       "      <td>19706.0</td>\n",
       "      <td>112023</td>\n",
       "      <td>237646</td>\n",
       "      <td>934</td>\n",
       "      <td>45757</td>\n",
       "      <td>5734</td>\n",
       "      <td>55285</td>\n",
       "    </tr>\n",
       "    <tr>\n",
       "      <th>71</th>\n",
       "      <td>10427135144</td>\n",
       "      <td>143038</td>\n",
       "      <td>5791.0</td>\n",
       "      <td>39226</td>\n",
       "      <td>66465</td>\n",
       "      <td>1203</td>\n",
       "      <td>13709</td>\n",
       "      <td>3009</td>\n",
       "      <td>14616</td>\n",
       "    </tr>\n",
       "    <tr>\n",
       "      <th>72</th>\n",
       "      <td>48718865373</td>\n",
       "      <td>831655</td>\n",
       "      <td>28324.0</td>\n",
       "      <td>324562</td>\n",
       "      <td>523927</td>\n",
       "      <td>15095</td>\n",
       "      <td>76458</td>\n",
       "      <td>14869</td>\n",
       "      <td>67473</td>\n",
       "    </tr>\n",
       "    <tr>\n",
       "      <th>81</th>\n",
       "      <td>58880577515</td>\n",
       "      <td>546499</td>\n",
       "      <td>22536.0</td>\n",
       "      <td>114323</td>\n",
       "      <td>253675</td>\n",
       "      <td>4349</td>\n",
       "      <td>63085</td>\n",
       "      <td>14223</td>\n",
       "      <td>72537</td>\n",
       "    </tr>\n",
       "    <tr>\n",
       "      <th>92</th>\n",
       "      <td>211650170</td>\n",
       "      <td>1334</td>\n",
       "      <td>89.0</td>\n",
       "      <td>217</td>\n",
       "      <td>537</td>\n",
       "      <td>3</td>\n",
       "      <td>114</td>\n",
       "      <td>35</td>\n",
       "      <td>229</td>\n",
       "    </tr>\n",
       "  </tbody>\n",
       "</table>\n",
       "</div>"
      ],
      "text/plain": [
       "              NAICS    NoEmp  NewExist  CreateJob  RetainedJob  FranchiseCode  \\\n",
       "NAICS2                                                                          \n",
       "0                 0  3375688   59605.0    6033923      6110410          16828   \n",
       "11       1014884022    46457    2903.0       7093        17106              9   \n",
       "21        392994484    19663     551.0       2704         6625              4   \n",
       "22        146477879     5448     174.0        579         2219             11   \n",
       "23      15757736279   760941   11323.0     123173       385182            521   \n",
       "31       3689615239   206830    3053.0      38109        93468            441   \n",
       "32       5808311070   317484    3603.0      54096       144207            455   \n",
       "33      12811777618   705566    6964.0     106226       288980            266   \n",
       "42      20586184880   496389    8622.0      86487       223892            375   \n",
       "44      37661386881   609727   24094.0     141683       330080           4631   \n",
       "45      19238368595   263205   15346.0      44638       116361           2552   \n",
       "48       9847317123   167134    5347.0      34528       116019            170   \n",
       "49       1093328920    24567     652.0       5857        17187            212   \n",
       "51       5839026527    94452    2960.0      23272        53660             81   \n",
       "52       4967276055    65379    1864.0      19239        43993            100   \n",
       "53       7243930654   100263    3587.0      22036        59376            552   \n",
       "54      36884680073   520461   15747.0     119204       306409            658   \n",
       "55        141635778     3702      69.0        837         1889              6   \n",
       "56      18339991549   376701    8021.0      75923       238804           1780   \n",
       "61       3924455150    64332    2194.0      17704        40025            459   \n",
       "62      34386948635   490058   19706.0     112023       237646            934   \n",
       "71      10427135144   143038    5791.0      39226        66465           1203   \n",
       "72      48718865373   831655   28324.0     324562       523927          15095   \n",
       "81      58880577515   546499   22536.0     114323       253675           4349   \n",
       "92        211650170     1334      89.0        217          537              3   \n",
       "\n",
       "        UrbanRural  MIS_Status   dummy  \n",
       "NAICS2                                  \n",
       "0            26555       16780  201644  \n",
       "11            7825         812    8983  \n",
       "21            1748         157    1847  \n",
       "22             594          94     662  \n",
       "23           64348       15459   66575  \n",
       "31           10727        2292   11787  \n",
       "32           16225        2934   17910  \n",
       "33           32742        5208   38223  \n",
       "42           39945        9477   48663  \n",
       "44           80578       18928   84643  \n",
       "45           36047        9927   42483  \n",
       "48           23656        5429   20298  \n",
       "49            2375         508    2221  \n",
       "51           10682        2820   11366  \n",
       "52           10208        2692    9486  \n",
       "53           13881        3904   13625  \n",
       "54           62069       12956   68113  \n",
       "55             188          26     257  \n",
       "56           34017        7658   32651  \n",
       "61            6966        1550    6417  \n",
       "62           45757        5734   55285  \n",
       "71           13709        3009   14616  \n",
       "72           76458       14869   67473  \n",
       "81           63085       14223   72537  \n",
       "92             114          35     229  "
      ]
     },
     "execution_count": 105,
     "metadata": {},
     "output_type": "execute_result"
    }
   ],
   "source": [
    "secteur"
   ]
  },
  {
   "cell_type": "code",
   "execution_count": null,
   "metadata": {},
   "outputs": [
    {
     "data": {
      "text/plain": [
       "<AxesSubplot: xlabel='MIS_Status', ylabel='NoEmp'>"
      ]
     },
     "execution_count": 106,
     "metadata": {},
     "output_type": "execute_result"
    },
    {
     "data": {
      "image/png": "[encoded data removed]",
      "text/plain": [
       "<Figure size 640x480 with 1 Axes>"
      ]
     },
     "metadata": {},
     "output_type": "display_data"
    }
   ],
   "source": [
    "sns.violinplot(x=secteur.MIS_Status,y=secteur.NoEmp)"
   ]
  },
  {
   "cell_type": "code",
   "execution_count": null,
   "metadata": {},
   "outputs": [],
   "source": [
    "df[\"pme\"] = df[\"NoEmp\"].apply(lambda x: 1 if x<250 else 0)"
   ]
  },
  {
   "cell_type": "code",
   "execution_count": null,
   "metadata": {},
   "outputs": [],
   "source": [
    "df[\"GE\"] = df[\"NoEmp\"].apply(lambda x: 1 if x>1000 else 0)"
   ]
  },
  {
   "cell_type": "code",
   "execution_count": null,
   "metadata": {},
   "outputs": [],
   "source": [
    "secteur[\"ratio\"] = secteur[\"MIS_Status\"]/secteur[\"dummy\"]"
   ]
  },
  {
   "cell_type": "code",
   "execution_count": null,
   "metadata": {},
   "outputs": [
    {
     "data": {
      "text/plain": [
       "NAICS2\n",
       "0     0.083216\n",
       "21    0.085003\n",
       "11    0.090393\n",
       "55    0.101167\n",
       "62    0.103717\n",
       "33    0.136253\n",
       "22    0.141994\n",
       "92    0.152838\n",
       "32    0.163819\n",
       "54    0.190213\n",
       "31    0.194452\n",
       "42    0.194748\n",
       "81    0.196079\n",
       "71    0.205870\n",
       "72    0.220370\n",
       "44    0.223622\n",
       "49    0.228726\n",
       "23    0.232204\n",
       "45    0.233670\n",
       "56    0.234541\n",
       "61    0.241546\n",
       "51    0.248108\n",
       "48    0.267465\n",
       "52    0.283787\n",
       "53    0.286532\n",
       "Name: ratio, dtype: float64"
      ]
     },
     "execution_count": 110,
     "metadata": {},
     "output_type": "execute_result"
    }
   ],
   "source": [
    "secteur[\"ratio\"].sort_values()"
   ]
  },
  {
   "cell_type": "markdown",
   "metadata": {},
   "source": [
    "Ceci nous permet de voir par secteur , ceux qui sont le plus touché par le non remboursement \n",
    "il semble que l'on ait des secteur touché trois fois plus que d'autre par exemple"
   ]
  },
  {
   "cell_type": "markdown",
   "metadata": {},
   "source": [
    "a y reflechir , il serait interresant de trouver le regroupement Americain afin de creer plus particulièrement des categories petite entreprise et grosse entreprise americaine , qui on on le suspecte fort , des régime fiscal différent , et sont donc traité différement par la banque \n",
    "( si ils raisonne par categorie , nous devrons le faire nous aussi)   ( c'est dans l'historique même de la SBA )"
   ]
  },
  {
   "cell_type": "code",
   "execution_count": null,
   "metadata": {},
   "outputs": [
    {
     "name": "stderr",
     "output_type": "stream",
     "text": [
      "/tmp/ipykernel_76301/151860394.py:1: FutureWarning: The default value of numeric_only in DataFrameGroupBy.sum is deprecated. In a future version, numeric_only will default to False. Either specify numeric_only or select only columns which should be valid for the function.\n",
      "  df_rur = df.groupby(df.UrbanRural).sum()\n"
     ]
    }
   ],
   "source": [
    "df_rur = df.groupby(df.UrbanRural).sum()"
   ]
  },
  {
   "cell_type": "code",
   "execution_count": null,
   "metadata": {},
   "outputs": [
    {
     "data": {
      "text/html": [
       "<div>\n",
       "<style scoped>\n",
       "    .dataframe tbody tr th:only-of-type {\n",
       "        vertical-align: middle;\n",
       "    }\n",
       "\n",
       "    .dataframe tbody tr th {\n",
       "        vertical-align: top;\n",
       "    }\n",
       "\n",
       "    .dataframe thead th {\n",
       "        text-align: right;\n",
       "    }\n",
       "</style>\n",
       "<table border=\"1\" class=\"dataframe\">\n",
       "  <thead>\n",
       "    <tr style=\"text-align: right;\">\n",
       "      <th></th>\n",
       "      <th>NAICS</th>\n",
       "      <th>NoEmp</th>\n",
       "      <th>NewExist</th>\n",
       "      <th>CreateJob</th>\n",
       "      <th>RetainedJob</th>\n",
       "      <th>FranchiseCode</th>\n",
       "      <th>MIS_Status</th>\n",
       "      <th>dummy</th>\n",
       "      <th>pme</th>\n",
       "      <th>GE</th>\n",
       "    </tr>\n",
       "    <tr>\n",
       "      <th>UrbanRural</th>\n",
       "      <th></th>\n",
       "      <th></th>\n",
       "      <th></th>\n",
       "      <th></th>\n",
       "      <th></th>\n",
       "      <th></th>\n",
       "      <th></th>\n",
       "      <th></th>\n",
       "      <th></th>\n",
       "      <th></th>\n",
       "    </tr>\n",
       "  </thead>\n",
       "  <tbody>\n",
       "    <tr>\n",
       "      <th>0</th>\n",
       "      <td>70911774321</td>\n",
       "      <td>5181664</td>\n",
       "      <td>88072.0</td>\n",
       "      <td>6155245</td>\n",
       "      <td>6243954</td>\n",
       "      <td>19749</td>\n",
       "      <td>22952</td>\n",
       "      <td>322653</td>\n",
       "      <td>321819</td>\n",
       "      <td>183</td>\n",
       "    </tr>\n",
       "    <tr>\n",
       "      <th>1</th>\n",
       "      <td>236165124526</td>\n",
       "      <td>4149250</td>\n",
       "      <td>130103.0</td>\n",
       "      <td>1162777</td>\n",
       "      <td>2940182</td>\n",
       "      <td>25998</td>\n",
       "      <td>114829</td>\n",
       "      <td>470183</td>\n",
       "      <td>469750</td>\n",
       "      <td>60</td>\n",
       "    </tr>\n",
       "    <tr>\n",
       "      <th>2</th>\n",
       "      <td>50937656766</td>\n",
       "      <td>906059</td>\n",
       "      <td>34950.0</td>\n",
       "      <td>229640</td>\n",
       "      <td>494006</td>\n",
       "      <td>5948</td>\n",
       "      <td>19700</td>\n",
       "      <td>105158</td>\n",
       "      <td>105072</td>\n",
       "      <td>7</td>\n",
       "    </tr>\n",
       "  </tbody>\n",
       "</table>\n",
       "</div>"
      ],
      "text/plain": [
       "                   NAICS    NoEmp  NewExist  CreateJob  RetainedJob  \\\n",
       "UrbanRural                                                            \n",
       "0            70911774321  5181664   88072.0    6155245      6243954   \n",
       "1           236165124526  4149250  130103.0    1162777      2940182   \n",
       "2            50937656766   906059   34950.0     229640       494006   \n",
       "\n",
       "            FranchiseCode  MIS_Status   dummy     pme   GE  \n",
       "UrbanRural                                                  \n",
       "0                   19749       22952  322653  321819  183  \n",
       "1                   25998      114829  470183  469750   60  \n",
       "2                    5948       19700  105158  105072    7  "
      ]
     },
     "execution_count": 112,
     "metadata": {},
     "output_type": "execute_result"
    }
   ],
   "source": [
    "df_rur"
   ]
  },
  {
   "cell_type": "code",
   "execution_count": null,
   "metadata": {},
   "outputs": [],
   "source": [
    "df_rur[\"ratio\"] = df_rur[\"MIS_Status\"]/df_rur[\"dummy\"]"
   ]
  },
  {
   "cell_type": "code",
   "execution_count": null,
   "metadata": {},
   "outputs": [
    {
     "data": {
      "text/plain": [
       "UrbanRural\n",
       "0    0.071135\n",
       "1    0.244222\n",
       "2    0.187337\n",
       "Name: ratio, dtype: float64"
      ]
     },
     "execution_count": 114,
     "metadata": {},
     "output_type": "execute_result"
    }
   ],
   "source": [
    "df_rur[\"ratio\"]"
   ]
  },
  {
   "cell_type": "markdown",
   "metadata": {},
   "source": [
    "on voit ici une tres grosse disparité entre le fait d'être Urbain ou Rural , les milieux rural ayant plus de 3 fois plus de chance de ne pas payer ( c'est ce que l'on appele l'inégalité géographique)\n"
   ]
  },
  {
   "cell_type": "markdown",
   "metadata": {},
   "source": []
  },
  {
   "cell_type": "code",
   "execution_count": null,
   "metadata": {},
   "outputs": [
    {
     "name": "stderr",
     "output_type": "stream",
     "text": [
      "/tmp/ipykernel_76301/727435599.py:1: FutureWarning: The default value of numeric_only in DataFrameGroupBy.sum is deprecated. In a future version, numeric_only will default to False. Either specify numeric_only or select only columns which should be valid for the function.\n",
      "  dfmis= df.groupby(df.MIS_Status).sum()\n"
     ]
    }
   ],
   "source": [
    "dfmis= df.groupby(df.MIS_Status).sum()"
   ]
  },
  {
   "cell_type": "code",
   "execution_count": null,
   "metadata": {},
   "outputs": [
    {
     "data": {
      "text/html": [
       "<div>\n",
       "<style scoped>\n",
       "    .dataframe tbody tr th:only-of-type {\n",
       "        vertical-align: middle;\n",
       "    }\n",
       "\n",
       "    .dataframe tbody tr th {\n",
       "        vertical-align: top;\n",
       "    }\n",
       "\n",
       "    .dataframe thead th {\n",
       "        text-align: right;\n",
       "    }\n",
       "</style>\n",
       "<table border=\"1\" class=\"dataframe\">\n",
       "  <thead>\n",
       "    <tr style=\"text-align: right;\">\n",
       "      <th></th>\n",
       "      <th>NAICS</th>\n",
       "      <th>NoEmp</th>\n",
       "      <th>NewExist</th>\n",
       "      <th>CreateJob</th>\n",
       "      <th>RetainedJob</th>\n",
       "      <th>FranchiseCode</th>\n",
       "      <th>UrbanRural</th>\n",
       "      <th>dummy</th>\n",
       "      <th>pme</th>\n",
       "      <th>GE</th>\n",
       "    </tr>\n",
       "    <tr>\n",
       "      <th>MIS_Status</th>\n",
       "      <th></th>\n",
       "      <th></th>\n",
       "      <th></th>\n",
       "      <th></th>\n",
       "      <th></th>\n",
       "      <th></th>\n",
       "      <th></th>\n",
       "      <th></th>\n",
       "      <th></th>\n",
       "      <th></th>\n",
       "    </tr>\n",
       "  </thead>\n",
       "  <tbody>\n",
       "    <tr>\n",
       "      <th>0</th>\n",
       "      <td>285721748043</td>\n",
       "      <td>9106275</td>\n",
       "      <td>205758.0</td>\n",
       "      <td>5263396</td>\n",
       "      <td>6983348</td>\n",
       "      <td>43845</td>\n",
       "      <td>526270</td>\n",
       "      <td>740513</td>\n",
       "      <td>739233</td>\n",
       "      <td>231</td>\n",
       "    </tr>\n",
       "    <tr>\n",
       "      <th>1</th>\n",
       "      <td>72292807570</td>\n",
       "      <td>1130698</td>\n",
       "      <td>47367.0</td>\n",
       "      <td>2284266</td>\n",
       "      <td>2694794</td>\n",
       "      <td>7850</td>\n",
       "      <td>154229</td>\n",
       "      <td>157481</td>\n",
       "      <td>157408</td>\n",
       "      <td>19</td>\n",
       "    </tr>\n",
       "  </tbody>\n",
       "</table>\n",
       "</div>"
      ],
      "text/plain": [
       "                   NAICS    NoEmp  NewExist  CreateJob  RetainedJob  \\\n",
       "MIS_Status                                                            \n",
       "0           285721748043  9106275  205758.0    5263396      6983348   \n",
       "1            72292807570  1130698   47367.0    2284266      2694794   \n",
       "\n",
       "            FranchiseCode  UrbanRural   dummy     pme   GE  \n",
       "MIS_Status                                                  \n",
       "0                   43845      526270  740513  739233  231  \n",
       "1                    7850      154229  157481  157408   19  "
      ]
     },
     "execution_count": 116,
     "metadata": {},
     "output_type": "execute_result"
    }
   ],
   "source": [
    "dfmis"
   ]
  },
  {
   "cell_type": "code",
   "execution_count": null,
   "metadata": {},
   "outputs": [],
   "source": [
    "dfmis[\"ratio\"] = dfmis[\"pme\"]/dfmis.dummy"
   ]
  },
  {
   "cell_type": "code",
   "execution_count": null,
   "metadata": {},
   "outputs": [],
   "source": [
    "dfmis[\"ratio2\"] = dfmis[\"GE\"]/dfmis.dummy"
   ]
  },
  {
   "cell_type": "code",
   "execution_count": null,
   "metadata": {},
   "outputs": [
    {
     "data": {
      "text/html": [
       "<div>\n",
       "<style scoped>\n",
       "    .dataframe tbody tr th:only-of-type {\n",
       "        vertical-align: middle;\n",
       "    }\n",
       "\n",
       "    .dataframe tbody tr th {\n",
       "        vertical-align: top;\n",
       "    }\n",
       "\n",
       "    .dataframe thead th {\n",
       "        text-align: right;\n",
       "    }\n",
       "</style>\n",
       "<table border=\"1\" class=\"dataframe\">\n",
       "  <thead>\n",
       "    <tr style=\"text-align: right;\">\n",
       "      <th></th>\n",
       "      <th>NAICS</th>\n",
       "      <th>NoEmp</th>\n",
       "      <th>NewExist</th>\n",
       "      <th>CreateJob</th>\n",
       "      <th>RetainedJob</th>\n",
       "      <th>FranchiseCode</th>\n",
       "      <th>UrbanRural</th>\n",
       "      <th>dummy</th>\n",
       "      <th>pme</th>\n",
       "      <th>GE</th>\n",
       "      <th>ratio</th>\n",
       "      <th>ratio2</th>\n",
       "    </tr>\n",
       "    <tr>\n",
       "      <th>MIS_Status</th>\n",
       "      <th></th>\n",
       "      <th></th>\n",
       "      <th></th>\n",
       "      <th></th>\n",
       "      <th></th>\n",
       "      <th></th>\n",
       "      <th></th>\n",
       "      <th></th>\n",
       "      <th></th>\n",
       "      <th></th>\n",
       "      <th></th>\n",
       "      <th></th>\n",
       "    </tr>\n",
       "  </thead>\n",
       "  <tbody>\n",
       "    <tr>\n",
       "      <th>0</th>\n",
       "      <td>285721748043</td>\n",
       "      <td>9106275</td>\n",
       "      <td>205758.0</td>\n",
       "      <td>5263396</td>\n",
       "      <td>6983348</td>\n",
       "      <td>43845</td>\n",
       "      <td>526270</td>\n",
       "      <td>740513</td>\n",
       "      <td>739233</td>\n",
       "      <td>231</td>\n",
       "      <td>0.998271</td>\n",
       "      <td>0.000312</td>\n",
       "    </tr>\n",
       "    <tr>\n",
       "      <th>1</th>\n",
       "      <td>72292807570</td>\n",
       "      <td>1130698</td>\n",
       "      <td>47367.0</td>\n",
       "      <td>2284266</td>\n",
       "      <td>2694794</td>\n",
       "      <td>7850</td>\n",
       "      <td>154229</td>\n",
       "      <td>157481</td>\n",
       "      <td>157408</td>\n",
       "      <td>19</td>\n",
       "      <td>0.999536</td>\n",
       "      <td>0.000121</td>\n",
       "    </tr>\n",
       "  </tbody>\n",
       "</table>\n",
       "</div>"
      ],
      "text/plain": [
       "                   NAICS    NoEmp  NewExist  CreateJob  RetainedJob  \\\n",
       "MIS_Status                                                            \n",
       "0           285721748043  9106275  205758.0    5263396      6983348   \n",
       "1            72292807570  1130698   47367.0    2284266      2694794   \n",
       "\n",
       "            FranchiseCode  UrbanRural   dummy     pme   GE     ratio    ratio2  \n",
       "MIS_Status                                                                      \n",
       "0                   43845      526270  740513  739233  231  0.998271  0.000312  \n",
       "1                    7850      154229  157481  157408   19  0.999536  0.000121  "
      ]
     },
     "execution_count": 119,
     "metadata": {},
     "output_type": "execute_result"
    }
   ],
   "source": [
    "dfmis"
   ]
  },
  {
   "cell_type": "code",
   "execution_count": null,
   "metadata": {},
   "outputs": [
    {
     "data": {
      "text/plain": [
       "2.5888317955730358"
      ]
     },
     "execution_count": 125,
     "metadata": {},
     "output_type": "execute_result"
    }
   ],
   "source": [
    "(231/19) / (739233/157408)"
   ]
  },
  {
   "cell_type": "code",
   "execution_count": null,
   "metadata": {},
   "outputs": [
    {
     "data": {
      "text/plain": [
       "12.157894736842104"
      ]
     },
     "execution_count": 123,
     "metadata": {},
     "output_type": "execute_result"
    }
   ],
   "source": [
    "231/19"
   ]
  },
  {
   "cell_type": "code",
   "execution_count": null,
   "metadata": {},
   "outputs": [
    {
     "data": {
      "text/plain": [
       "4.696286084570034"
      ]
     },
     "execution_count": 124,
     "metadata": {},
     "output_type": "execute_result"
    }
   ],
   "source": [
    "739233/157408"
   ]
  },
  {
   "cell_type": "markdown",
   "metadata": {},
   "source": [
    "DE MANIERE interresante , on a plus de chance que une grande entreprise ne rembourse pas que une petite entreprise ne rembourse pas de lo'rdre de 2.5 fois plus de chance "
   ]
  },
  {
   "cell_type": "markdown",
   "metadata": {},
   "source": [
    "de manière logique il faut voir si cela n'est pas biaisé par une crise par exemple "
   ]
  },
  {
   "cell_type": "code",
   "execution_count": null,
   "metadata": {},
   "outputs": [],
   "source": [
    "# il nous reste encore a voir la colonne term et son impact \n",
    "# on va devoir changer le df , et faire du cleaning a nouveau "
   ]
  }
 ],
 "metadata": {
  "kernelspec": {
   "display_name": "Python 3.9.15 ('potages')",
   "language": "python",
   "name": "python3"
  },
  "language_info": {
   "codemirror_mode": {
    "name": "ipython",
    "version": 3
   },
   "file_extension": ".py",
   "mimetype": "text/x-python",
   "name": "python",
   "nbconvert_exporter": "python",
   "pygments_lexer": "ipython3",
   "version": "3.9.15"
  },
  "orig_nbformat": 4,
  "vscode": {
   "interpreter": {
    "hash": "be4f75b9bd78fe2cc5487b34db8fc5f8c44ba010e3355df68b2359faa8da5069"
   }
  }
 },
 "nbformat": 4,
 "nbformat_minor": 2
}
