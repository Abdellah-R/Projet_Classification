{
 "cells": [
  {
   "attachments": {},
   "cell_type": "markdown",
   "metadata": {},
   "source": [
    "# Importation des modules"
   ]
  },
  {
   "cell_type": "code",
   "execution_count": 209,
   "metadata": {},
   "outputs": [],
   "source": [
    "# Pour manipuler et visualiser les données\n",
    "import numpy as np\n",
    "import pandas as pd\n",
    "import matplotlib.pyplot as plt\n",
    "import seaborn as sns\n",
    "\n",
    "# Pour séparer et évaluer les données\n",
    "from sklearn.model_selection import train_test_split, cross_validate, KFold, learning_curve, GridSearchCV, RandomizedSearchCV\n",
    "\n",
    "# Pour préparer les données\n",
    "from sklearn.preprocessing import StandardScaler, OneHotEncoder\n",
    "from sklearn.compose import make_column_transformer\n",
    "from sklearn.pipeline import make_pipeline\n",
    "\n",
    "# Pour créer des arbres de classification\n",
    "from sklearn.dummy import DummyClassifier\n",
    "from sklearn.ensemble import RandomForestClassifier\n",
    "\n",
    "# Pour faire un modèle de régression logistique \n",
    "from sklearn.linear_model import LogisticRegression\n",
    "\n",
    "# Pour utiliser xgboost\n",
    "import xgboost as xgb\n",
    "\n",
    "# Pour utiliser les métriques\n",
    "from sklearn.metrics import accuracy_score, precision_score, recall_score, f1_score, roc_auc_score, confusion_matrix, classification_report\n",
    "\n",
    "# Pour exporter notre modèle\n",
    "import pickle"
   ]
  },
  {
   "attachments": {},
   "cell_type": "markdown",
   "metadata": {},
   "source": [
    "# Création du dataset et Dummy Classifier"
   ]
  },
  {
   "attachments": {},
   "cell_type": "markdown",
   "metadata": {},
   "source": [
    "On commence par créer un dataset avec les variables :\n",
    "<p style='color: #FFA07A'> NAICS, NoEmp, RetainedJob, UrbanRural, Term, UrbanRural, MIS_Status </p>"
   ]
  },
  {
   "cell_type": "code",
   "execution_count": 210,
   "metadata": {},
   "outputs": [
    {
     "name": "stderr",
     "output_type": "stream",
     "text": [
      "/tmp/ipykernel_6461/3668100114.py:1: DtypeWarning: Columns (8) have mixed types. Specify dtype option on import or set low_memory=False.\n",
      "  df = pd.read_csv(\"archive/SBAnational_clean.csv\")\n"
     ]
    }
   ],
   "source": [
    "df = pd.read_csv(\"archive/SBAnational_clean.csv\")"
   ]
  },
  {
   "cell_type": "code",
   "execution_count": 211,
   "metadata": {},
   "outputs": [],
   "source": [
    "# Pour le NAICS, on retient les deux premiers chiffres\n",
    "df['NAICS'] = df['NAICS'].astype(str).apply(lambda x: x[:2])\n",
    "df[['NAICS']] = df[['NAICS']].astype(int)"
   ]
  },
  {
   "cell_type": "code",
   "execution_count": 212,
   "metadata": {},
   "outputs": [],
   "source": [
    "# Dataframe contenant les variables explicatives\n",
    "X = df[['NAICS', 'NoEmp','RetainedJob', 'UrbanRural','Term']]\n",
    "\n",
    "# On transforme les valeurs de MIS_Status en 0 ou 1\n",
    "y = df['MIS_Status'].astype('category').cat.codes"
   ]
  },
  {
   "attachments": {},
   "cell_type": "markdown",
   "metadata": {},
   "source": [
    "On crée maintenant notre jeu de données d'entraînement et de test :"
   ]
  },
  {
   "cell_type": "code",
   "execution_count": 213,
   "metadata": {},
   "outputs": [],
   "source": [
    "X_train, X_test, y_train, y_test = train_test_split(X, y, shuffle=True, test_size=0.2, random_state=42, stratify=y)"
   ]
  },
  {
   "attachments": {},
   "cell_type": "markdown",
   "metadata": {},
   "source": [
    "On sépare les variables numériques et catégorielle :"
   ]
  },
  {
   "cell_type": "code",
   "execution_count": 214,
   "metadata": {},
   "outputs": [],
   "source": [
    "var_num = ['NoEmp','RetainedJob','Term']\n",
    "\n",
    "var_cat = ['NAICS', 'UrbanRural']"
   ]
  },
  {
   "attachments": {},
   "cell_type": "markdown",
   "metadata": {},
   "source": [
    "Puis on crée un transformateur de colonne :"
   ]
  },
  {
   "cell_type": "code",
   "execution_count": 215,
   "metadata": {},
   "outputs": [],
   "source": [
    "preprocessor = make_column_transformer(\n",
    "    (StandardScaler(), var_num),\n",
    "    (OneHotEncoder(), var_cat)\n",
    ")"
   ]
  },
  {
   "attachments": {},
   "cell_type": "markdown",
   "metadata": {},
   "source": [
    "On commence notre modélisation par un Dummy Classifier qui servira de point de comparaison :"
   ]
  },
  {
   "cell_type": "code",
   "execution_count": 216,
   "metadata": {},
   "outputs": [
    {
     "name": "stdout",
     "output_type": "stream",
     "text": [
      "              precision    recall  f1-score   support\n",
      "\n",
      "           0       0.00      0.00      0.00     31195\n",
      "           1       0.82      1.00      0.90    145830\n",
      "\n",
      "    accuracy                           0.82    177025\n",
      "   macro avg       0.41      0.50      0.45    177025\n",
      "weighted avg       0.68      0.82      0.74    177025\n",
      "\n"
     ]
    },
    {
     "name": "stderr",
     "output_type": "stream",
     "text": [
      "/home/apprenant/Documents/Projet_Classification/env/lib/python3.9/site-packages/sklearn/metrics/_classification.py:1344: UndefinedMetricWarning: Precision and F-score are ill-defined and being set to 0.0 in labels with no predicted samples. Use `zero_division` parameter to control this behavior.\n",
      "  _warn_prf(average, modifier, msg_start, len(result))\n",
      "/home/apprenant/Documents/Projet_Classification/env/lib/python3.9/site-packages/sklearn/metrics/_classification.py:1344: UndefinedMetricWarning: Precision and F-score are ill-defined and being set to 0.0 in labels with no predicted samples. Use `zero_division` parameter to control this behavior.\n",
      "  _warn_prf(average, modifier, msg_start, len(result))\n",
      "/home/apprenant/Documents/Projet_Classification/env/lib/python3.9/site-packages/sklearn/metrics/_classification.py:1344: UndefinedMetricWarning: Precision and F-score are ill-defined and being set to 0.0 in labels with no predicted samples. Use `zero_division` parameter to control this behavior.\n",
      "  _warn_prf(average, modifier, msg_start, len(result))\n"
     ]
    }
   ],
   "source": [
    "dummy = make_pipeline(preprocessor, DummyClassifier())\n",
    "\n",
    "dummy.fit(X_train, y_train)\n",
    "\n",
    "y_pred = dummy.predict(X_test)\n",
    "\n",
    "dummy_report = (classification_report(y_test, y_pred))\n",
    "print(dummy_report)"
   ]
  },
  {
   "attachments": {},
   "cell_type": "markdown",
   "metadata": {},
   "source": [
    "# Random Forest Classifier"
   ]
  },
  {
   "attachments": {},
   "cell_type": "markdown",
   "metadata": {},
   "source": [
    "Nous allons maintenant utiliser un Random Forest Classififier sans paramètres pour le comparer avec notre Dummy Classifier :"
   ]
  },
  {
   "cell_type": "code",
   "execution_count": 217,
   "metadata": {},
   "outputs": [],
   "source": [
    "# # Entraînement du modèle\n",
    "# rf_pipe = make_pipeline(preprocessor, RandomForestClassifier())\n",
    "# rf_pipe.fit(X_train, y_train)"
   ]
  },
  {
   "attachments": {},
   "cell_type": "markdown",
   "metadata": {},
   "source": [
    "On affiche l'importance des features :"
   ]
  },
  {
   "cell_type": "code",
   "execution_count": 218,
   "metadata": {},
   "outputs": [],
   "source": [
    "# importances = rf_pipe[-1].feature_importances_\n",
    "# importances\n",
    "# # features = pd.DataFrame({\"feature\": X_train.columns, \"importance\": importances})\n",
    "# # features"
   ]
  },
  {
   "cell_type": "code",
   "execution_count": 219,
   "metadata": {},
   "outputs": [],
   "source": [
    "# rf_pipe.get_feature_names_out"
   ]
  },
  {
   "cell_type": "code",
   "execution_count": 220,
   "metadata": {},
   "outputs": [],
   "source": [
    "# y_pred = rf_pipe.predict(X_test)\n",
    "\n",
    "# rfc_report = classification_report(y_test, y_pred)\n",
    "# print(rfc_report)"
   ]
  },
  {
   "attachments": {},
   "cell_type": "markdown",
   "metadata": {},
   "source": [
    "En utilisant un Random Forest Classifier sans paramètres, on obtient de bons résultats, proches de notre Dummy Classifier pour les classes positives. <br>\n",
    "On va essayer d'affiner notre modèle avec en cherchant les meilleurs hyperparamètres :"
   ]
  },
  {
   "cell_type": "code",
   "execution_count": 221,
   "metadata": {},
   "outputs": [],
   "source": [
    "# # On définit les paramètres à rechercher avec un intervalle de recherche\n",
    "# param_dist = {'n_estimators': np.arange(20, 100, 1), \n",
    "#               'max_depth': np.arange(1, 11),\n",
    "#               'min_samples_split': np.arange(2, 10),\n",
    "#               'min_samples_leaf': np.arange(1, 10),\n",
    "#               'criterion': ['gini','entropy']}\n",
    "\n",
    "# # On crée un objet Random Search \n",
    "# random_search = RandomizedSearchCV(rf_pipe[-1], param_distributions=param_dist,\n",
    "#                                   cv=5, n_jobs=-1, verbose=2)\n",
    "\n",
    "# # On entrâine le modèle\n",
    "# random_search.fit(X_train, y_train)"
   ]
  },
  {
   "cell_type": "code",
   "execution_count": 222,
   "metadata": {},
   "outputs": [],
   "source": [
    "# # On récupère les meilleurs hyperparamètres trouvés\n",
    "# best_params = random_search.best_params_\n",
    "# print(best_params)"
   ]
  },
  {
   "cell_type": "code",
   "execution_count": 223,
   "metadata": {},
   "outputs": [],
   "source": [
    "# # Entraînement du modèle\n",
    "# rf_pipe = make_pipeline(preprocessor, RandomForestClassifier(**best_params, class_weight=\"balanced\"))\n",
    "# rf_pipe.fit(X_train, y_train)"
   ]
  },
  {
   "cell_type": "code",
   "execution_count": 224,
   "metadata": {},
   "outputs": [],
   "source": [
    "# y_pred = rf_pipe.predict(X_test)\n",
    "\n",
    "# print(classification_report(y_test, y_pred))"
   ]
  },
  {
   "cell_type": "code",
   "execution_count": 225,
   "metadata": {},
   "outputs": [],
   "source": [
    "# print(rfc_report)"
   ]
  },
  {
   "attachments": {},
   "cell_type": "markdown",
   "metadata": {},
   "source": [
    "# Régression logistique"
   ]
  },
  {
   "cell_type": "code",
   "execution_count": 226,
   "metadata": {},
   "outputs": [],
   "source": [
    "# # Entraînement du modèle\n",
    "# rf_pipe_log = make_pipeline(preprocessor, LogisticRegression())\n",
    "# rf_pipe_log.fit(X_train, y_train)"
   ]
  },
  {
   "cell_type": "code",
   "execution_count": 227,
   "metadata": {},
   "outputs": [],
   "source": [
    "# y_pred = rf_pipe_log.predict(X_test)\n",
    "\n",
    "# log_report = classification_report(y_test, y_pred)\n",
    "# print(log_report)"
   ]
  },
  {
   "cell_type": "code",
   "execution_count": null,
   "metadata": {},
   "outputs": [],
   "source": [
    "# # #On définit les paramètres à rechercher avec un intervalle de recherche\n",
    "# param_dist = {'C': np.logspace(-4, 4, 20),\n",
    "#               'penalty': ['l1', 'l2', 'elasticnet'],\n",
    "#               'solver': ['newton-cg', 'lbfgs', 'liblinear', 'sag', 'saga']}\n",
    "\n",
    "# # On crée un objet Random Search \n",
    "# random_search = RandomizedSearchCV(rf_pipe_log[-1], param_distributions=param_dist,\n",
    "#                                    n_iter=50, cv=5, n_jobs=-1, verbose=2)\n",
    "\n",
    "# # On entrâine le modèle\n",
    "# random_search.fit(X_train, y_train)"
   ]
  },
  {
   "cell_type": "code",
   "execution_count": null,
   "metadata": {},
   "outputs": [],
   "source": [
    "# On récupère les meilleurs hyperparamètres trouvés\n",
    "best_params = random_search.best_params_\n",
    "print(best_params)"
   ]
  },
  {
   "cell_type": "code",
   "execution_count": null,
   "metadata": {},
   "outputs": [],
   "source": [
    "# Entraînement du modèle\n",
    "rf_pipe_log_opti = make_pipeline(preprocessor, LogisticRegression(**best_params, class_weight=\"balanced\"))\n",
    "rf_pipe_log_opti.fit(X_train, y_train)"
   ]
  },
  {
   "cell_type": "code",
   "execution_count": null,
   "metadata": {},
   "outputs": [],
   "source": [
    "y_pred = rf_pipe_log_opti.predict(X_test)\n",
    "\n",
    "print(classification_report(y_test, y_pred))\n",
    "print(log_report)"
   ]
  },
  {
   "attachments": {},
   "cell_type": "markdown",
   "metadata": {},
   "source": [
    "# XGBoost"
   ]
  },
  {
   "cell_type": "code",
   "execution_count": 229,
   "metadata": {},
   "outputs": [
    {
     "data": {
      "text/html": [
       "<style>#sk-container-id-35 {color: black;background-color: white;}#sk-container-id-35 pre{padding: 0;}#sk-container-id-35 div.sk-toggleable {background-color: white;}#sk-container-id-35 label.sk-toggleable__label {cursor: pointer;display: block;width: 100%;margin-bottom: 0;padding: 0.3em;box-sizing: border-box;text-align: center;}#sk-container-id-35 label.sk-toggleable__label-arrow:before {content: \"▸\";float: left;margin-right: 0.25em;color: #696969;}#sk-container-id-35 label.sk-toggleable__label-arrow:hover:before {color: black;}#sk-container-id-35 div.sk-estimator:hover label.sk-toggleable__label-arrow:before {color: black;}#sk-container-id-35 div.sk-toggleable__content {max-height: 0;max-width: 0;overflow: hidden;text-align: left;background-color: #f0f8ff;}#sk-container-id-35 div.sk-toggleable__content pre {margin: 0.2em;color: black;border-radius: 0.25em;background-color: #f0f8ff;}#sk-container-id-35 input.sk-toggleable__control:checked~div.sk-toggleable__content {max-height: 200px;max-width: 100%;overflow: auto;}#sk-container-id-35 input.sk-toggleable__control:checked~label.sk-toggleable__label-arrow:before {content: \"▾\";}#sk-container-id-35 div.sk-estimator input.sk-toggleable__control:checked~label.sk-toggleable__label {background-color: #d4ebff;}#sk-container-id-35 div.sk-label input.sk-toggleable__control:checked~label.sk-toggleable__label {background-color: #d4ebff;}#sk-container-id-35 input.sk-hidden--visually {border: 0;clip: rect(1px 1px 1px 1px);clip: rect(1px, 1px, 1px, 1px);height: 1px;margin: -1px;overflow: hidden;padding: 0;position: absolute;width: 1px;}#sk-container-id-35 div.sk-estimator {font-family: monospace;background-color: #f0f8ff;border: 1px dotted black;border-radius: 0.25em;box-sizing: border-box;margin-bottom: 0.5em;}#sk-container-id-35 div.sk-estimator:hover {background-color: #d4ebff;}#sk-container-id-35 div.sk-parallel-item::after {content: \"\";width: 100%;border-bottom: 1px solid gray;flex-grow: 1;}#sk-container-id-35 div.sk-label:hover label.sk-toggleable__label {background-color: #d4ebff;}#sk-container-id-35 div.sk-serial::before {content: \"\";position: absolute;border-left: 1px solid gray;box-sizing: border-box;top: 0;bottom: 0;left: 50%;z-index: 0;}#sk-container-id-35 div.sk-serial {display: flex;flex-direction: column;align-items: center;background-color: white;padding-right: 0.2em;padding-left: 0.2em;position: relative;}#sk-container-id-35 div.sk-item {position: relative;z-index: 1;}#sk-container-id-35 div.sk-parallel {display: flex;align-items: stretch;justify-content: center;background-color: white;position: relative;}#sk-container-id-35 div.sk-item::before, #sk-container-id-35 div.sk-parallel-item::before {content: \"\";position: absolute;border-left: 1px solid gray;box-sizing: border-box;top: 0;bottom: 0;left: 50%;z-index: -1;}#sk-container-id-35 div.sk-parallel-item {display: flex;flex-direction: column;z-index: 1;position: relative;background-color: white;}#sk-container-id-35 div.sk-parallel-item:first-child::after {align-self: flex-end;width: 50%;}#sk-container-id-35 div.sk-parallel-item:last-child::after {align-self: flex-start;width: 50%;}#sk-container-id-35 div.sk-parallel-item:only-child::after {width: 0;}#sk-container-id-35 div.sk-dashed-wrapped {border: 1px dashed gray;margin: 0 0.4em 0.5em 0.4em;box-sizing: border-box;padding-bottom: 0.4em;background-color: white;}#sk-container-id-35 div.sk-label label {font-family: monospace;font-weight: bold;display: inline-block;line-height: 1.2em;}#sk-container-id-35 div.sk-label-container {text-align: center;}#sk-container-id-35 div.sk-container {/* jupyter's `normalize.less` sets `[hidden] { display: none; }` but bootstrap.min.css set `[hidden] { display: none !important; }` so we also need the `!important` here to be able to override the default hidden behavior on the sphinx rendered scikit-learn.org. See: https://github.com/scikit-learn/scikit-learn/issues/21755 */display: inline-block !important;position: relative;}#sk-container-id-35 div.sk-text-repr-fallback {display: none;}</style><div id=\"sk-container-id-35\" class=\"sk-top-container\"><div class=\"sk-text-repr-fallback\"><pre>Pipeline(steps=[(&#x27;columntransformer&#x27;,\n",
       "                 ColumnTransformer(transformers=[(&#x27;standardscaler&#x27;,\n",
       "                                                  StandardScaler(),\n",
       "                                                  [&#x27;NoEmp&#x27;, &#x27;RetainedJob&#x27;,\n",
       "                                                   &#x27;Term&#x27;]),\n",
       "                                                 (&#x27;onehotencoder&#x27;,\n",
       "                                                  OneHotEncoder(),\n",
       "                                                  [&#x27;NAICS&#x27;, &#x27;UrbanRural&#x27;])])),\n",
       "                (&#x27;xgbclassifier&#x27;,\n",
       "                 XGBClassifier(base_score=None, booster=None, callbacks=None,\n",
       "                               colsample_bylevel=None, colsample_bynode=None,\n",
       "                               colsample_bytree=None,\n",
       "                               early_stoppi...\n",
       "                               feature_types=None, gamma=None, gpu_id=None,\n",
       "                               grow_policy=None, importance_type=None,\n",
       "                               interaction_constraints=None, learning_rate=None,\n",
       "                               max_bin=None, max_cat_threshold=None,\n",
       "                               max_cat_to_onehot=None, max_delta_step=None,\n",
       "                               max_depth=None, max_leaves=None,\n",
       "                               min_child_weight=None, missing=nan,\n",
       "                               monotone_constraints=None, n_estimators=100,\n",
       "                               n_jobs=None, num_parallel_tree=None,\n",
       "                               predictor=None, random_state=None, ...))])</pre><b>In a Jupyter environment, please rerun this cell to show the HTML representation or trust the notebook. <br />On GitHub, the HTML representation is unable to render, please try loading this page with nbviewer.org.</b></div><div class=\"sk-container\" hidden><div class=\"sk-item sk-dashed-wrapped\"><div class=\"sk-label-container\"><div class=\"sk-label sk-toggleable\"><input class=\"sk-toggleable__control sk-hidden--visually\" id=\"sk-estimator-id-199\" type=\"checkbox\" ><label for=\"sk-estimator-id-199\" class=\"sk-toggleable__label sk-toggleable__label-arrow\">Pipeline</label><div class=\"sk-toggleable__content\"><pre>Pipeline(steps=[(&#x27;columntransformer&#x27;,\n",
       "                 ColumnTransformer(transformers=[(&#x27;standardscaler&#x27;,\n",
       "                                                  StandardScaler(),\n",
       "                                                  [&#x27;NoEmp&#x27;, &#x27;RetainedJob&#x27;,\n",
       "                                                   &#x27;Term&#x27;]),\n",
       "                                                 (&#x27;onehotencoder&#x27;,\n",
       "                                                  OneHotEncoder(),\n",
       "                                                  [&#x27;NAICS&#x27;, &#x27;UrbanRural&#x27;])])),\n",
       "                (&#x27;xgbclassifier&#x27;,\n",
       "                 XGBClassifier(base_score=None, booster=None, callbacks=None,\n",
       "                               colsample_bylevel=None, colsample_bynode=None,\n",
       "                               colsample_bytree=None,\n",
       "                               early_stoppi...\n",
       "                               feature_types=None, gamma=None, gpu_id=None,\n",
       "                               grow_policy=None, importance_type=None,\n",
       "                               interaction_constraints=None, learning_rate=None,\n",
       "                               max_bin=None, max_cat_threshold=None,\n",
       "                               max_cat_to_onehot=None, max_delta_step=None,\n",
       "                               max_depth=None, max_leaves=None,\n",
       "                               min_child_weight=None, missing=nan,\n",
       "                               monotone_constraints=None, n_estimators=100,\n",
       "                               n_jobs=None, num_parallel_tree=None,\n",
       "                               predictor=None, random_state=None, ...))])</pre></div></div></div><div class=\"sk-serial\"><div class=\"sk-item sk-dashed-wrapped\"><div class=\"sk-label-container\"><div class=\"sk-label sk-toggleable\"><input class=\"sk-toggleable__control sk-hidden--visually\" id=\"sk-estimator-id-200\" type=\"checkbox\" ><label for=\"sk-estimator-id-200\" class=\"sk-toggleable__label sk-toggleable__label-arrow\">columntransformer: ColumnTransformer</label><div class=\"sk-toggleable__content\"><pre>ColumnTransformer(transformers=[(&#x27;standardscaler&#x27;, StandardScaler(),\n",
       "                                 [&#x27;NoEmp&#x27;, &#x27;RetainedJob&#x27;, &#x27;Term&#x27;]),\n",
       "                                (&#x27;onehotencoder&#x27;, OneHotEncoder(),\n",
       "                                 [&#x27;NAICS&#x27;, &#x27;UrbanRural&#x27;])])</pre></div></div></div><div class=\"sk-parallel\"><div class=\"sk-parallel-item\"><div class=\"sk-item\"><div class=\"sk-label-container\"><div class=\"sk-label sk-toggleable\"><input class=\"sk-toggleable__control sk-hidden--visually\" id=\"sk-estimator-id-201\" type=\"checkbox\" ><label for=\"sk-estimator-id-201\" class=\"sk-toggleable__label sk-toggleable__label-arrow\">standardscaler</label><div class=\"sk-toggleable__content\"><pre>[&#x27;NoEmp&#x27;, &#x27;RetainedJob&#x27;, &#x27;Term&#x27;]</pre></div></div></div><div class=\"sk-serial\"><div class=\"sk-item\"><div class=\"sk-estimator sk-toggleable\"><input class=\"sk-toggleable__control sk-hidden--visually\" id=\"sk-estimator-id-202\" type=\"checkbox\" ><label for=\"sk-estimator-id-202\" class=\"sk-toggleable__label sk-toggleable__label-arrow\">StandardScaler</label><div class=\"sk-toggleable__content\"><pre>StandardScaler()</pre></div></div></div></div></div></div><div class=\"sk-parallel-item\"><div class=\"sk-item\"><div class=\"sk-label-container\"><div class=\"sk-label sk-toggleable\"><input class=\"sk-toggleable__control sk-hidden--visually\" id=\"sk-estimator-id-203\" type=\"checkbox\" ><label for=\"sk-estimator-id-203\" class=\"sk-toggleable__label sk-toggleable__label-arrow\">onehotencoder</label><div class=\"sk-toggleable__content\"><pre>[&#x27;NAICS&#x27;, &#x27;UrbanRural&#x27;]</pre></div></div></div><div class=\"sk-serial\"><div class=\"sk-item\"><div class=\"sk-estimator sk-toggleable\"><input class=\"sk-toggleable__control sk-hidden--visually\" id=\"sk-estimator-id-204\" type=\"checkbox\" ><label for=\"sk-estimator-id-204\" class=\"sk-toggleable__label sk-toggleable__label-arrow\">OneHotEncoder</label><div class=\"sk-toggleable__content\"><pre>OneHotEncoder()</pre></div></div></div></div></div></div></div></div><div class=\"sk-item\"><div class=\"sk-estimator sk-toggleable\"><input class=\"sk-toggleable__control sk-hidden--visually\" id=\"sk-estimator-id-205\" type=\"checkbox\" ><label for=\"sk-estimator-id-205\" class=\"sk-toggleable__label sk-toggleable__label-arrow\">XGBClassifier</label><div class=\"sk-toggleable__content\"><pre>XGBClassifier(base_score=None, booster=None, callbacks=None,\n",
       "              colsample_bylevel=None, colsample_bynode=None,\n",
       "              colsample_bytree=None, early_stopping_rounds=None,\n",
       "              enable_categorical=False, eval_metric=None, feature_types=None,\n",
       "              gamma=None, gpu_id=None, grow_policy=None, importance_type=None,\n",
       "              interaction_constraints=None, learning_rate=None, max_bin=None,\n",
       "              max_cat_threshold=None, max_cat_to_onehot=None,\n",
       "              max_delta_step=None, max_depth=None, max_leaves=None,\n",
       "              min_child_weight=None, missing=nan, monotone_constraints=None,\n",
       "              n_estimators=100, n_jobs=None, num_parallel_tree=None,\n",
       "              predictor=None, random_state=None, ...)</pre></div></div></div></div></div></div></div>"
      ],
      "text/plain": [
       "Pipeline(steps=[('columntransformer',\n",
       "                 ColumnTransformer(transformers=[('standardscaler',\n",
       "                                                  StandardScaler(),\n",
       "                                                  ['NoEmp', 'RetainedJob',\n",
       "                                                   'Term']),\n",
       "                                                 ('onehotencoder',\n",
       "                                                  OneHotEncoder(),\n",
       "                                                  ['NAICS', 'UrbanRural'])])),\n",
       "                ('xgbclassifier',\n",
       "                 XGBClassifier(base_score=None, booster=None, callbacks=None,\n",
       "                               colsample_bylevel=None, colsample_bynode=None,\n",
       "                               colsample_bytree=None,\n",
       "                               early_stoppi...\n",
       "                               feature_types=None, gamma=None, gpu_id=None,\n",
       "                               grow_policy=None, importance_type=None,\n",
       "                               interaction_constraints=None, learning_rate=None,\n",
       "                               max_bin=None, max_cat_threshold=None,\n",
       "                               max_cat_to_onehot=None, max_delta_step=None,\n",
       "                               max_depth=None, max_leaves=None,\n",
       "                               min_child_weight=None, missing=nan,\n",
       "                               monotone_constraints=None, n_estimators=100,\n",
       "                               n_jobs=None, num_parallel_tree=None,\n",
       "                               predictor=None, random_state=None, ...))])"
      ]
     },
     "execution_count": 229,
     "metadata": {},
     "output_type": "execute_result"
    }
   ],
   "source": [
    "# Entraînement du modèle\n",
    "xgb_pipe = make_pipeline(preprocessor, xgb.XGBClassifier())\n",
    "xgb_pipe.fit(X_train, y_train)"
   ]
  },
  {
   "cell_type": "code",
   "execution_count": 230,
   "metadata": {},
   "outputs": [
    {
     "name": "stdout",
     "output_type": "stream",
     "text": [
      "Fitting 5 folds for each of 50 candidates, totalling 250 fits\n",
      "[CV] END colsample_bytree=0.2, learning_rate=0.5831578947368421, max_depth=10, n_estimators=35, subsample=0.1; total time=  15.1s\n",
      "[CV] END colsample_bytree=0.2, learning_rate=0.5831578947368421, max_depth=10, n_estimators=35, subsample=0.1; total time=  15.5s\n",
      "[CV] END colsample_bytree=0.2, learning_rate=0.5831578947368421, max_depth=10, n_estimators=35, subsample=0.1; total time=  15.6s\n",
      "[CV] END colsample_bytree=0.2, learning_rate=0.5831578947368421, max_depth=10, n_estimators=35, subsample=0.1; total time=  15.6s\n",
      "[CV] END colsample_bytree=0.2, learning_rate=0.5831578947368421, max_depth=10, n_estimators=35, subsample=0.1; total time=  15.7s\n",
      "[CV] END colsample_bytree=0.4, learning_rate=0.6873684210526316, max_depth=7, n_estimators=35, subsample=0.7000000000000001; total time=  21.6s\n",
      "[CV] END colsample_bytree=0.4, learning_rate=0.6873684210526316, max_depth=7, n_estimators=35, subsample=0.7000000000000001; total time=  22.0s\n",
      "[CV] END colsample_bytree=0.4, learning_rate=0.6873684210526316, max_depth=7, n_estimators=35, subsample=0.7000000000000001; total time=  22.2s\n",
      "[CV] END colsample_bytree=0.30000000000000004, learning_rate=0.2705263157894737, max_depth=2, n_estimators=45, subsample=0.4; total time=   7.8s\n",
      "[CV] END colsample_bytree=0.30000000000000004, learning_rate=0.2705263157894737, max_depth=2, n_estimators=45, subsample=0.4; total time=   8.4s\n",
      "[CV] END colsample_bytree=0.30000000000000004, learning_rate=0.2705263157894737, max_depth=2, n_estimators=45, subsample=0.4; total time=   8.4s\n",
      "[CV] END colsample_bytree=0.30000000000000004, learning_rate=0.2705263157894737, max_depth=2, n_estimators=45, subsample=0.4; total time=   8.2s\n",
      "[CV] END colsample_bytree=0.30000000000000004, learning_rate=0.2705263157894737, max_depth=2, n_estimators=45, subsample=0.4; total time=   8.1s\n",
      "[CV] END colsample_bytree=0.30000000000000004, learning_rate=0.5310526315789474, max_depth=4, n_estimators=40, subsample=0.1; total time=   9.4s\n",
      "[CV] END colsample_bytree=0.30000000000000004, learning_rate=0.5310526315789474, max_depth=4, n_estimators=40, subsample=0.1; total time=   9.5s\n",
      "[CV] END colsample_bytree=0.30000000000000004, learning_rate=0.5310526315789474, max_depth=4, n_estimators=40, subsample=0.1; total time=   9.7s\n",
      "[CV] END colsample_bytree=0.30000000000000004, learning_rate=0.5310526315789474, max_depth=4, n_estimators=40, subsample=0.1; total time=   9.8s\n",
      "[CV] END colsample_bytree=0.4, learning_rate=0.6873684210526316, max_depth=7, n_estimators=35, subsample=0.7000000000000001; total time=  22.8s\n",
      "[CV] END colsample_bytree=0.4, learning_rate=0.6873684210526316, max_depth=7, n_estimators=35, subsample=0.7000000000000001; total time=  22.8s\n",
      "[CV] END colsample_bytree=0.30000000000000004, learning_rate=0.5310526315789474, max_depth=4, n_estimators=40, subsample=0.1; total time=  11.0s\n",
      "[CV] END colsample_bytree=0.2, learning_rate=0.16631578947368422, max_depth=1, n_estimators=20, subsample=0.4; total time=   3.8s\n",
      "[CV] END colsample_bytree=0.2, learning_rate=0.16631578947368422, max_depth=1, n_estimators=20, subsample=0.4; total time=   4.0s\n",
      "[CV] END colsample_bytree=0.2, learning_rate=0.16631578947368422, max_depth=1, n_estimators=20, subsample=0.4; total time=   3.6s\n",
      "[CV] END colsample_bytree=0.2, learning_rate=0.16631578947368422, max_depth=1, n_estimators=20, subsample=0.4; total time=   3.3s\n",
      "[CV] END colsample_bytree=0.2, learning_rate=0.16631578947368422, max_depth=1, n_estimators=20, subsample=0.4; total time=   3.4s\n",
      "[CV] END colsample_bytree=0.5, learning_rate=0.6352631578947369, max_depth=5, n_estimators=40, subsample=0.30000000000000004; total time=  20.6s\n",
      "[CV] END colsample_bytree=0.5, learning_rate=0.6352631578947369, max_depth=5, n_estimators=40, subsample=0.30000000000000004; total time=  20.5s\n",
      "[CV] END colsample_bytree=0.5, learning_rate=0.6352631578947369, max_depth=5, n_estimators=40, subsample=0.30000000000000004; total time=  20.7s\n",
      "[CV] END colsample_bytree=0.30000000000000004, learning_rate=0.5831578947368421, max_depth=7, n_estimators=30, subsample=1.0; total time=  12.4s\n",
      "[CV] END colsample_bytree=0.5, learning_rate=0.6352631578947369, max_depth=5, n_estimators=40, subsample=0.30000000000000004; total time=  17.4s\n",
      "[CV] END colsample_bytree=0.5, learning_rate=0.6352631578947369, max_depth=5, n_estimators=40, subsample=0.30000000000000004; total time=  18.5s\n",
      "[CV] END colsample_bytree=1.0, learning_rate=0.37473684210526315, max_depth=10, n_estimators=35, subsample=0.30000000000000004; total time=  59.1s\n",
      "[CV] END colsample_bytree=0.30000000000000004, learning_rate=0.5831578947368421, max_depth=7, n_estimators=30, subsample=1.0; total time=  12.1s\n",
      "[CV] END colsample_bytree=1.0, learning_rate=0.37473684210526315, max_depth=10, n_estimators=35, subsample=0.30000000000000004; total time= 1.0min\n",
      "[CV] END colsample_bytree=1.0, learning_rate=0.37473684210526315, max_depth=10, n_estimators=35, subsample=0.30000000000000004; total time= 1.0min\n",
      "[CV] END colsample_bytree=1.0, learning_rate=0.37473684210526315, max_depth=10, n_estimators=35, subsample=0.30000000000000004; total time=  59.9s\n",
      "[CV] END colsample_bytree=1.0, learning_rate=0.37473684210526315, max_depth=10, n_estimators=35, subsample=0.30000000000000004; total time= 1.0min\n",
      "[CV] END colsample_bytree=0.2, learning_rate=0.6352631578947369, max_depth=2, n_estimators=20, subsample=0.5; total time=   3.8s\n",
      "[CV] END colsample_bytree=0.30000000000000004, learning_rate=0.5831578947368421, max_depth=7, n_estimators=30, subsample=1.0; total time=  11.7s\n",
      "[CV] END colsample_bytree=0.30000000000000004, learning_rate=0.5831578947368421, max_depth=7, n_estimators=30, subsample=1.0; total time=  11.7s\n",
      "[CV] END colsample_bytree=0.2, learning_rate=0.6352631578947369, max_depth=2, n_estimators=20, subsample=0.5; total time=   3.4s\n",
      "[CV] END colsample_bytree=0.2, learning_rate=0.6352631578947369, max_depth=2, n_estimators=20, subsample=0.5; total time=   3.5s\n",
      "[CV] END colsample_bytree=0.2, learning_rate=0.6352631578947369, max_depth=2, n_estimators=20, subsample=0.5; total time=   3.4s\n",
      "[CV] END colsample_bytree=0.2, learning_rate=0.6352631578947369, max_depth=2, n_estimators=20, subsample=0.5; total time=   3.5s\n",
      "[CV] END colsample_bytree=0.30000000000000004, learning_rate=0.5831578947368421, max_depth=7, n_estimators=30, subsample=1.0; total time=  11.1s\n",
      "[CV] END colsample_bytree=1.0, learning_rate=0.8436842105263158, max_depth=2, n_estimators=20, subsample=1.0; total time=   6.0s\n",
      "[CV] END colsample_bytree=1.0, learning_rate=0.8436842105263158, max_depth=2, n_estimators=20, subsample=1.0; total time=   6.0s\n",
      "[CV] END colsample_bytree=0.8, learning_rate=0.16631578947368422, max_depth=2, n_estimators=40, subsample=0.5; total time=  11.9s\n",
      "[CV] END colsample_bytree=1.0, learning_rate=0.8436842105263158, max_depth=2, n_estimators=20, subsample=1.0; total time=   6.1s\n",
      "[CV] END colsample_bytree=0.8, learning_rate=0.16631578947368422, max_depth=2, n_estimators=40, subsample=0.5; total time=  11.9s\n",
      "[CV] END colsample_bytree=0.8, learning_rate=0.16631578947368422, max_depth=2, n_estimators=40, subsample=0.5; total time=  11.5s\n",
      "[CV] END colsample_bytree=0.8, learning_rate=0.16631578947368422, max_depth=2, n_estimators=40, subsample=0.5; total time=  11.5s\n",
      "[CV] END colsample_bytree=0.8, learning_rate=0.16631578947368422, max_depth=2, n_estimators=40, subsample=0.5; total time=  12.0s\n",
      "[CV] END colsample_bytree=1.0, learning_rate=0.8436842105263158, max_depth=2, n_estimators=20, subsample=1.0; total time=   5.8s\n",
      "[CV] END colsample_bytree=1.0, learning_rate=0.8436842105263158, max_depth=2, n_estimators=20, subsample=1.0; total time=   6.2s\n",
      "[CV] END colsample_bytree=0.9, learning_rate=0.6873684210526316, max_depth=4, n_estimators=25, subsample=0.30000000000000004; total time=  11.7s\n",
      "[CV] END colsample_bytree=0.9, learning_rate=0.6873684210526316, max_depth=4, n_estimators=25, subsample=0.30000000000000004; total time=  12.2s\n",
      "[CV] END colsample_bytree=0.9, learning_rate=0.6873684210526316, max_depth=4, n_estimators=25, subsample=0.30000000000000004; total time=  12.2s\n",
      "[CV] END colsample_bytree=0.5, learning_rate=0.16631578947368422, max_depth=10, n_estimators=25, subsample=0.4; total time=  20.9s\n",
      "[CV] END colsample_bytree=0.5, learning_rate=0.16631578947368422, max_depth=10, n_estimators=25, subsample=0.4; total time=  20.7s\n",
      "[CV] END colsample_bytree=0.5, learning_rate=0.16631578947368422, max_depth=10, n_estimators=25, subsample=0.4; total time=  20.6s\n",
      "[CV] END colsample_bytree=0.5, learning_rate=0.16631578947368422, max_depth=10, n_estimators=25, subsample=0.4; total time=  20.9s\n",
      "[CV] END colsample_bytree=0.5, learning_rate=0.16631578947368422, max_depth=10, n_estimators=25, subsample=0.4; total time=  20.1s\n",
      "[CV] END colsample_bytree=0.6, learning_rate=1.0, max_depth=1, n_estimators=20, subsample=0.2; total time=   3.2s\n",
      "[CV] END colsample_bytree=0.9, learning_rate=0.6873684210526316, max_depth=4, n_estimators=25, subsample=0.30000000000000004; total time=  12.0s\n",
      "[CV] END colsample_bytree=0.9, learning_rate=0.6873684210526316, max_depth=4, n_estimators=25, subsample=0.30000000000000004; total time=  12.8s\n",
      "[CV] END colsample_bytree=0.6, learning_rate=1.0, max_depth=1, n_estimators=20, subsample=0.2; total time=   3.4s\n",
      "[CV] END colsample_bytree=0.6, learning_rate=1.0, max_depth=1, n_estimators=20, subsample=0.2; total time=   3.4s\n",
      "[CV] END colsample_bytree=0.6, learning_rate=1.0, max_depth=1, n_estimators=20, subsample=0.2; total time=   3.0s\n",
      "[CV] END colsample_bytree=0.6, learning_rate=1.0, max_depth=1, n_estimators=20, subsample=0.2; total time=   3.4s\n",
      "[CV] END colsample_bytree=0.5, learning_rate=0.5831578947368421, max_depth=10, n_estimators=30, subsample=0.5; total time=  25.4s\n",
      "[CV] END colsample_bytree=0.8, learning_rate=0.5310526315789474, max_depth=6, n_estimators=20, subsample=0.1; total time=  13.7s\n",
      "[CV] END colsample_bytree=0.8, learning_rate=0.5310526315789474, max_depth=6, n_estimators=20, subsample=0.1; total time=  13.8s\n",
      "[CV] END colsample_bytree=0.8, learning_rate=0.5310526315789474, max_depth=6, n_estimators=20, subsample=0.1; total time=  13.8s\n",
      "[CV] END colsample_bytree=0.5, learning_rate=0.5831578947368421, max_depth=10, n_estimators=30, subsample=0.5; total time=  25.5s\n",
      "[CV] END colsample_bytree=0.5, learning_rate=0.5831578947368421, max_depth=10, n_estimators=30, subsample=0.5; total time=  26.4s\n",
      "[CV] END colsample_bytree=0.5, learning_rate=0.5831578947368421, max_depth=10, n_estimators=30, subsample=0.5; total time=  26.7s\n",
      "[CV] END colsample_bytree=0.5, learning_rate=0.5831578947368421, max_depth=10, n_estimators=30, subsample=0.5; total time=  26.9s\n",
      "[CV] END colsample_bytree=0.8, learning_rate=0.4268421052631579, max_depth=2, n_estimators=20, subsample=0.2; total time=   5.6s\n",
      "[CV] END colsample_bytree=0.8, learning_rate=0.4268421052631579, max_depth=2, n_estimators=20, subsample=0.2; total time=   5.6s\n",
      "[CV] END colsample_bytree=0.8, learning_rate=0.4268421052631579, max_depth=2, n_estimators=20, subsample=0.2; total time=   5.5s\n",
      "[CV] END colsample_bytree=0.8, learning_rate=0.4268421052631579, max_depth=2, n_estimators=20, subsample=0.2; total time=   5.3s\n",
      "[CV] END colsample_bytree=0.8, learning_rate=0.4268421052631579, max_depth=2, n_estimators=20, subsample=0.2; total time=   5.3s\n",
      "[CV] END colsample_bytree=0.8, learning_rate=0.5310526315789474, max_depth=6, n_estimators=20, subsample=0.1; total time=  14.1s\n",
      "[CV] END colsample_bytree=0.8, learning_rate=0.5310526315789474, max_depth=6, n_estimators=20, subsample=0.1; total time=  14.3s\n",
      "[CV] END colsample_bytree=0.4, learning_rate=0.6352631578947369, max_depth=10, n_estimators=40, subsample=0.5; total time=  36.9s\n",
      "[CV] END colsample_bytree=0.4, learning_rate=0.6352631578947369, max_depth=10, n_estimators=40, subsample=0.5; total time=  36.4s\n",
      "[CV] END colsample_bytree=0.4, learning_rate=0.6352631578947369, max_depth=10, n_estimators=40, subsample=0.5; total time=  36.1s\n",
      "[CV] END colsample_bytree=0.4, learning_rate=0.6352631578947369, max_depth=10, n_estimators=40, subsample=0.5; total time=  37.9s\n",
      "[CV] END colsample_bytree=0.4, learning_rate=0.6352631578947369, max_depth=10, n_estimators=40, subsample=0.5; total time=  38.0s\n",
      "[CV] END colsample_bytree=1.0, learning_rate=0.01, max_depth=6, n_estimators=20, subsample=0.1; total time=  17.8s\n",
      "[CV] END colsample_bytree=1.0, learning_rate=0.01, max_depth=6, n_estimators=20, subsample=0.1; total time=  20.6s\n",
      "[CV] END colsample_bytree=1.0, learning_rate=0.01, max_depth=6, n_estimators=20, subsample=0.1; total time=  20.2s\n",
      "[CV] END colsample_bytree=1.0, learning_rate=0.32263157894736844, max_depth=8, n_estimators=45, subsample=1.0; total time=  58.7s\n",
      "[CV] END colsample_bytree=1.0, learning_rate=0.32263157894736844, max_depth=8, n_estimators=45, subsample=1.0; total time=  59.0s\n",
      "[CV] END colsample_bytree=0.5, learning_rate=0.6352631578947369, max_depth=2, n_estimators=20, subsample=1.0; total time=   4.4s\n",
      "[CV] END colsample_bytree=0.5, learning_rate=0.6352631578947369, max_depth=2, n_estimators=20, subsample=1.0; total time=   4.5s\n",
      "[CV] END colsample_bytree=0.5, learning_rate=0.6352631578947369, max_depth=2, n_estimators=20, subsample=1.0; total time=   4.7s\n",
      "[CV] END colsample_bytree=1.0, learning_rate=0.32263157894736844, max_depth=8, n_estimators=45, subsample=1.0; total time= 1.0min\n",
      "[CV] END colsample_bytree=0.5, learning_rate=0.6352631578947369, max_depth=2, n_estimators=20, subsample=1.0; total time=   4.7s\n",
      "[CV] END colsample_bytree=0.5, learning_rate=0.6352631578947369, max_depth=2, n_estimators=20, subsample=1.0; total time=   4.3s\n",
      "[CV] END colsample_bytree=1.0, learning_rate=0.01, max_depth=6, n_estimators=20, subsample=0.1; total time=  18.3s\n",
      "[CV] END colsample_bytree=0.4, learning_rate=0.37473684210526315, max_depth=4, n_estimators=20, subsample=0.5; total time=   8.2s\n",
      "[CV] END colsample_bytree=0.4, learning_rate=0.37473684210526315, max_depth=4, n_estimators=20, subsample=0.5; total time=   8.8s\n",
      "[CV] END colsample_bytree=1.0, learning_rate=0.01, max_depth=6, n_estimators=20, subsample=0.1; total time=  16.6s\n",
      "[CV] END colsample_bytree=0.4, learning_rate=0.37473684210526315, max_depth=4, n_estimators=20, subsample=0.5; total time=   8.0s\n",
      "[CV] END colsample_bytree=0.4, learning_rate=0.37473684210526315, max_depth=4, n_estimators=20, subsample=0.5; total time=   8.8s\n",
      "[CV] END colsample_bytree=0.4, learning_rate=0.37473684210526315, max_depth=4, n_estimators=20, subsample=0.5; total time=   8.6s\n",
      "[CV] END colsample_bytree=0.1, learning_rate=0.9478947368421053, max_depth=10, n_estimators=30, subsample=1.0; total time=  16.8s\n",
      "[CV] END colsample_bytree=0.1, learning_rate=0.9478947368421053, max_depth=10, n_estimators=30, subsample=1.0; total time=  17.5s\n",
      "[CV] END colsample_bytree=0.1, learning_rate=0.9478947368421053, max_depth=10, n_estimators=30, subsample=1.0; total time=  18.1s\n",
      "[CV] END colsample_bytree=0.1, learning_rate=0.9478947368421053, max_depth=10, n_estimators=30, subsample=1.0; total time=  17.6s\n",
      "[CV] END colsample_bytree=0.1, learning_rate=0.9478947368421053, max_depth=10, n_estimators=30, subsample=1.0; total time=  17.5s\n",
      "[CV] END colsample_bytree=1.0, learning_rate=0.32263157894736844, max_depth=8, n_estimators=45, subsample=1.0; total time= 1.0min\n",
      "[CV] END colsample_bytree=1.0, learning_rate=0.32263157894736844, max_depth=8, n_estimators=45, subsample=1.0; total time= 1.0min\n",
      "[CV] END colsample_bytree=0.30000000000000004, learning_rate=0.7394736842105263, max_depth=2, n_estimators=40, subsample=0.7000000000000001; total time=   8.4s\n",
      "[CV] END colsample_bytree=0.30000000000000004, learning_rate=0.7394736842105263, max_depth=2, n_estimators=40, subsample=0.7000000000000001; total time=   8.7s\n",
      "[CV] END colsample_bytree=0.30000000000000004, learning_rate=0.7394736842105263, max_depth=2, n_estimators=40, subsample=0.7000000000000001; total time=   8.3s\n",
      "[CV] END colsample_bytree=0.30000000000000004, learning_rate=0.7394736842105263, max_depth=2, n_estimators=40, subsample=0.7000000000000001; total time=   7.8s\n",
      "[CV] END colsample_bytree=0.5, learning_rate=0.7394736842105263, max_depth=8, n_estimators=40, subsample=0.5; total time=  32.5s\n",
      "[CV] END colsample_bytree=0.30000000000000004, learning_rate=0.7394736842105263, max_depth=2, n_estimators=40, subsample=0.7000000000000001; total time=   8.0s\n",
      "[CV] END colsample_bytree=0.5, learning_rate=0.7394736842105263, max_depth=8, n_estimators=40, subsample=0.5; total time=  31.7s\n",
      "[CV] END colsample_bytree=0.5, learning_rate=0.7394736842105263, max_depth=8, n_estimators=40, subsample=0.5; total time=  30.9s\n",
      "[CV] END colsample_bytree=0.5, learning_rate=0.7394736842105263, max_depth=8, n_estimators=40, subsample=0.5; total time=  32.7s\n",
      "[CV] END colsample_bytree=0.5, learning_rate=0.7394736842105263, max_depth=8, n_estimators=40, subsample=0.5; total time=  33.0s\n",
      "[CV] END colsample_bytree=0.9, learning_rate=0.5831578947368421, max_depth=7, n_estimators=40, subsample=0.9; total time=  42.3s\n",
      "[CV] END colsample_bytree=0.9, learning_rate=0.5831578947368421, max_depth=7, n_estimators=40, subsample=0.9; total time=  43.3s\n",
      "[CV] END colsample_bytree=0.9, learning_rate=0.5831578947368421, max_depth=7, n_estimators=40, subsample=0.9; total time=  42.5s\n",
      "[CV] END colsample_bytree=0.9, learning_rate=0.5831578947368421, max_depth=7, n_estimators=40, subsample=0.9; total time=  44.4s\n",
      "[CV] END colsample_bytree=0.4, learning_rate=0.5310526315789474, max_depth=8, n_estimators=45, subsample=0.5; total time=  38.6s\n",
      "[CV] END colsample_bytree=0.4, learning_rate=0.5310526315789474, max_depth=8, n_estimators=45, subsample=0.5; total time=  38.7s\n",
      "[CV] END colsample_bytree=0.4, learning_rate=0.5310526315789474, max_depth=8, n_estimators=45, subsample=0.5; total time=  38.2s\n",
      "[CV] END colsample_bytree=0.9, learning_rate=0.5831578947368421, max_depth=7, n_estimators=40, subsample=0.9; total time=  43.5s\n",
      "[CV] END colsample_bytree=0.5, learning_rate=0.6873684210526316, max_depth=3, n_estimators=20, subsample=0.1; total time=   5.9s\n",
      "[CV] END colsample_bytree=0.5, learning_rate=0.6873684210526316, max_depth=3, n_estimators=20, subsample=0.1; total time=   5.8s\n",
      "[CV] END colsample_bytree=1.0, learning_rate=0.8957894736842106, max_depth=6, n_estimators=30, subsample=1.0; total time=  30.6s\n",
      "[CV] END colsample_bytree=1.0, learning_rate=0.8957894736842106, max_depth=6, n_estimators=30, subsample=1.0; total time=  28.9s\n",
      "[CV] END colsample_bytree=0.4, learning_rate=0.5310526315789474, max_depth=8, n_estimators=45, subsample=0.5; total time=  38.0s\n",
      "[CV] END colsample_bytree=0.5, learning_rate=0.6873684210526316, max_depth=3, n_estimators=20, subsample=0.1; total time=   6.8s\n",
      "[CV] END colsample_bytree=0.5, learning_rate=0.6873684210526316, max_depth=3, n_estimators=20, subsample=0.1; total time=   5.5s\n",
      "[CV] END colsample_bytree=0.4, learning_rate=0.5310526315789474, max_depth=8, n_estimators=45, subsample=0.5; total time=  36.8s\n",
      "[CV] END colsample_bytree=0.5, learning_rate=0.6873684210526316, max_depth=3, n_estimators=20, subsample=0.1; total time=   5.7s\n",
      "[CV] END colsample_bytree=1.0, learning_rate=0.8957894736842106, max_depth=6, n_estimators=30, subsample=1.0; total time=  28.0s\n",
      "[CV] END colsample_bytree=1.0, learning_rate=0.8957894736842106, max_depth=6, n_estimators=30, subsample=1.0; total time=  29.8s\n",
      "[CV] END colsample_bytree=1.0, learning_rate=0.8957894736842106, max_depth=6, n_estimators=30, subsample=1.0; total time=  29.8s\n",
      "[CV] END colsample_bytree=0.1, learning_rate=0.9478947368421053, max_depth=10, n_estimators=45, subsample=0.8; total time=  22.6s\n",
      "[CV] END colsample_bytree=0.1, learning_rate=0.9478947368421053, max_depth=10, n_estimators=45, subsample=0.8; total time=  22.9s\n",
      "[CV] END colsample_bytree=0.1, learning_rate=0.9478947368421053, max_depth=10, n_estimators=45, subsample=0.8; total time=  22.6s\n",
      "[CV] END colsample_bytree=0.1, learning_rate=0.9478947368421053, max_depth=10, n_estimators=45, subsample=0.8; total time=  23.1s\n",
      "[CV] END colsample_bytree=0.1, learning_rate=0.9478947368421053, max_depth=10, n_estimators=45, subsample=0.8; total time=  23.7s\n",
      "[CV] END colsample_bytree=0.9, learning_rate=0.32263157894736844, max_depth=10, n_estimators=20, subsample=0.9; total time=  30.5s\n",
      "[CV] END colsample_bytree=0.9, learning_rate=0.32263157894736844, max_depth=10, n_estimators=20, subsample=0.9; total time=  30.2s\n",
      "[CV] END colsample_bytree=0.9, learning_rate=0.32263157894736844, max_depth=10, n_estimators=20, subsample=0.9; total time=  30.0s\n",
      "[CV] END colsample_bytree=0.6, learning_rate=0.6352631578947369, max_depth=2, n_estimators=45, subsample=0.8; total time=  12.0s\n",
      "[CV] END colsample_bytree=0.6, learning_rate=0.6352631578947369, max_depth=2, n_estimators=45, subsample=0.8; total time=  11.6s\n",
      "[CV] END colsample_bytree=0.6, learning_rate=0.6352631578947369, max_depth=2, n_estimators=45, subsample=0.8; total time=  11.4s\n",
      "[CV] END colsample_bytree=0.6, learning_rate=0.6352631578947369, max_depth=2, n_estimators=45, subsample=0.8; total time=  11.0s\n",
      "[CV] END colsample_bytree=0.6, learning_rate=0.6352631578947369, max_depth=2, n_estimators=45, subsample=0.8; total time=  11.9s\n",
      "[CV] END colsample_bytree=0.9, learning_rate=0.32263157894736844, max_depth=10, n_estimators=20, subsample=0.9; total time=  29.9s\n",
      "[CV] END colsample_bytree=0.9, learning_rate=0.32263157894736844, max_depth=10, n_estimators=20, subsample=0.9; total time=  30.5s\n",
      "[CV] END colsample_bytree=0.4, learning_rate=0.16631578947368422, max_depth=7, n_estimators=40, subsample=0.1; total time=  23.9s\n",
      "[CV] END colsample_bytree=0.4, learning_rate=0.16631578947368422, max_depth=7, n_estimators=40, subsample=0.1; total time=  26.3s\n",
      "[CV] END colsample_bytree=0.4, learning_rate=0.16631578947368422, max_depth=7, n_estimators=40, subsample=0.1; total time=  25.5s\n",
      "[CV] END colsample_bytree=0.4, learning_rate=0.16631578947368422, max_depth=7, n_estimators=40, subsample=0.1; total time=  26.8s\n",
      "[CV] END colsample_bytree=0.4, learning_rate=0.16631578947368422, max_depth=7, n_estimators=40, subsample=0.1; total time=  26.7s\n",
      "[CV] END colsample_bytree=0.8, learning_rate=0.6873684210526316, max_depth=8, n_estimators=35, subsample=1.0; total time=  42.3s\n",
      "[CV] END colsample_bytree=0.8, learning_rate=0.6873684210526316, max_depth=8, n_estimators=35, subsample=1.0; total time=  41.1s\n",
      "[CV] END colsample_bytree=0.8, learning_rate=0.6873684210526316, max_depth=8, n_estimators=35, subsample=1.0; total time=  41.1s\n",
      "[CV] END colsample_bytree=0.9, learning_rate=0.791578947368421, max_depth=6, n_estimators=35, subsample=0.5; total time=  32.0s\n",
      "[CV] END colsample_bytree=0.9, learning_rate=0.791578947368421, max_depth=6, n_estimators=35, subsample=0.5; total time=  32.5s\n",
      "[CV] END colsample_bytree=0.8, learning_rate=0.6873684210526316, max_depth=8, n_estimators=35, subsample=1.0; total time=  39.9s\n",
      "[CV] END colsample_bytree=0.8, learning_rate=0.6873684210526316, max_depth=8, n_estimators=35, subsample=1.0; total time=  40.7s\n",
      "[CV] END colsample_bytree=0.9, learning_rate=0.791578947368421, max_depth=6, n_estimators=35, subsample=0.5; total time=  31.7s\n"
     ]
    },
    {
     "ename": "KeyboardInterrupt",
     "evalue": "",
     "output_type": "error",
     "traceback": [
      "\u001b[0;31m---------------------------------------------------------------------------\u001b[0m",
      "\u001b[0;31mKeyboardInterrupt\u001b[0m                         Traceback (most recent call last)",
      "Cell \u001b[0;32mIn[230], line 11\u001b[0m\n\u001b[1;32m      1\u001b[0m param_dist \u001b[39m=\u001b[39m {\u001b[39m'\u001b[39m\u001b[39mn_estimators\u001b[39m\u001b[39m'\u001b[39m: np\u001b[39m.\u001b[39marange(\u001b[39m20\u001b[39m, \u001b[39m50\u001b[39m, \u001b[39m5\u001b[39m), \n\u001b[1;32m      2\u001b[0m               \u001b[39m'\u001b[39m\u001b[39mlearning_rate\u001b[39m\u001b[39m'\u001b[39m: np\u001b[39m.\u001b[39mlinspace(\u001b[39m0.01\u001b[39m, \u001b[39m1\u001b[39m, \u001b[39m20\u001b[39m),\n\u001b[1;32m      3\u001b[0m               \u001b[39m'\u001b[39m\u001b[39mmax_depth\u001b[39m\u001b[39m'\u001b[39m: np\u001b[39m.\u001b[39marange(\u001b[39m1\u001b[39m, \u001b[39m11\u001b[39m),\n\u001b[1;32m      4\u001b[0m               \u001b[39m'\u001b[39m\u001b[39msubsample\u001b[39m\u001b[39m'\u001b[39m: np\u001b[39m.\u001b[39mlinspace(\u001b[39m0.1\u001b[39m, \u001b[39m1\u001b[39m, \u001b[39m10\u001b[39m),\n\u001b[1;32m      5\u001b[0m               \u001b[39m'\u001b[39m\u001b[39mcolsample_bytree\u001b[39m\u001b[39m'\u001b[39m: np\u001b[39m.\u001b[39mlinspace(\u001b[39m0.1\u001b[39m, \u001b[39m1\u001b[39m, \u001b[39m10\u001b[39m)\n\u001b[1;32m      6\u001b[0m              }\n\u001b[1;32m      8\u001b[0m random_search \u001b[39m=\u001b[39m RandomizedSearchCV(xgb_pipe[\u001b[39m-\u001b[39m\u001b[39m1\u001b[39m], param_distributions\u001b[39m=\u001b[39mparam_dist,\n\u001b[1;32m      9\u001b[0m                                    n_iter\u001b[39m=\u001b[39m\u001b[39m50\u001b[39m, cv\u001b[39m=\u001b[39m\u001b[39m5\u001b[39m, n_jobs\u001b[39m=\u001b[39m\u001b[39m-\u001b[39m\u001b[39m1\u001b[39m, verbose\u001b[39m=\u001b[39m\u001b[39m2\u001b[39m)\n\u001b[0;32m---> 11\u001b[0m random_search\u001b[39m.\u001b[39;49mfit(X_train, y_train)\n",
      "File \u001b[0;32m~/Documents/Projet_Classification/env/lib/python3.9/site-packages/sklearn/model_selection/_search.py:875\u001b[0m, in \u001b[0;36mBaseSearchCV.fit\u001b[0;34m(self, X, y, groups, **fit_params)\u001b[0m\n\u001b[1;32m    869\u001b[0m     results \u001b[39m=\u001b[39m \u001b[39mself\u001b[39m\u001b[39m.\u001b[39m_format_results(\n\u001b[1;32m    870\u001b[0m         all_candidate_params, n_splits, all_out, all_more_results\n\u001b[1;32m    871\u001b[0m     )\n\u001b[1;32m    873\u001b[0m     \u001b[39mreturn\u001b[39;00m results\n\u001b[0;32m--> 875\u001b[0m \u001b[39mself\u001b[39;49m\u001b[39m.\u001b[39;49m_run_search(evaluate_candidates)\n\u001b[1;32m    877\u001b[0m \u001b[39m# multimetric is determined here because in the case of a callable\u001b[39;00m\n\u001b[1;32m    878\u001b[0m \u001b[39m# self.scoring the return type is only known after calling\u001b[39;00m\n\u001b[1;32m    879\u001b[0m first_test_score \u001b[39m=\u001b[39m all_out[\u001b[39m0\u001b[39m][\u001b[39m\"\u001b[39m\u001b[39mtest_scores\u001b[39m\u001b[39m\"\u001b[39m]\n",
      "File \u001b[0;32m~/Documents/Projet_Classification/env/lib/python3.9/site-packages/sklearn/model_selection/_search.py:1769\u001b[0m, in \u001b[0;36mRandomizedSearchCV._run_search\u001b[0;34m(self, evaluate_candidates)\u001b[0m\n\u001b[1;32m   1767\u001b[0m \u001b[39mdef\u001b[39;00m \u001b[39m_run_search\u001b[39m(\u001b[39mself\u001b[39m, evaluate_candidates):\n\u001b[1;32m   1768\u001b[0m \u001b[39m    \u001b[39m\u001b[39m\"\"\"Search n_iter candidates from param_distributions\"\"\"\u001b[39;00m\n\u001b[0;32m-> 1769\u001b[0m     evaluate_candidates(\n\u001b[1;32m   1770\u001b[0m         ParameterSampler(\n\u001b[1;32m   1771\u001b[0m             \u001b[39mself\u001b[39;49m\u001b[39m.\u001b[39;49mparam_distributions, \u001b[39mself\u001b[39;49m\u001b[39m.\u001b[39;49mn_iter, random_state\u001b[39m=\u001b[39;49m\u001b[39mself\u001b[39;49m\u001b[39m.\u001b[39;49mrandom_state\n\u001b[1;32m   1772\u001b[0m         )\n\u001b[1;32m   1773\u001b[0m     )\n",
      "File \u001b[0;32m~/Documents/Projet_Classification/env/lib/python3.9/site-packages/sklearn/model_selection/_search.py:822\u001b[0m, in \u001b[0;36mBaseSearchCV.fit.<locals>.evaluate_candidates\u001b[0;34m(candidate_params, cv, more_results)\u001b[0m\n\u001b[1;32m    814\u001b[0m \u001b[39mif\u001b[39;00m \u001b[39mself\u001b[39m\u001b[39m.\u001b[39mverbose \u001b[39m>\u001b[39m \u001b[39m0\u001b[39m:\n\u001b[1;32m    815\u001b[0m     \u001b[39mprint\u001b[39m(\n\u001b[1;32m    816\u001b[0m         \u001b[39m\"\u001b[39m\u001b[39mFitting \u001b[39m\u001b[39m{0}\u001b[39;00m\u001b[39m folds for each of \u001b[39m\u001b[39m{1}\u001b[39;00m\u001b[39m candidates,\u001b[39m\u001b[39m\"\u001b[39m\n\u001b[1;32m    817\u001b[0m         \u001b[39m\"\u001b[39m\u001b[39m totalling \u001b[39m\u001b[39m{2}\u001b[39;00m\u001b[39m fits\u001b[39m\u001b[39m\"\u001b[39m\u001b[39m.\u001b[39mformat(\n\u001b[1;32m    818\u001b[0m             n_splits, n_candidates, n_candidates \u001b[39m*\u001b[39m n_splits\n\u001b[1;32m    819\u001b[0m         )\n\u001b[1;32m    820\u001b[0m     )\n\u001b[0;32m--> 822\u001b[0m out \u001b[39m=\u001b[39m parallel(\n\u001b[1;32m    823\u001b[0m     delayed(_fit_and_score)(\n\u001b[1;32m    824\u001b[0m         clone(base_estimator),\n\u001b[1;32m    825\u001b[0m         X,\n\u001b[1;32m    826\u001b[0m         y,\n\u001b[1;32m    827\u001b[0m         train\u001b[39m=\u001b[39;49mtrain,\n\u001b[1;32m    828\u001b[0m         test\u001b[39m=\u001b[39;49mtest,\n\u001b[1;32m    829\u001b[0m         parameters\u001b[39m=\u001b[39;49mparameters,\n\u001b[1;32m    830\u001b[0m         split_progress\u001b[39m=\u001b[39;49m(split_idx, n_splits),\n\u001b[1;32m    831\u001b[0m         candidate_progress\u001b[39m=\u001b[39;49m(cand_idx, n_candidates),\n\u001b[1;32m    832\u001b[0m         \u001b[39m*\u001b[39;49m\u001b[39m*\u001b[39;49mfit_and_score_kwargs,\n\u001b[1;32m    833\u001b[0m     )\n\u001b[1;32m    834\u001b[0m     \u001b[39mfor\u001b[39;49;00m (cand_idx, parameters), (split_idx, (train, test)) \u001b[39min\u001b[39;49;00m product(\n\u001b[1;32m    835\u001b[0m         \u001b[39menumerate\u001b[39;49m(candidate_params), \u001b[39menumerate\u001b[39;49m(cv\u001b[39m.\u001b[39;49msplit(X, y, groups))\n\u001b[1;32m    836\u001b[0m     )\n\u001b[1;32m    837\u001b[0m )\n\u001b[1;32m    839\u001b[0m \u001b[39mif\u001b[39;00m \u001b[39mlen\u001b[39m(out) \u001b[39m<\u001b[39m \u001b[39m1\u001b[39m:\n\u001b[1;32m    840\u001b[0m     \u001b[39mraise\u001b[39;00m \u001b[39mValueError\u001b[39;00m(\n\u001b[1;32m    841\u001b[0m         \u001b[39m\"\u001b[39m\u001b[39mNo fits were performed. \u001b[39m\u001b[39m\"\u001b[39m\n\u001b[1;32m    842\u001b[0m         \u001b[39m\"\u001b[39m\u001b[39mWas the CV iterator empty? \u001b[39m\u001b[39m\"\u001b[39m\n\u001b[1;32m    843\u001b[0m         \u001b[39m\"\u001b[39m\u001b[39mWere there no candidates?\u001b[39m\u001b[39m\"\u001b[39m\n\u001b[1;32m    844\u001b[0m     )\n",
      "File \u001b[0;32m~/Documents/Projet_Classification/env/lib/python3.9/site-packages/joblib/parallel.py:1098\u001b[0m, in \u001b[0;36mParallel.__call__\u001b[0;34m(self, iterable)\u001b[0m\n\u001b[1;32m   1095\u001b[0m     \u001b[39mself\u001b[39m\u001b[39m.\u001b[39m_iterating \u001b[39m=\u001b[39m \u001b[39mFalse\u001b[39;00m\n\u001b[1;32m   1097\u001b[0m \u001b[39mwith\u001b[39;00m \u001b[39mself\u001b[39m\u001b[39m.\u001b[39m_backend\u001b[39m.\u001b[39mretrieval_context():\n\u001b[0;32m-> 1098\u001b[0m     \u001b[39mself\u001b[39;49m\u001b[39m.\u001b[39;49mretrieve()\n\u001b[1;32m   1099\u001b[0m \u001b[39m# Make sure that we get a last message telling us we are done\u001b[39;00m\n\u001b[1;32m   1100\u001b[0m elapsed_time \u001b[39m=\u001b[39m time\u001b[39m.\u001b[39mtime() \u001b[39m-\u001b[39m \u001b[39mself\u001b[39m\u001b[39m.\u001b[39m_start_time\n",
      "File \u001b[0;32m~/Documents/Projet_Classification/env/lib/python3.9/site-packages/joblib/parallel.py:975\u001b[0m, in \u001b[0;36mParallel.retrieve\u001b[0;34m(self)\u001b[0m\n\u001b[1;32m    973\u001b[0m \u001b[39mtry\u001b[39;00m:\n\u001b[1;32m    974\u001b[0m     \u001b[39mif\u001b[39;00m \u001b[39mgetattr\u001b[39m(\u001b[39mself\u001b[39m\u001b[39m.\u001b[39m_backend, \u001b[39m'\u001b[39m\u001b[39msupports_timeout\u001b[39m\u001b[39m'\u001b[39m, \u001b[39mFalse\u001b[39;00m):\n\u001b[0;32m--> 975\u001b[0m         \u001b[39mself\u001b[39m\u001b[39m.\u001b[39m_output\u001b[39m.\u001b[39mextend(job\u001b[39m.\u001b[39;49mget(timeout\u001b[39m=\u001b[39;49m\u001b[39mself\u001b[39;49m\u001b[39m.\u001b[39;49mtimeout))\n\u001b[1;32m    976\u001b[0m     \u001b[39melse\u001b[39;00m:\n\u001b[1;32m    977\u001b[0m         \u001b[39mself\u001b[39m\u001b[39m.\u001b[39m_output\u001b[39m.\u001b[39mextend(job\u001b[39m.\u001b[39mget())\n",
      "File \u001b[0;32m~/Documents/Projet_Classification/env/lib/python3.9/site-packages/joblib/_parallel_backends.py:567\u001b[0m, in \u001b[0;36mLokyBackend.wrap_future_result\u001b[0;34m(future, timeout)\u001b[0m\n\u001b[1;32m    564\u001b[0m \u001b[39m\u001b[39m\u001b[39m\"\"\"Wrapper for Future.result to implement the same behaviour as\u001b[39;00m\n\u001b[1;32m    565\u001b[0m \u001b[39mAsyncResults.get from multiprocessing.\"\"\"\u001b[39;00m\n\u001b[1;32m    566\u001b[0m \u001b[39mtry\u001b[39;00m:\n\u001b[0;32m--> 567\u001b[0m     \u001b[39mreturn\u001b[39;00m future\u001b[39m.\u001b[39;49mresult(timeout\u001b[39m=\u001b[39;49mtimeout)\n\u001b[1;32m    568\u001b[0m \u001b[39mexcept\u001b[39;00m CfTimeoutError \u001b[39mas\u001b[39;00m e:\n\u001b[1;32m    569\u001b[0m     \u001b[39mraise\u001b[39;00m \u001b[39mTimeoutError\u001b[39;00m \u001b[39mfrom\u001b[39;00m \u001b[39me\u001b[39;00m\n",
      "File \u001b[0;32m~/miniconda3/lib/python3.9/concurrent/futures/_base.py:441\u001b[0m, in \u001b[0;36mFuture.result\u001b[0;34m(self, timeout)\u001b[0m\n\u001b[1;32m    438\u001b[0m \u001b[39melif\u001b[39;00m \u001b[39mself\u001b[39m\u001b[39m.\u001b[39m_state \u001b[39m==\u001b[39m FINISHED:\n\u001b[1;32m    439\u001b[0m     \u001b[39mreturn\u001b[39;00m \u001b[39mself\u001b[39m\u001b[39m.\u001b[39m__get_result()\n\u001b[0;32m--> 441\u001b[0m \u001b[39mself\u001b[39;49m\u001b[39m.\u001b[39;49m_condition\u001b[39m.\u001b[39;49mwait(timeout)\n\u001b[1;32m    443\u001b[0m \u001b[39mif\u001b[39;00m \u001b[39mself\u001b[39m\u001b[39m.\u001b[39m_state \u001b[39min\u001b[39;00m [CANCELLED, CANCELLED_AND_NOTIFIED]:\n\u001b[1;32m    444\u001b[0m     \u001b[39mraise\u001b[39;00m CancelledError()\n",
      "File \u001b[0;32m~/miniconda3/lib/python3.9/threading.py:312\u001b[0m, in \u001b[0;36mCondition.wait\u001b[0;34m(self, timeout)\u001b[0m\n\u001b[1;32m    310\u001b[0m \u001b[39mtry\u001b[39;00m:    \u001b[39m# restore state no matter what (e.g., KeyboardInterrupt)\u001b[39;00m\n\u001b[1;32m    311\u001b[0m     \u001b[39mif\u001b[39;00m timeout \u001b[39mis\u001b[39;00m \u001b[39mNone\u001b[39;00m:\n\u001b[0;32m--> 312\u001b[0m         waiter\u001b[39m.\u001b[39;49macquire()\n\u001b[1;32m    313\u001b[0m         gotit \u001b[39m=\u001b[39m \u001b[39mTrue\u001b[39;00m\n\u001b[1;32m    314\u001b[0m     \u001b[39melse\u001b[39;00m:\n",
      "\u001b[0;31mKeyboardInterrupt\u001b[0m: "
     ]
    }
   ],
   "source": [
    "param_dist = {'n_estimators': np.arange(20, 50, 5), \n",
    "              'learning_rate': np.linspace(0.01, 1, 20),\n",
    "              'max_depth': np.arange(1, 11),\n",
    "              'subsample': np.linspace(0.1, 1, 10),\n",
    "              'colsample_bytree': np.linspace(0.1, 1, 10)\n",
    "             }\n",
    "\n",
    "random_search = RandomizedSearchCV(xgb_pipe[-1], param_distributions=param_dist,\n",
    "                                   n_iter=50, cv=5, n_jobs=-1, verbose=2)\n",
    "\n",
    "random_search.fit(X_train, y_train)"
   ]
  }
 ],
 "metadata": {
  "kernelspec": {
   "display_name": "env",
   "language": "python",
   "name": "python3"
  },
  "language_info": {
   "codemirror_mode": {
    "name": "ipython",
    "version": 3
   },
   "file_extension": ".py",
   "mimetype": "text/x-python",
   "name": "python",
   "nbconvert_exporter": "python",
   "pygments_lexer": "ipython3",
   "version": "3.9.12"
  },
  "orig_nbformat": 4,
  "vscode": {
   "interpreter": {
    "hash": "cc4dea8e5729fabed56bc94b4b3703873ec3fd82ccffa8a0f5027c5e725a41c0"
   }
  }
 },
 "nbformat": 4,
 "nbformat_minor": 2
}
