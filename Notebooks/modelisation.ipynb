{
 "cells": [
  {
   "attachments": {},
   "cell_type": "markdown",
   "metadata": {},
   "source": [
    "# Importation des modules"
   ]
  },
  {
   "cell_type": "code",
   "execution_count": 393,
   "metadata": {},
   "outputs": [],
   "source": [
    "# Pour manipuler et visualiser les données\n",
    "import numpy as np\n",
    "import pandas as pd\n",
    "import matplotlib.pyplot as plt\n",
    "import seaborn as sns\n",
    "\n",
    "# Pour séparer et évaluer les données\n",
    "from sklearn.model_selection import train_test_split, cross_validate, KFold, learning_curve, GridSearchCV, RandomizedSearchCV\n",
    "\n",
    "# Pour préparer les données\n",
    "from sklearn.preprocessing import StandardScaler, OneHotEncoder\n",
    "from sklearn.compose import make_column_transformer\n",
    "from sklearn.pipeline import make_pipeline\n",
    "\n",
    "# Pour créer des arbres de classification\n",
    "from sklearn.dummy import DummyClassifier\n",
    "from sklearn.ensemble import RandomForestClassifier\n",
    "\n",
    "# Pour faire un modèle de régression logistique \n",
    "from sklearn.linear_model import LogisticRegression\n",
    "\n",
    "# Pour utiliser xgboost\n",
    "import xgboost as xgb\n",
    "\n",
    "# Pour utiliser les métriques\n",
    "from sklearn.metrics import accuracy_score, precision_score, recall_score, f1_score, roc_auc_score, confusion_matrix, classification_report\n",
    "\n",
    "# Pour exporter notre modèle\n",
    "import pickle\n",
    "\n",
    "# pour utiliser PCA et MLflow\n",
    "from sklearn.decomposition import PCA\n",
    "import mlflow\n",
    "import mlflow.sklearn"
   ]
  },
  {
   "attachments": {},
   "cell_type": "markdown",
   "metadata": {},
   "source": [
    "# Création du dataset et Dummy Classifier"
   ]
  },
  {
   "attachments": {},
   "cell_type": "markdown",
   "metadata": {},
   "source": [
    "On commence par créer un dataset avec les variables :\n",
    "<p style='color: #FFA07A'> NAICS, NoEmp, RetainedJob, UrbanRural, Term, UrbanRural, MIS_Status </p>"
   ]
  },
  {
   "cell_type": "code",
   "execution_count": 394,
   "metadata": {},
   "outputs": [
    {
     "name": "stderr",
     "output_type": "stream",
     "text": [
      "/tmp/ipykernel_31367/3668100114.py:1: DtypeWarning: Columns (8) have mixed types. Specify dtype option on import or set low_memory=False.\n",
      "  df = pd.read_csv(\"archive/SBAnational_clean.csv\")\n"
     ]
    }
   ],
   "source": [
    "df = pd.read_csv(\"archive/SBAnational_clean.csv\")"
   ]
  },
  {
   "cell_type": "code",
   "execution_count": 395,
   "metadata": {},
   "outputs": [],
   "source": [
    "df['NAICS'] = df['NAICS'].astype(str).apply(lambda x : x[:2])\n",
    "df[['NAICS']] = df[['NAICS']].astype(int)"
   ]
  },
  {
   "cell_type": "code",
   "execution_count": 396,
   "metadata": {},
   "outputs": [
    {
     "data": {
      "text/plain": [
       "array([45, 72, 62,  0, 33, 81, 23, 44, 42, 61, 53, 54, 31, 51, 71, 52, 21,\n",
       "       32, 56, 48, 11, 92, 22, 49, 55])"
      ]
     },
     "execution_count": 396,
     "metadata": {},
     "output_type": "execute_result"
    }
   ],
   "source": [
    "df[\"NAICS\"].unique()"
   ]
  },
  {
   "cell_type": "code",
   "execution_count": 397,
   "metadata": {},
   "outputs": [],
   "source": [
    "# Dataframe contenant les variables explicatives\n",
    "X = df[['NAICS', 'NoEmp',  'RetainedJob', 'UrbanRural','Term']]\n",
    "\n",
    "# On transforme les valeurs de MIS_Status en 0 ou 1\n",
    "y = df['MIS_Status'].astype('category').cat.codes"
   ]
  },
  {
   "cell_type": "code",
   "execution_count": 398,
   "metadata": {},
   "outputs": [
    {
     "data": {
      "text/plain": [
       "1    729148\n",
       "0    155977\n",
       "dtype: int64"
      ]
     },
     "execution_count": 398,
     "metadata": {},
     "output_type": "execute_result"
    }
   ],
   "source": [
    "y.value_counts()"
   ]
  },
  {
   "attachments": {},
   "cell_type": "markdown",
   "metadata": {},
   "source": [
    "On crée maintenant notre jeu de données d'entraînement et de test :"
   ]
  },
  {
   "cell_type": "code",
   "execution_count": 399,
   "metadata": {},
   "outputs": [],
   "source": [
    "X_train, X_test, y_train, y_test = train_test_split(X, y, shuffle=True, test_size=0.2, random_state=42, stratify=y)"
   ]
  },
  {
   "attachments": {},
   "cell_type": "markdown",
   "metadata": {},
   "source": [
    "On sépare les variables numériques et catégorielle :"
   ]
  },
  {
   "cell_type": "code",
   "execution_count": 400,
   "metadata": {},
   "outputs": [],
   "source": [
    "var_num = ['NoEmp','RetainedJob','Term','NAICS']\n",
    "\n",
    "var_cat = [ 'UrbanRural']"
   ]
  },
  {
   "attachments": {},
   "cell_type": "markdown",
   "metadata": {},
   "source": [
    "Puis on crée un transformateur de colonne :"
   ]
  },
  {
   "cell_type": "code",
   "execution_count": 401,
   "metadata": {},
   "outputs": [],
   "source": [
    "preprocessor = make_column_transformer(\n",
    "    (StandardScaler(), var_num),\n",
    "    (OneHotEncoder(), var_cat)\n",
    ")"
   ]
  },
  {
   "attachments": {},
   "cell_type": "markdown",
   "metadata": {},
   "source": [
    "On commence notre modélisation par un Dummy Classifier qui servira de point de comparaison :"
   ]
  },
  {
   "cell_type": "code",
   "execution_count": 402,
   "metadata": {},
   "outputs": [
    {
     "name": "stdout",
     "output_type": "stream",
     "text": [
      "              precision    recall  f1-score   support\n",
      "\n",
      "           0       0.00      0.00      0.00     31195\n",
      "           1       0.82      1.00      0.90    145830\n",
      "\n",
      "    accuracy                           0.82    177025\n",
      "   macro avg       0.41      0.50      0.45    177025\n",
      "weighted avg       0.68      0.82      0.74    177025\n",
      "\n"
     ]
    },
    {
     "name": "stderr",
     "output_type": "stream",
     "text": [
      "/home/apprenant/Documents/Projet_Classification/env/lib/python3.9/site-packages/sklearn/metrics/_classification.py:1344: UndefinedMetricWarning: Precision and F-score are ill-defined and being set to 0.0 in labels with no predicted samples. Use `zero_division` parameter to control this behavior.\n",
      "  _warn_prf(average, modifier, msg_start, len(result))\n",
      "/home/apprenant/Documents/Projet_Classification/env/lib/python3.9/site-packages/sklearn/metrics/_classification.py:1344: UndefinedMetricWarning: Precision and F-score are ill-defined and being set to 0.0 in labels with no predicted samples. Use `zero_division` parameter to control this behavior.\n",
      "  _warn_prf(average, modifier, msg_start, len(result))\n",
      "/home/apprenant/Documents/Projet_Classification/env/lib/python3.9/site-packages/sklearn/metrics/_classification.py:1344: UndefinedMetricWarning: Precision and F-score are ill-defined and being set to 0.0 in labels with no predicted samples. Use `zero_division` parameter to control this behavior.\n",
      "  _warn_prf(average, modifier, msg_start, len(result))\n"
     ]
    }
   ],
   "source": [
    "dummy = make_pipeline(preprocessor, DummyClassifier())\n",
    "\n",
    "dummy.fit(X_train, y_train)\n",
    "\n",
    "y_pred = dummy.predict(X_test)\n",
    "\n",
    "dummy_report = (classification_report(y_test, y_pred))\n",
    "print(dummy_report)"
   ]
  },
  {
   "attachments": {},
   "cell_type": "markdown",
   "metadata": {},
   "source": [
    "# Random Forest Classifier"
   ]
  },
  {
   "attachments": {},
   "cell_type": "markdown",
   "metadata": {},
   "source": [
    "Nous allons maintenant utiliser un Random Forest Classififier sans paramètres pour le comparer avec notre Dummy Classifier :"
   ]
  },
  {
   "cell_type": "code",
   "execution_count": 403,
   "metadata": {},
   "outputs": [],
   "source": [
    "# # Entraînement du modèle\n",
    "# rf_pipe = make_pipeline(preprocessor, RandomForestClassifier())\n",
    "# rf_pipe.fit(X_train, y_train)"
   ]
  },
  {
   "attachments": {},
   "cell_type": "markdown",
   "metadata": {},
   "source": [
    "On affiche l'importance des features :"
   ]
  },
  {
   "cell_type": "code",
   "execution_count": 404,
   "metadata": {},
   "outputs": [],
   "source": [
    "# importances = rf_pipe[-1].feature_importances_\n",
    "# importances\n",
    "# # features = pd.DataFrame({\"feature\": X_train.columns, \"importance\": importances})\n",
    "# # features"
   ]
  },
  {
   "cell_type": "code",
   "execution_count": 405,
   "metadata": {},
   "outputs": [],
   "source": [
    "# rf_pipe.get_feature_names_out"
   ]
  },
  {
   "cell_type": "code",
   "execution_count": 406,
   "metadata": {},
   "outputs": [],
   "source": [
    "# y_pred = rf_pipe.predict(X_test)\n",
    "\n",
    "# rfc_report = classification_report(y_test, y_pred)\n",
    "# print(rfc_report)"
   ]
  },
  {
   "attachments": {},
   "cell_type": "markdown",
   "metadata": {},
   "source": [
    "En utilisant un Random Forest Classifier sans paramètres, on obtient de bons résultats, proches de notre Dummy Classifier pour les classes positives. <br>\n",
    "On va essayer d'affiner notre modèle avec en cherchant les meilleurs hyperparamètres :"
   ]
  },
  {
   "cell_type": "code",
   "execution_count": 407,
   "metadata": {},
   "outputs": [],
   "source": [
    "# # On définit les paramètres à rechercher avec un intervalle de recherche\n",
    "# param_dist = {'n_estimators': np.arange(30, 100, 1), \n",
    "#               'max_depth': np.arange(1, 11),\n",
    "#               'min_samples_split': np.arange(2, 10),\n",
    "#               'min_samples_leaf': np.arange(1, 10),\n",
    "#               'criterion': ['gini','entropy']}\n",
    "\n",
    "# # On crée un objet Random Search \n",
    "# random_search = RandomizedSearchCV(rf_pipe[-1], param_distributions=param_dist,\n",
    "#                                   cv=5, n_jobs=-1, verbose=1)\n",
    "\n",
    "# # On entrâine le modèle\n",
    "# random_search.fit(X_train, y_train)\n",
    "\n",
    "# # On récupère les meilleurs hyperparamètres trouvés\n",
    "# best_params = random_search.best_params_\n",
    "# print(best_params)\n",
    "\n",
    "# # Entraînement du modèle\n",
    "# rf_pipe = make_pipeline(preprocessor, RandomForestClassifier(**best_params, class_weight=\"balanced\"))\n",
    "# rf_pipe.fit(X_train, y_train)\n",
    "\n",
    "# y_pred = rf_pipe.predict(X_test)\n",
    "\n",
    "# print(f\"resultats après grid search :\\n {classification_report(y_test, y_pred)}\")\n",
    "# print(f\"resultats avant grid search :\\n {rfc_report}\")"
   ]
  },
  {
   "attachments": {},
   "cell_type": "markdown",
   "metadata": {},
   "source": [
    "# Régression logistique"
   ]
  },
  {
   "cell_type": "code",
   "execution_count": 408,
   "metadata": {},
   "outputs": [],
   "source": [
    "# # Entraînement du modèle\n",
    "# rf_pipe_log = make_pipeline(preprocessor, LogisticRegression())\n",
    "# rf_pipe_log.fit(X_train, y_train)"
   ]
  },
  {
   "cell_type": "code",
   "execution_count": 409,
   "metadata": {},
   "outputs": [],
   "source": [
    "# y_pred = rf_pipe_log.predict(X_test)\n",
    "\n",
    "# log_report = classification_report(y_test, y_pred)\n",
    "# print(log_report)"
   ]
  },
  {
   "cell_type": "code",
   "execution_count": 410,
   "metadata": {},
   "outputs": [],
   "source": [
    "# # #On définit les paramètres à rechercher avec un intervalle de recherche\n",
    "# param_dist = {'C': np.logspace(-4, 4, 20),\n",
    "#               'penalty': ['l1', 'l2', 'elasticnet'],\n",
    "#               'solver': ['newton-cg', 'lbfgs', 'liblinear', 'sag', 'saga']}\n",
    "\n",
    "# # On crée un objet Random Search \n",
    "# random_search = RandomizedSearchCV(rf_pipe_log[-1], param_distributions=param_dist,\n",
    "#                                    n_iter=50, cv=5, n_jobs=-1, verbose=1)\n",
    "\n",
    "# # On entrâine le modèle\n",
    "# random_search.fit(X_train, y_train) \n",
    "\n",
    "# # On récupère les meilleurs hyperparamètres trouvés\n",
    "# best_params = random_search.best_params_\n",
    "# print(best_params)\n",
    "\n",
    "# # Entraînement du modèle\n",
    "# rf_pipe_log_opti = make_pipeline(preprocessor, LogisticRegression(**best_params, class_weight=\"balanced\"))\n",
    "# rf_pipe_log_opti.fit(X_train, y_train)\n",
    "\n",
    "# y_pred = rf_pipe_log_opti.predict(X_test)"
   ]
  },
  {
   "cell_type": "code",
   "execution_count": 411,
   "metadata": {},
   "outputs": [],
   "source": [
    "# print(f\"resultats après grid search :\\n {classification_report(y_test, y_pred)}\")\n",
    "# print(f\"resultats avant grid search :\\n {log_report}\")"
   ]
  },
  {
   "attachments": {},
   "cell_type": "markdown",
   "metadata": {},
   "source": [
    "# XGBoost"
   ]
  },
  {
   "cell_type": "code",
   "execution_count": 412,
   "metadata": {},
   "outputs": [],
   "source": [
    "# # Entraînement du modèle\n",
    "# xgb_pipe = make_pipeline(preprocessor, xgb.XGBClassifier(class_weight=\"balanced\"))\n",
    "# xgb_pipe.fit(X_train, y_train)"
   ]
  },
  {
   "cell_type": "code",
   "execution_count": 413,
   "metadata": {},
   "outputs": [],
   "source": [
    "# y_pred = xgb_pipe.predict(X_test)\n",
    "\n",
    "# xgb_report = classification_report(y_test, y_pred)\n",
    "# print(xgb_report)"
   ]
  },
  {
   "cell_type": "code",
   "execution_count": 414,
   "metadata": {},
   "outputs": [],
   "source": [
    "# xgb_pipe.get_params()"
   ]
  },
  {
   "cell_type": "code",
   "execution_count": 415,
   "metadata": {},
   "outputs": [],
   "source": [
    "# param_dist = {'xgbclassifier__n_estimators': np.arange(90, 100, 1), \n",
    "#               'xgbclassifier__learning_rate': np.linspace(0.01, 1, 20),\n",
    "#               'xgbclassifier__max_depth': np.arange(1, 11),\n",
    "#               'xgbclassifier__subsample': np.linspace(0.1, 1, 10),\n",
    "#               'xgbclassifier__colsample_bytree': np.linspace(0.1, 1, 10)\n",
    "#              }\n",
    "\n",
    "# random_search = RandomizedSearchCV(xgb_pipe, param_distributions=param_dist,\n",
    "#                                    n_iter=50, cv=5, n_jobs=-1, verbose=2)\n",
    "\n",
    "# random_search.fit(X_train, y_train)\n",
    "\n",
    "# # On récupère les meilleurs hyperparamètres trouvés\n",
    "# best_params = random_search.best_params_\n",
    "\n",
    "# # Entraînement du modèle\n",
    "# xgb_pipe_opti = make_pipeline(preprocessor, xgb.XGBClassifier(**best_params))\n",
    "# xgb_pipe_opti.fit(X_train, y_train)\n",
    "\n",
    "# y_pred = xgb_pipe_opti.predict(X_test)\n",
    "# xgb_opti_report = classification_report(y_test, y_pred)"
   ]
  },
  {
   "cell_type": "code",
   "execution_count": 416,
   "metadata": {},
   "outputs": [],
   "source": [
    "# print(best_params)"
   ]
  },
  {
   "cell_type": "code",
   "execution_count": 417,
   "metadata": {},
   "outputs": [],
   "source": [
    "# print(f\"resultats après random search :\\n {xgb_opti_report}\")\n",
    "# print(f\"resultats avant random search :\\n {xgb_report}\")"
   ]
  },
  {
   "attachments": {},
   "cell_type": "markdown",
   "metadata": {},
   "source": [
    "# Modèle au format pkl"
   ]
  },
  {
   "cell_type": "code",
   "execution_count": 418,
   "metadata": {},
   "outputs": [],
   "source": [
    "# with open('xgb_pipe.pkl', 'wb') as f:\n",
    "#     pickle.dump(xgb_pipe, f)"
   ]
  },
  {
   "attachments": {},
   "cell_type": "markdown",
   "metadata": {},
   "source": [
    "# Learning curve et affinage"
   ]
  },
  {
   "cell_type": "code",
   "execution_count": 419,
   "metadata": {},
   "outputs": [],
   "source": [
    "df_sample = df.sample(n=10000)"
   ]
  },
  {
   "cell_type": "code",
   "execution_count": 420,
   "metadata": {},
   "outputs": [],
   "source": [
    "X = df_sample[['NAICS', 'NoEmp',  'RetainedJob', 'UrbanRural','Term']]\n",
    "\n",
    "# On transforme les valeurs de MIS_Status en 0 ou 1\n",
    "y = df_sample['MIS_Status'].astype('category').cat.codes\n",
    "\n",
    "X_train, X_test, y_train, y_test = train_test_split(X, y, shuffle=True, test_size=0.2, random_state=42, stratify=y)"
   ]
  },
  {
   "cell_type": "code",
   "execution_count": 421,
   "metadata": {},
   "outputs": [],
   "source": [
    "xgb_pipe = make_pipeline(preprocessor, xgb.XGBClassifier())"
   ]
  },
  {
   "cell_type": "code",
   "execution_count": 422,
   "metadata": {},
   "outputs": [
    {
     "name": "stdout",
     "output_type": "stream",
     "text": [
      "Fitting 5 folds for each of 50 candidates, totalling 250 fits\n",
      "[CV] END xgbclassifier__colsample_bytree=0.5, xgbclassifier__gamma=0.0, xgbclassifier__learning_rate=1.0, xgbclassifier__max_depth=2, xgbclassifier__min_child_weight=7, xgbclassifier__n_estimators=199, xgbclassifier__reg_alpha=0.6666666666666666, xgbclassifier__reg_lambda=0.3333333333333333, xgbclassifier__subsample=0.2; total time=   0.4s\n",
      "[CV] END xgbclassifier__colsample_bytree=0.5, xgbclassifier__gamma=0.0, xgbclassifier__learning_rate=1.0, xgbclassifier__max_depth=2, xgbclassifier__min_child_weight=7, xgbclassifier__n_estimators=199, xgbclassifier__reg_alpha=0.6666666666666666, xgbclassifier__reg_lambda=0.3333333333333333, xgbclassifier__subsample=0.2; total time=   0.4s\n",
      "[CV] END xgbclassifier__colsample_bytree=0.9, xgbclassifier__gamma=0.0, xgbclassifier__learning_rate=0.01, xgbclassifier__max_depth=1, xgbclassifier__min_child_weight=7, xgbclassifier__n_estimators=195, xgbclassifier__reg_alpha=0.4444444444444444, xgbclassifier__reg_lambda=0.1111111111111111, xgbclassifier__subsample=0.1; total time=   0.3s\n",
      "[CV] END xgbclassifier__colsample_bytree=0.9, xgbclassifier__gamma=0.0, xgbclassifier__learning_rate=0.01, xgbclassifier__max_depth=1, xgbclassifier__min_child_weight=7, xgbclassifier__n_estimators=195, xgbclassifier__reg_alpha=0.4444444444444444, xgbclassifier__reg_lambda=0.1111111111111111, xgbclassifier__subsample=0.1; total time=   0.3s\n",
      "[CV] END xgbclassifier__colsample_bytree=0.5, xgbclassifier__gamma=0.0, xgbclassifier__learning_rate=1.0, xgbclassifier__max_depth=2, xgbclassifier__min_child_weight=7, xgbclassifier__n_estimators=199, xgbclassifier__reg_alpha=0.6666666666666666, xgbclassifier__reg_lambda=0.3333333333333333, xgbclassifier__subsample=0.2; total time=   0.4s\n",
      "[CV] END xgbclassifier__colsample_bytree=0.9, xgbclassifier__gamma=0.0, xgbclassifier__learning_rate=0.01, xgbclassifier__max_depth=1, xgbclassifier__min_child_weight=7, xgbclassifier__n_estimators=195, xgbclassifier__reg_alpha=0.4444444444444444, xgbclassifier__reg_lambda=0.1111111111111111, xgbclassifier__subsample=0.1; total time=   0.3s\n",
      "[CV] END xgbclassifier__colsample_bytree=0.5, xgbclassifier__gamma=0.0, xgbclassifier__learning_rate=1.0, xgbclassifier__max_depth=2, xgbclassifier__min_child_weight=7, xgbclassifier__n_estimators=199, xgbclassifier__reg_alpha=0.6666666666666666, xgbclassifier__reg_lambda=0.3333333333333333, xgbclassifier__subsample=0.2; total time=   0.4s\n",
      "[CV] END xgbclassifier__colsample_bytree=0.5, xgbclassifier__gamma=0.0, xgbclassifier__learning_rate=1.0, xgbclassifier__max_depth=2, xgbclassifier__min_child_weight=7, xgbclassifier__n_estimators=199, xgbclassifier__reg_alpha=0.6666666666666666, xgbclassifier__reg_lambda=0.3333333333333333, xgbclassifier__subsample=0.2; total time=   0.4s\n",
      "[CV] END xgbclassifier__colsample_bytree=0.9, xgbclassifier__gamma=0.0, xgbclassifier__learning_rate=0.01, xgbclassifier__max_depth=1, xgbclassifier__min_child_weight=7, xgbclassifier__n_estimators=195, xgbclassifier__reg_alpha=0.4444444444444444, xgbclassifier__reg_lambda=0.1111111111111111, xgbclassifier__subsample=0.1; total time=   0.3s\n",
      "[CV] END xgbclassifier__colsample_bytree=0.9, xgbclassifier__gamma=0.0, xgbclassifier__learning_rate=0.01, xgbclassifier__max_depth=1, xgbclassifier__min_child_weight=7, xgbclassifier__n_estimators=195, xgbclassifier__reg_alpha=0.4444444444444444, xgbclassifier__reg_lambda=0.1111111111111111, xgbclassifier__subsample=0.1; total time=   0.3s\n",
      "[CV] END xgbclassifier__colsample_bytree=0.8, xgbclassifier__gamma=0.6666666666666666, xgbclassifier__learning_rate=0.6352631578947369, xgbclassifier__max_depth=5, xgbclassifier__min_child_weight=2, xgbclassifier__n_estimators=191, xgbclassifier__reg_alpha=0.6666666666666666, xgbclassifier__reg_lambda=0.1111111111111111, xgbclassifier__subsample=0.8; total time=   0.9s\n",
      "[CV] END xgbclassifier__colsample_bytree=0.8, xgbclassifier__gamma=0.6666666666666666, xgbclassifier__learning_rate=0.6352631578947369, xgbclassifier__max_depth=5, xgbclassifier__min_child_weight=2, xgbclassifier__n_estimators=191, xgbclassifier__reg_alpha=0.6666666666666666, xgbclassifier__reg_lambda=0.1111111111111111, xgbclassifier__subsample=0.8; total time=   0.8s\n",
      "[CV] END xgbclassifier__colsample_bytree=0.8, xgbclassifier__gamma=0.6666666666666666, xgbclassifier__learning_rate=0.6352631578947369, xgbclassifier__max_depth=5, xgbclassifier__min_child_weight=2, xgbclassifier__n_estimators=191, xgbclassifier__reg_alpha=0.6666666666666666, xgbclassifier__reg_lambda=0.1111111111111111, xgbclassifier__subsample=0.8; total time=   0.9s\n",
      "[CV] END xgbclassifier__colsample_bytree=1.0, xgbclassifier__gamma=0.2222222222222222, xgbclassifier__learning_rate=0.5831578947368421, xgbclassifier__max_depth=9, xgbclassifier__min_child_weight=5, xgbclassifier__n_estimators=195, xgbclassifier__reg_alpha=0.5555555555555556, xgbclassifier__reg_lambda=0.0, xgbclassifier__subsample=1.0; total time=   1.5s\n",
      "[CV] END xgbclassifier__colsample_bytree=1.0, xgbclassifier__gamma=0.2222222222222222, xgbclassifier__learning_rate=0.5831578947368421, xgbclassifier__max_depth=9, xgbclassifier__min_child_weight=5, xgbclassifier__n_estimators=195, xgbclassifier__reg_alpha=0.5555555555555556, xgbclassifier__reg_lambda=0.0, xgbclassifier__subsample=1.0; total time=   1.5s\n",
      "[CV] END xgbclassifier__colsample_bytree=1.0, xgbclassifier__gamma=0.2222222222222222, xgbclassifier__learning_rate=0.5831578947368421, xgbclassifier__max_depth=9, xgbclassifier__min_child_weight=5, xgbclassifier__n_estimators=195, xgbclassifier__reg_alpha=0.5555555555555556, xgbclassifier__reg_lambda=0.0, xgbclassifier__subsample=1.0; total time=   1.6s\n",
      "[CV] END xgbclassifier__colsample_bytree=1.0, xgbclassifier__gamma=0.2222222222222222, xgbclassifier__learning_rate=0.5831578947368421, xgbclassifier__max_depth=9, xgbclassifier__min_child_weight=5, xgbclassifier__n_estimators=195, xgbclassifier__reg_alpha=0.5555555555555556, xgbclassifier__reg_lambda=0.0, xgbclassifier__subsample=1.0; total time=   1.5s\n",
      "[CV] END xgbclassifier__colsample_bytree=1.0, xgbclassifier__gamma=0.2222222222222222, xgbclassifier__learning_rate=0.5831578947368421, xgbclassifier__max_depth=9, xgbclassifier__min_child_weight=5, xgbclassifier__n_estimators=195, xgbclassifier__reg_alpha=0.5555555555555556, xgbclassifier__reg_lambda=0.0, xgbclassifier__subsample=1.0; total time=   1.6s\n",
      "[CV] END xgbclassifier__colsample_bytree=0.8, xgbclassifier__gamma=0.6666666666666666, xgbclassifier__learning_rate=0.6352631578947369, xgbclassifier__max_depth=5, xgbclassifier__min_child_weight=2, xgbclassifier__n_estimators=191, xgbclassifier__reg_alpha=0.6666666666666666, xgbclassifier__reg_lambda=0.1111111111111111, xgbclassifier__subsample=0.8; total time=   0.8s\n",
      "[CV] END xgbclassifier__colsample_bytree=0.8, xgbclassifier__gamma=0.6666666666666666, xgbclassifier__learning_rate=0.6352631578947369, xgbclassifier__max_depth=5, xgbclassifier__min_child_weight=2, xgbclassifier__n_estimators=191, xgbclassifier__reg_alpha=0.6666666666666666, xgbclassifier__reg_lambda=0.1111111111111111, xgbclassifier__subsample=0.8; total time=   0.9s\n",
      "[CV] END xgbclassifier__colsample_bytree=0.2, xgbclassifier__gamma=1.0, xgbclassifier__learning_rate=0.11421052631578947, xgbclassifier__max_depth=8, xgbclassifier__min_child_weight=4, xgbclassifier__n_estimators=197, xgbclassifier__reg_alpha=0.6666666666666666, xgbclassifier__reg_lambda=0.1111111111111111, xgbclassifier__subsample=0.5; total time=   0.5s\n",
      "[CV] END xgbclassifier__colsample_bytree=0.2, xgbclassifier__gamma=1.0, xgbclassifier__learning_rate=0.11421052631578947, xgbclassifier__max_depth=8, xgbclassifier__min_child_weight=4, xgbclassifier__n_estimators=197, xgbclassifier__reg_alpha=0.6666666666666666, xgbclassifier__reg_lambda=0.1111111111111111, xgbclassifier__subsample=0.5; total time=   0.5s\n",
      "[CV] END xgbclassifier__colsample_bytree=0.2, xgbclassifier__gamma=1.0, xgbclassifier__learning_rate=0.11421052631578947, xgbclassifier__max_depth=8, xgbclassifier__min_child_weight=4, xgbclassifier__n_estimators=197, xgbclassifier__reg_alpha=0.6666666666666666, xgbclassifier__reg_lambda=0.1111111111111111, xgbclassifier__subsample=0.5; total time=   0.5s\n",
      "[CV] END xgbclassifier__colsample_bytree=0.2, xgbclassifier__gamma=1.0, xgbclassifier__learning_rate=0.11421052631578947, xgbclassifier__max_depth=8, xgbclassifier__min_child_weight=4, xgbclassifier__n_estimators=197, xgbclassifier__reg_alpha=0.6666666666666666, xgbclassifier__reg_lambda=0.1111111111111111, xgbclassifier__subsample=0.5; total time=   0.5s\n",
      "[CV] END xgbclassifier__colsample_bytree=1.0, xgbclassifier__gamma=0.0, xgbclassifier__learning_rate=1.0, xgbclassifier__max_depth=9, xgbclassifier__min_child_weight=4, xgbclassifier__n_estimators=195, xgbclassifier__reg_alpha=0.4444444444444444, xgbclassifier__reg_lambda=0.0, xgbclassifier__subsample=0.7000000000000001; total time=   1.6s\n",
      "[CV] END xgbclassifier__colsample_bytree=0.2, xgbclassifier__gamma=1.0, xgbclassifier__learning_rate=0.11421052631578947, xgbclassifier__max_depth=8, xgbclassifier__min_child_weight=4, xgbclassifier__n_estimators=197, xgbclassifier__reg_alpha=0.6666666666666666, xgbclassifier__reg_lambda=0.1111111111111111, xgbclassifier__subsample=0.5; total time=   0.5s\n",
      "[CV] END xgbclassifier__colsample_bytree=0.8, xgbclassifier__gamma=0.8888888888888888, xgbclassifier__learning_rate=0.01, xgbclassifier__max_depth=3, xgbclassifier__min_child_weight=2, xgbclassifier__n_estimators=191, xgbclassifier__reg_alpha=0.8888888888888888, xgbclassifier__reg_lambda=0.0, xgbclassifier__subsample=1.0; total time=   0.5s\n",
      "[CV] END xgbclassifier__colsample_bytree=1.0, xgbclassifier__gamma=0.0, xgbclassifier__learning_rate=1.0, xgbclassifier__max_depth=9, xgbclassifier__min_child_weight=4, xgbclassifier__n_estimators=195, xgbclassifier__reg_alpha=0.4444444444444444, xgbclassifier__reg_lambda=0.0, xgbclassifier__subsample=0.7000000000000001; total time=   1.6s\n",
      "[CV] END xgbclassifier__colsample_bytree=1.0, xgbclassifier__gamma=0.0, xgbclassifier__learning_rate=1.0, xgbclassifier__max_depth=9, xgbclassifier__min_child_weight=4, xgbclassifier__n_estimators=195, xgbclassifier__reg_alpha=0.4444444444444444, xgbclassifier__reg_lambda=0.0, xgbclassifier__subsample=0.7000000000000001; total time=   1.6s\n",
      "[CV] END xgbclassifier__colsample_bytree=1.0, xgbclassifier__gamma=0.0, xgbclassifier__learning_rate=1.0, xgbclassifier__max_depth=9, xgbclassifier__min_child_weight=4, xgbclassifier__n_estimators=195, xgbclassifier__reg_alpha=0.4444444444444444, xgbclassifier__reg_lambda=0.0, xgbclassifier__subsample=0.7000000000000001; total time=   1.6s\n",
      "[CV] END xgbclassifier__colsample_bytree=1.0, xgbclassifier__gamma=0.0, xgbclassifier__learning_rate=1.0, xgbclassifier__max_depth=9, xgbclassifier__min_child_weight=4, xgbclassifier__n_estimators=195, xgbclassifier__reg_alpha=0.4444444444444444, xgbclassifier__reg_lambda=0.0, xgbclassifier__subsample=0.7000000000000001; total time=   1.6s\n",
      "[CV] END xgbclassifier__colsample_bytree=0.8, xgbclassifier__gamma=0.8888888888888888, xgbclassifier__learning_rate=0.01, xgbclassifier__max_depth=3, xgbclassifier__min_child_weight=2, xgbclassifier__n_estimators=191, xgbclassifier__reg_alpha=0.8888888888888888, xgbclassifier__reg_lambda=0.0, xgbclassifier__subsample=1.0; total time=   0.5s\n",
      "[CV] END xgbclassifier__colsample_bytree=0.8, xgbclassifier__gamma=0.8888888888888888, xgbclassifier__learning_rate=0.01, xgbclassifier__max_depth=3, xgbclassifier__min_child_weight=2, xgbclassifier__n_estimators=191, xgbclassifier__reg_alpha=0.8888888888888888, xgbclassifier__reg_lambda=0.0, xgbclassifier__subsample=1.0; total time=   0.5s\n",
      "[CV] END xgbclassifier__colsample_bytree=0.8, xgbclassifier__gamma=0.8888888888888888, xgbclassifier__learning_rate=0.01, xgbclassifier__max_depth=3, xgbclassifier__min_child_weight=2, xgbclassifier__n_estimators=191, xgbclassifier__reg_alpha=0.8888888888888888, xgbclassifier__reg_lambda=0.0, xgbclassifier__subsample=1.0; total time=   0.5s\n",
      "[CV] END xgbclassifier__colsample_bytree=0.8, xgbclassifier__gamma=0.8888888888888888, xgbclassifier__learning_rate=0.01, xgbclassifier__max_depth=3, xgbclassifier__min_child_weight=2, xgbclassifier__n_estimators=191, xgbclassifier__reg_alpha=0.8888888888888888, xgbclassifier__reg_lambda=0.0, xgbclassifier__subsample=1.0; total time=   0.5s\n",
      "[CV] END xgbclassifier__colsample_bytree=1.0, xgbclassifier__gamma=0.8888888888888888, xgbclassifier__learning_rate=0.5310526315789474, xgbclassifier__max_depth=2, xgbclassifier__min_child_weight=9, xgbclassifier__n_estimators=198, xgbclassifier__reg_alpha=0.0, xgbclassifier__reg_lambda=0.0, xgbclassifier__subsample=0.8; total time=   0.5s\n",
      "[CV] END xgbclassifier__colsample_bytree=1.0, xgbclassifier__gamma=0.8888888888888888, xgbclassifier__learning_rate=0.5310526315789474, xgbclassifier__max_depth=2, xgbclassifier__min_child_weight=9, xgbclassifier__n_estimators=198, xgbclassifier__reg_alpha=0.0, xgbclassifier__reg_lambda=0.0, xgbclassifier__subsample=0.8; total time=   0.5s\n",
      "[CV] END xgbclassifier__colsample_bytree=1.0, xgbclassifier__gamma=0.8888888888888888, xgbclassifier__learning_rate=0.5310526315789474, xgbclassifier__max_depth=2, xgbclassifier__min_child_weight=9, xgbclassifier__n_estimators=198, xgbclassifier__reg_alpha=0.0, xgbclassifier__reg_lambda=0.0, xgbclassifier__subsample=0.8; total time=   0.5s\n",
      "[CV] END xgbclassifier__colsample_bytree=0.30000000000000004, xgbclassifier__gamma=0.0, xgbclassifier__learning_rate=0.11421052631578947, xgbclassifier__max_depth=2, xgbclassifier__min_child_weight=8, xgbclassifier__n_estimators=199, xgbclassifier__reg_alpha=0.2222222222222222, xgbclassifier__reg_lambda=1.0, xgbclassifier__subsample=0.2; total time=   0.4s\n",
      "[CV] END xgbclassifier__colsample_bytree=1.0, xgbclassifier__gamma=0.8888888888888888, xgbclassifier__learning_rate=0.5310526315789474, xgbclassifier__max_depth=2, xgbclassifier__min_child_weight=9, xgbclassifier__n_estimators=198, xgbclassifier__reg_alpha=0.0, xgbclassifier__reg_lambda=0.0, xgbclassifier__subsample=0.8; total time=   0.5s\n",
      "[CV] END xgbclassifier__colsample_bytree=1.0, xgbclassifier__gamma=0.8888888888888888, xgbclassifier__learning_rate=0.5310526315789474, xgbclassifier__max_depth=2, xgbclassifier__min_child_weight=9, xgbclassifier__n_estimators=198, xgbclassifier__reg_alpha=0.0, xgbclassifier__reg_lambda=0.0, xgbclassifier__subsample=0.8; total time=   0.5s\n",
      "[CV] END xgbclassifier__colsample_bytree=0.30000000000000004, xgbclassifier__gamma=0.0, xgbclassifier__learning_rate=0.11421052631578947, xgbclassifier__max_depth=2, xgbclassifier__min_child_weight=8, xgbclassifier__n_estimators=199, xgbclassifier__reg_alpha=0.2222222222222222, xgbclassifier__reg_lambda=1.0, xgbclassifier__subsample=0.2; total time=   0.3s\n",
      "[CV] END xgbclassifier__colsample_bytree=0.30000000000000004, xgbclassifier__gamma=0.0, xgbclassifier__learning_rate=0.11421052631578947, xgbclassifier__max_depth=2, xgbclassifier__min_child_weight=8, xgbclassifier__n_estimators=199, xgbclassifier__reg_alpha=0.2222222222222222, xgbclassifier__reg_lambda=1.0, xgbclassifier__subsample=0.2; total time=   0.3s\n",
      "[CV] END xgbclassifier__colsample_bytree=0.30000000000000004, xgbclassifier__gamma=0.0, xgbclassifier__learning_rate=0.11421052631578947, xgbclassifier__max_depth=2, xgbclassifier__min_child_weight=8, xgbclassifier__n_estimators=199, xgbclassifier__reg_alpha=0.2222222222222222, xgbclassifier__reg_lambda=1.0, xgbclassifier__subsample=0.2; total time=   0.4s\n",
      "[CV] END xgbclassifier__colsample_bytree=0.30000000000000004, xgbclassifier__gamma=0.0, xgbclassifier__learning_rate=0.11421052631578947, xgbclassifier__max_depth=2, xgbclassifier__min_child_weight=8, xgbclassifier__n_estimators=199, xgbclassifier__reg_alpha=0.2222222222222222, xgbclassifier__reg_lambda=1.0, xgbclassifier__subsample=0.2; total time=   0.3s\n",
      "[CV] END xgbclassifier__colsample_bytree=0.5, xgbclassifier__gamma=0.7777777777777777, xgbclassifier__learning_rate=0.32263157894736844, xgbclassifier__max_depth=5, xgbclassifier__min_child_weight=2, xgbclassifier__n_estimators=197, xgbclassifier__reg_alpha=0.2222222222222222, xgbclassifier__reg_lambda=0.5555555555555556, xgbclassifier__subsample=0.9; total time=   0.7s\n",
      "[CV] END xgbclassifier__colsample_bytree=0.5, xgbclassifier__gamma=0.7777777777777777, xgbclassifier__learning_rate=0.32263157894736844, xgbclassifier__max_depth=5, xgbclassifier__min_child_weight=2, xgbclassifier__n_estimators=197, xgbclassifier__reg_alpha=0.2222222222222222, xgbclassifier__reg_lambda=0.5555555555555556, xgbclassifier__subsample=0.9; total time=   0.7s\n",
      "[CV] END xgbclassifier__colsample_bytree=0.5, xgbclassifier__gamma=0.7777777777777777, xgbclassifier__learning_rate=0.32263157894736844, xgbclassifier__max_depth=5, xgbclassifier__min_child_weight=2, xgbclassifier__n_estimators=197, xgbclassifier__reg_alpha=0.2222222222222222, xgbclassifier__reg_lambda=0.5555555555555556, xgbclassifier__subsample=0.9; total time=   0.7s\n",
      "[CV] END xgbclassifier__colsample_bytree=0.5, xgbclassifier__gamma=0.7777777777777777, xgbclassifier__learning_rate=0.32263157894736844, xgbclassifier__max_depth=5, xgbclassifier__min_child_weight=2, xgbclassifier__n_estimators=197, xgbclassifier__reg_alpha=0.2222222222222222, xgbclassifier__reg_lambda=0.5555555555555556, xgbclassifier__subsample=0.9; total time=   0.7s\n",
      "[CV] END xgbclassifier__colsample_bytree=0.30000000000000004, xgbclassifier__gamma=0.7777777777777777, xgbclassifier__learning_rate=0.8957894736842106, xgbclassifier__max_depth=6, xgbclassifier__min_child_weight=3, xgbclassifier__n_estimators=195, xgbclassifier__reg_alpha=0.8888888888888888, xgbclassifier__reg_lambda=1.0, xgbclassifier__subsample=0.4; total time=   0.6s\n",
      "[CV] END xgbclassifier__colsample_bytree=0.5, xgbclassifier__gamma=0.7777777777777777, xgbclassifier__learning_rate=0.32263157894736844, xgbclassifier__max_depth=5, xgbclassifier__min_child_weight=2, xgbclassifier__n_estimators=197, xgbclassifier__reg_alpha=0.2222222222222222, xgbclassifier__reg_lambda=0.5555555555555556, xgbclassifier__subsample=0.9; total time=   0.9s\n",
      "[CV] END xgbclassifier__colsample_bytree=0.30000000000000004, xgbclassifier__gamma=0.7777777777777777, xgbclassifier__learning_rate=0.8957894736842106, xgbclassifier__max_depth=6, xgbclassifier__min_child_weight=3, xgbclassifier__n_estimators=195, xgbclassifier__reg_alpha=0.8888888888888888, xgbclassifier__reg_lambda=1.0, xgbclassifier__subsample=0.4; total time=   0.6s\n",
      "[CV] END xgbclassifier__colsample_bytree=0.30000000000000004, xgbclassifier__gamma=0.7777777777777777, xgbclassifier__learning_rate=0.8957894736842106, xgbclassifier__max_depth=6, xgbclassifier__min_child_weight=3, xgbclassifier__n_estimators=195, xgbclassifier__reg_alpha=0.8888888888888888, xgbclassifier__reg_lambda=1.0, xgbclassifier__subsample=0.4; total time=   0.7s\n",
      "[CV] END xgbclassifier__colsample_bytree=0.9, xgbclassifier__gamma=0.6666666666666666, xgbclassifier__learning_rate=0.5831578947368421, xgbclassifier__max_depth=2, xgbclassifier__min_child_weight=8, xgbclassifier__n_estimators=197, xgbclassifier__reg_alpha=0.7777777777777777, xgbclassifier__reg_lambda=0.4444444444444444, xgbclassifier__subsample=0.30000000000000004; total time=   0.4s\n",
      "[CV] END xgbclassifier__colsample_bytree=0.9, xgbclassifier__gamma=0.6666666666666666, xgbclassifier__learning_rate=0.5831578947368421, xgbclassifier__max_depth=2, xgbclassifier__min_child_weight=8, xgbclassifier__n_estimators=197, xgbclassifier__reg_alpha=0.7777777777777777, xgbclassifier__reg_lambda=0.4444444444444444, xgbclassifier__subsample=0.30000000000000004; total time=   0.4s\n",
      "[CV] END xgbclassifier__colsample_bytree=0.9, xgbclassifier__gamma=0.6666666666666666, xgbclassifier__learning_rate=0.5831578947368421, xgbclassifier__max_depth=2, xgbclassifier__min_child_weight=8, xgbclassifier__n_estimators=197, xgbclassifier__reg_alpha=0.7777777777777777, xgbclassifier__reg_lambda=0.4444444444444444, xgbclassifier__subsample=0.30000000000000004; total time=   0.4s\n",
      "[CV] END xgbclassifier__colsample_bytree=0.9, xgbclassifier__gamma=0.6666666666666666, xgbclassifier__learning_rate=0.5831578947368421, xgbclassifier__max_depth=2, xgbclassifier__min_child_weight=8, xgbclassifier__n_estimators=197, xgbclassifier__reg_alpha=0.7777777777777777, xgbclassifier__reg_lambda=0.4444444444444444, xgbclassifier__subsample=0.30000000000000004; total time=   0.4s\n",
      "[CV] END xgbclassifier__colsample_bytree=0.30000000000000004, xgbclassifier__gamma=0.7777777777777777, xgbclassifier__learning_rate=0.8957894736842106, xgbclassifier__max_depth=6, xgbclassifier__min_child_weight=3, xgbclassifier__n_estimators=195, xgbclassifier__reg_alpha=0.8888888888888888, xgbclassifier__reg_lambda=1.0, xgbclassifier__subsample=0.4; total time=   0.6s\n",
      "[CV] END xgbclassifier__colsample_bytree=0.9, xgbclassifier__gamma=0.6666666666666666, xgbclassifier__learning_rate=0.5831578947368421, xgbclassifier__max_depth=2, xgbclassifier__min_child_weight=8, xgbclassifier__n_estimators=197, xgbclassifier__reg_alpha=0.7777777777777777, xgbclassifier__reg_lambda=0.4444444444444444, xgbclassifier__subsample=0.30000000000000004; total time=   0.5s\n",
      "[CV] END xgbclassifier__colsample_bytree=0.30000000000000004, xgbclassifier__gamma=0.7777777777777777, xgbclassifier__learning_rate=0.8957894736842106, xgbclassifier__max_depth=6, xgbclassifier__min_child_weight=3, xgbclassifier__n_estimators=195, xgbclassifier__reg_alpha=0.8888888888888888, xgbclassifier__reg_lambda=1.0, xgbclassifier__subsample=0.4; total time=   0.7s\n",
      "[CV] END xgbclassifier__colsample_bytree=1.0, xgbclassifier__gamma=0.8888888888888888, xgbclassifier__learning_rate=0.8436842105263158, xgbclassifier__max_depth=3, xgbclassifier__min_child_weight=8, xgbclassifier__n_estimators=199, xgbclassifier__reg_alpha=0.1111111111111111, xgbclassifier__reg_lambda=1.0, xgbclassifier__subsample=0.30000000000000004; total time=   0.8s\n",
      "[CV] END xgbclassifier__colsample_bytree=1.0, xgbclassifier__gamma=0.8888888888888888, xgbclassifier__learning_rate=0.8436842105263158, xgbclassifier__max_depth=3, xgbclassifier__min_child_weight=8, xgbclassifier__n_estimators=199, xgbclassifier__reg_alpha=0.1111111111111111, xgbclassifier__reg_lambda=1.0, xgbclassifier__subsample=0.30000000000000004; total time=   0.6s\n",
      "[CV] END xgbclassifier__colsample_bytree=1.0, xgbclassifier__gamma=0.8888888888888888, xgbclassifier__learning_rate=0.8436842105263158, xgbclassifier__max_depth=3, xgbclassifier__min_child_weight=8, xgbclassifier__n_estimators=199, xgbclassifier__reg_alpha=0.1111111111111111, xgbclassifier__reg_lambda=1.0, xgbclassifier__subsample=0.30000000000000004; total time=   0.7s\n",
      "[CV] END xgbclassifier__colsample_bytree=1.0, xgbclassifier__gamma=0.8888888888888888, xgbclassifier__learning_rate=0.8436842105263158, xgbclassifier__max_depth=3, xgbclassifier__min_child_weight=8, xgbclassifier__n_estimators=199, xgbclassifier__reg_alpha=0.1111111111111111, xgbclassifier__reg_lambda=1.0, xgbclassifier__subsample=0.30000000000000004; total time=   0.7s\n",
      "[CV] END xgbclassifier__colsample_bytree=1.0, xgbclassifier__gamma=0.8888888888888888, xgbclassifier__learning_rate=0.8436842105263158, xgbclassifier__max_depth=3, xgbclassifier__min_child_weight=8, xgbclassifier__n_estimators=199, xgbclassifier__reg_alpha=0.1111111111111111, xgbclassifier__reg_lambda=1.0, xgbclassifier__subsample=0.30000000000000004; total time=   0.7s\n",
      "[CV] END xgbclassifier__colsample_bytree=0.9, xgbclassifier__gamma=0.1111111111111111, xgbclassifier__learning_rate=0.6352631578947369, xgbclassifier__max_depth=9, xgbclassifier__min_child_weight=2, xgbclassifier__n_estimators=190, xgbclassifier__reg_alpha=0.6666666666666666, xgbclassifier__reg_lambda=0.6666666666666666, xgbclassifier__subsample=0.30000000000000004; total time=   1.2s\n",
      "[CV] END xgbclassifier__colsample_bytree=0.5, xgbclassifier__gamma=1.0, xgbclassifier__learning_rate=0.6873684210526316, xgbclassifier__max_depth=5, xgbclassifier__min_child_weight=5, xgbclassifier__n_estimators=190, xgbclassifier__reg_alpha=0.8888888888888888, xgbclassifier__reg_lambda=0.2222222222222222, xgbclassifier__subsample=1.0; total time=   0.7s[CV] END xgbclassifier__colsample_bytree=0.5, xgbclassifier__gamma=1.0, xgbclassifier__learning_rate=0.6873684210526316, xgbclassifier__max_depth=5, xgbclassifier__min_child_weight=5, xgbclassifier__n_estimators=190, xgbclassifier__reg_alpha=0.8888888888888888, xgbclassifier__reg_lambda=0.2222222222222222, xgbclassifier__subsample=1.0; total time=   0.7s\n",
      "[CV] END xgbclassifier__colsample_bytree=0.9, xgbclassifier__gamma=0.1111111111111111, xgbclassifier__learning_rate=0.6352631578947369, xgbclassifier__max_depth=9, xgbclassifier__min_child_weight=2, xgbclassifier__n_estimators=190, xgbclassifier__reg_alpha=0.6666666666666666, xgbclassifier__reg_lambda=0.6666666666666666, xgbclassifier__subsample=0.30000000000000004; total time=   1.3s\n",
      "\n",
      "[CV] END xgbclassifier__colsample_bytree=0.5, xgbclassifier__gamma=1.0, xgbclassifier__learning_rate=0.6873684210526316, xgbclassifier__max_depth=5, xgbclassifier__min_child_weight=5, xgbclassifier__n_estimators=190, xgbclassifier__reg_alpha=0.8888888888888888, xgbclassifier__reg_lambda=0.2222222222222222, xgbclassifier__subsample=1.0; total time=   0.7s\n",
      "[CV] END xgbclassifier__colsample_bytree=0.9, xgbclassifier__gamma=0.1111111111111111, xgbclassifier__learning_rate=0.6352631578947369, xgbclassifier__max_depth=9, xgbclassifier__min_child_weight=2, xgbclassifier__n_estimators=190, xgbclassifier__reg_alpha=0.6666666666666666, xgbclassifier__reg_lambda=0.6666666666666666, xgbclassifier__subsample=0.30000000000000004; total time=   1.2s\n",
      "[CV] END xgbclassifier__colsample_bytree=0.9, xgbclassifier__gamma=0.4444444444444444, xgbclassifier__learning_rate=0.32263157894736844, xgbclassifier__max_depth=2, xgbclassifier__min_child_weight=2, xgbclassifier__n_estimators=191, xgbclassifier__reg_alpha=1.0, xgbclassifier__reg_lambda=0.6666666666666666, xgbclassifier__subsample=1.0; total time=   0.4s\n",
      "[CV] END xgbclassifier__colsample_bytree=0.9, xgbclassifier__gamma=0.4444444444444444, xgbclassifier__learning_rate=0.32263157894736844, xgbclassifier__max_depth=2, xgbclassifier__min_child_weight=2, xgbclassifier__n_estimators=191, xgbclassifier__reg_alpha=1.0, xgbclassifier__reg_lambda=0.6666666666666666, xgbclassifier__subsample=1.0; total time=   0.4s\n",
      "[CV] END xgbclassifier__colsample_bytree=0.9, xgbclassifier__gamma=0.1111111111111111, xgbclassifier__learning_rate=0.6352631578947369, xgbclassifier__max_depth=9, xgbclassifier__min_child_weight=2, xgbclassifier__n_estimators=190, xgbclassifier__reg_alpha=0.6666666666666666, xgbclassifier__reg_lambda=0.6666666666666666, xgbclassifier__subsample=0.30000000000000004; total time=   1.3s\n",
      "[CV] END xgbclassifier__colsample_bytree=0.5, xgbclassifier__gamma=1.0, xgbclassifier__learning_rate=0.6873684210526316, xgbclassifier__max_depth=5, xgbclassifier__min_child_weight=5, xgbclassifier__n_estimators=190, xgbclassifier__reg_alpha=0.8888888888888888, xgbclassifier__reg_lambda=0.2222222222222222, xgbclassifier__subsample=1.0; total time=   0.6s\n",
      "[CV] END xgbclassifier__colsample_bytree=0.9, xgbclassifier__gamma=0.4444444444444444, xgbclassifier__learning_rate=0.32263157894736844, xgbclassifier__max_depth=2, xgbclassifier__min_child_weight=2, xgbclassifier__n_estimators=191, xgbclassifier__reg_alpha=1.0, xgbclassifier__reg_lambda=0.6666666666666666, xgbclassifier__subsample=1.0; total time=   0.5s\n",
      "[CV] END xgbclassifier__colsample_bytree=0.9, xgbclassifier__gamma=0.4444444444444444, xgbclassifier__learning_rate=0.32263157894736844, xgbclassifier__max_depth=2, xgbclassifier__min_child_weight=2, xgbclassifier__n_estimators=191, xgbclassifier__reg_alpha=1.0, xgbclassifier__reg_lambda=0.6666666666666666, xgbclassifier__subsample=1.0; total time=   0.5s\n",
      "[CV] END xgbclassifier__colsample_bytree=0.9, xgbclassifier__gamma=0.1111111111111111, xgbclassifier__learning_rate=0.6352631578947369, xgbclassifier__max_depth=9, xgbclassifier__min_child_weight=2, xgbclassifier__n_estimators=190, xgbclassifier__reg_alpha=0.6666666666666666, xgbclassifier__reg_lambda=0.6666666666666666, xgbclassifier__subsample=0.30000000000000004; total time=   1.5s\n",
      "[CV] END xgbclassifier__colsample_bytree=0.5, xgbclassifier__gamma=1.0, xgbclassifier__learning_rate=0.6873684210526316, xgbclassifier__max_depth=5, xgbclassifier__min_child_weight=5, xgbclassifier__n_estimators=190, xgbclassifier__reg_alpha=0.8888888888888888, xgbclassifier__reg_lambda=0.2222222222222222, xgbclassifier__subsample=1.0; total time=   0.7s\n",
      "[CV] END xgbclassifier__colsample_bytree=0.9, xgbclassifier__gamma=0.4444444444444444, xgbclassifier__learning_rate=0.32263157894736844, xgbclassifier__max_depth=2, xgbclassifier__min_child_weight=2, xgbclassifier__n_estimators=191, xgbclassifier__reg_alpha=1.0, xgbclassifier__reg_lambda=0.6666666666666666, xgbclassifier__subsample=1.0; total time=   0.4s\n",
      "[CV] END xgbclassifier__colsample_bytree=0.2, xgbclassifier__gamma=0.0, xgbclassifier__learning_rate=0.5310526315789474, xgbclassifier__max_depth=2, xgbclassifier__min_child_weight=1, xgbclassifier__n_estimators=195, xgbclassifier__reg_alpha=0.8888888888888888, xgbclassifier__reg_lambda=0.0, xgbclassifier__subsample=0.4; total time=   0.3s\n",
      "[CV] END xgbclassifier__colsample_bytree=0.2, xgbclassifier__gamma=0.0, xgbclassifier__learning_rate=0.5310526315789474, xgbclassifier__max_depth=2, xgbclassifier__min_child_weight=1, xgbclassifier__n_estimators=195, xgbclassifier__reg_alpha=0.8888888888888888, xgbclassifier__reg_lambda=0.0, xgbclassifier__subsample=0.4; total time=   0.3s\n",
      "[CV] END xgbclassifier__colsample_bytree=0.2, xgbclassifier__gamma=0.0, xgbclassifier__learning_rate=0.5310526315789474, xgbclassifier__max_depth=2, xgbclassifier__min_child_weight=1, xgbclassifier__n_estimators=195, xgbclassifier__reg_alpha=0.8888888888888888, xgbclassifier__reg_lambda=0.0, xgbclassifier__subsample=0.4; total time=   0.4s\n",
      "[CV] END xgbclassifier__colsample_bytree=1.0, xgbclassifier__gamma=0.8888888888888888, xgbclassifier__learning_rate=0.7394736842105263, xgbclassifier__max_depth=4, xgbclassifier__min_child_weight=9, xgbclassifier__n_estimators=192, xgbclassifier__reg_alpha=0.7777777777777777, xgbclassifier__reg_lambda=0.3333333333333333, xgbclassifier__subsample=0.4; total time=   0.8s\n",
      "[CV] END xgbclassifier__colsample_bytree=0.2, xgbclassifier__gamma=0.0, xgbclassifier__learning_rate=0.5310526315789474, xgbclassifier__max_depth=2, xgbclassifier__min_child_weight=1, xgbclassifier__n_estimators=195, xgbclassifier__reg_alpha=0.8888888888888888, xgbclassifier__reg_lambda=0.0, xgbclassifier__subsample=0.4; total time=   0.4s\n",
      "[CV] END xgbclassifier__colsample_bytree=1.0, xgbclassifier__gamma=0.8888888888888888, xgbclassifier__learning_rate=0.7394736842105263, xgbclassifier__max_depth=4, xgbclassifier__min_child_weight=9, xgbclassifier__n_estimators=192, xgbclassifier__reg_alpha=0.7777777777777777, xgbclassifier__reg_lambda=0.3333333333333333, xgbclassifier__subsample=0.4; total time=   0.8s\n",
      "[CV] END xgbclassifier__colsample_bytree=1.0, xgbclassifier__gamma=0.8888888888888888, xgbclassifier__learning_rate=0.7394736842105263, xgbclassifier__max_depth=4, xgbclassifier__min_child_weight=9, xgbclassifier__n_estimators=192, xgbclassifier__reg_alpha=0.7777777777777777, xgbclassifier__reg_lambda=0.3333333333333333, xgbclassifier__subsample=0.4; total time=   0.9s\n",
      "[CV] END xgbclassifier__colsample_bytree=0.2, xgbclassifier__gamma=0.0, xgbclassifier__learning_rate=0.5310526315789474, xgbclassifier__max_depth=2, xgbclassifier__min_child_weight=1, xgbclassifier__n_estimators=195, xgbclassifier__reg_alpha=0.8888888888888888, xgbclassifier__reg_lambda=0.0, xgbclassifier__subsample=0.4; total time=   0.3s\n",
      "[CV] END xgbclassifier__colsample_bytree=1.0, xgbclassifier__gamma=0.8888888888888888, xgbclassifier__learning_rate=0.7394736842105263, xgbclassifier__max_depth=4, xgbclassifier__min_child_weight=9, xgbclassifier__n_estimators=192, xgbclassifier__reg_alpha=0.7777777777777777, xgbclassifier__reg_lambda=0.3333333333333333, xgbclassifier__subsample=0.4; total time=   1.0s\n",
      "[CV] END xgbclassifier__colsample_bytree=1.0, xgbclassifier__gamma=0.8888888888888888, xgbclassifier__learning_rate=0.7394736842105263, xgbclassifier__max_depth=4, xgbclassifier__min_child_weight=9, xgbclassifier__n_estimators=192, xgbclassifier__reg_alpha=0.7777777777777777, xgbclassifier__reg_lambda=0.3333333333333333, xgbclassifier__subsample=0.4; total time=   1.0s\n",
      "[CV] END xgbclassifier__colsample_bytree=0.1, xgbclassifier__gamma=0.5555555555555556, xgbclassifier__learning_rate=0.4268421052631579, xgbclassifier__max_depth=1, xgbclassifier__min_child_weight=10, xgbclassifier__n_estimators=199, xgbclassifier__reg_alpha=0.1111111111111111, xgbclassifier__reg_lambda=0.1111111111111111, xgbclassifier__subsample=0.6; total time=   0.3s\n",
      "[CV] END xgbclassifier__colsample_bytree=0.9, xgbclassifier__gamma=0.4444444444444444, xgbclassifier__learning_rate=0.9478947368421053, xgbclassifier__max_depth=10, xgbclassifier__min_child_weight=7, xgbclassifier__n_estimators=195, xgbclassifier__reg_alpha=0.2222222222222222, xgbclassifier__reg_lambda=0.4444444444444444, xgbclassifier__subsample=0.1; total time=   0.5s\n",
      "[CV] END xgbclassifier__colsample_bytree=0.9, xgbclassifier__gamma=0.4444444444444444, xgbclassifier__learning_rate=0.9478947368421053, xgbclassifier__max_depth=10, xgbclassifier__min_child_weight=7, xgbclassifier__n_estimators=195, xgbclassifier__reg_alpha=0.2222222222222222, xgbclassifier__reg_lambda=0.4444444444444444, xgbclassifier__subsample=0.1; total time=   0.5s\n",
      "[CV] END xgbclassifier__colsample_bytree=0.9, xgbclassifier__gamma=0.4444444444444444, xgbclassifier__learning_rate=0.9478947368421053, xgbclassifier__max_depth=10, xgbclassifier__min_child_weight=7, xgbclassifier__n_estimators=195, xgbclassifier__reg_alpha=0.2222222222222222, xgbclassifier__reg_lambda=0.4444444444444444, xgbclassifier__subsample=0.1; total time=   0.5s\n",
      "[CV] END xgbclassifier__colsample_bytree=0.9, xgbclassifier__gamma=0.4444444444444444, xgbclassifier__learning_rate=0.9478947368421053, xgbclassifier__max_depth=10, xgbclassifier__min_child_weight=7, xgbclassifier__n_estimators=195, xgbclassifier__reg_alpha=0.2222222222222222, xgbclassifier__reg_lambda=0.4444444444444444, xgbclassifier__subsample=0.1; total time=   0.5s\n",
      "[CV] END xgbclassifier__colsample_bytree=0.1, xgbclassifier__gamma=0.5555555555555556, xgbclassifier__learning_rate=0.4268421052631579, xgbclassifier__max_depth=1, xgbclassifier__min_child_weight=10, xgbclassifier__n_estimators=199, xgbclassifier__reg_alpha=0.1111111111111111, xgbclassifier__reg_lambda=0.1111111111111111, xgbclassifier__subsample=0.6; total time=   0.3s\n",
      "[CV] END xgbclassifier__colsample_bytree=0.1, xgbclassifier__gamma=0.5555555555555556, xgbclassifier__learning_rate=0.4268421052631579, xgbclassifier__max_depth=1, xgbclassifier__min_child_weight=10, xgbclassifier__n_estimators=199, xgbclassifier__reg_alpha=0.1111111111111111, xgbclassifier__reg_lambda=0.1111111111111111, xgbclassifier__subsample=0.6; total time=   0.3s\n",
      "[CV] END xgbclassifier__colsample_bytree=0.1, xgbclassifier__gamma=0.5555555555555556, xgbclassifier__learning_rate=0.4268421052631579, xgbclassifier__max_depth=1, xgbclassifier__min_child_weight=10, xgbclassifier__n_estimators=199, xgbclassifier__reg_alpha=0.1111111111111111, xgbclassifier__reg_lambda=0.1111111111111111, xgbclassifier__subsample=0.6; total time=   0.3s\n",
      "[CV] END xgbclassifier__colsample_bytree=0.9, xgbclassifier__gamma=0.4444444444444444, xgbclassifier__learning_rate=0.9478947368421053, xgbclassifier__max_depth=10, xgbclassifier__min_child_weight=7, xgbclassifier__n_estimators=195, xgbclassifier__reg_alpha=0.2222222222222222, xgbclassifier__reg_lambda=0.4444444444444444, xgbclassifier__subsample=0.1; total time=   0.7s\n",
      "[CV] END xgbclassifier__colsample_bytree=0.1, xgbclassifier__gamma=0.5555555555555556, xgbclassifier__learning_rate=0.4268421052631579, xgbclassifier__max_depth=1, xgbclassifier__min_child_weight=10, xgbclassifier__n_estimators=199, xgbclassifier__reg_alpha=0.1111111111111111, xgbclassifier__reg_lambda=0.1111111111111111, xgbclassifier__subsample=0.6; total time=   0.4s\n",
      "[CV] END xgbclassifier__colsample_bytree=0.7000000000000001, xgbclassifier__gamma=0.2222222222222222, xgbclassifier__learning_rate=1.0, xgbclassifier__max_depth=5, xgbclassifier__min_child_weight=2, xgbclassifier__n_estimators=198, xgbclassifier__reg_alpha=0.4444444444444444, xgbclassifier__reg_lambda=0.0, xgbclassifier__subsample=0.9; total time=   0.8s\n",
      "[CV] END xgbclassifier__colsample_bytree=0.7000000000000001, xgbclassifier__gamma=0.2222222222222222, xgbclassifier__learning_rate=1.0, xgbclassifier__max_depth=5, xgbclassifier__min_child_weight=2, xgbclassifier__n_estimators=198, xgbclassifier__reg_alpha=0.4444444444444444, xgbclassifier__reg_lambda=0.0, xgbclassifier__subsample=0.9; total time=   0.8s\n",
      "[CV] END xgbclassifier__colsample_bytree=0.7000000000000001, xgbclassifier__gamma=0.2222222222222222, xgbclassifier__learning_rate=1.0, xgbclassifier__max_depth=5, xgbclassifier__min_child_weight=2, xgbclassifier__n_estimators=198, xgbclassifier__reg_alpha=0.4444444444444444, xgbclassifier__reg_lambda=0.0, xgbclassifier__subsample=0.9; total time=   0.9s\n",
      "[CV] END xgbclassifier__colsample_bytree=0.30000000000000004, xgbclassifier__gamma=0.0, xgbclassifier__learning_rate=0.8436842105263158, xgbclassifier__max_depth=8, xgbclassifier__min_child_weight=7, xgbclassifier__n_estimators=199, xgbclassifier__reg_alpha=0.3333333333333333, xgbclassifier__reg_lambda=0.6666666666666666, xgbclassifier__subsample=1.0; total time=   0.7s\n",
      "[CV] END xgbclassifier__colsample_bytree=0.30000000000000004, xgbclassifier__gamma=0.0, xgbclassifier__learning_rate=0.8436842105263158, xgbclassifier__max_depth=8, xgbclassifier__min_child_weight=7, xgbclassifier__n_estimators=199, xgbclassifier__reg_alpha=0.3333333333333333, xgbclassifier__reg_lambda=0.6666666666666666, xgbclassifier__subsample=1.0; total time=   0.7s\n",
      "[CV] END xgbclassifier__colsample_bytree=0.7000000000000001, xgbclassifier__gamma=0.2222222222222222, xgbclassifier__learning_rate=1.0, xgbclassifier__max_depth=5, xgbclassifier__min_child_weight=2, xgbclassifier__n_estimators=198, xgbclassifier__reg_alpha=0.4444444444444444, xgbclassifier__reg_lambda=0.0, xgbclassifier__subsample=0.9; total time=   0.9s\n",
      "[CV] END xgbclassifier__colsample_bytree=0.30000000000000004, xgbclassifier__gamma=0.0, xgbclassifier__learning_rate=0.8436842105263158, xgbclassifier__max_depth=8, xgbclassifier__min_child_weight=7, xgbclassifier__n_estimators=199, xgbclassifier__reg_alpha=0.3333333333333333, xgbclassifier__reg_lambda=0.6666666666666666, xgbclassifier__subsample=1.0; total time=   0.8s\n",
      "[CV] END xgbclassifier__colsample_bytree=0.7000000000000001, xgbclassifier__gamma=0.2222222222222222, xgbclassifier__learning_rate=1.0, xgbclassifier__max_depth=5, xgbclassifier__min_child_weight=2, xgbclassifier__n_estimators=198, xgbclassifier__reg_alpha=0.4444444444444444, xgbclassifier__reg_lambda=0.0, xgbclassifier__subsample=0.9; total time=   1.0s\n",
      "[CV] END xgbclassifier__colsample_bytree=0.30000000000000004, xgbclassifier__gamma=0.0, xgbclassifier__learning_rate=0.8436842105263158, xgbclassifier__max_depth=8, xgbclassifier__min_child_weight=7, xgbclassifier__n_estimators=199, xgbclassifier__reg_alpha=0.3333333333333333, xgbclassifier__reg_lambda=0.6666666666666666, xgbclassifier__subsample=1.0; total time=   0.7s\n",
      "[CV] END xgbclassifier__colsample_bytree=0.30000000000000004, xgbclassifier__gamma=0.0, xgbclassifier__learning_rate=0.8436842105263158, xgbclassifier__max_depth=8, xgbclassifier__min_child_weight=7, xgbclassifier__n_estimators=199, xgbclassifier__reg_alpha=0.3333333333333333, xgbclassifier__reg_lambda=0.6666666666666666, xgbclassifier__subsample=1.0; total time=   0.8s\n",
      "[CV] END xgbclassifier__colsample_bytree=0.9, xgbclassifier__gamma=1.0, xgbclassifier__learning_rate=0.11421052631578947, xgbclassifier__max_depth=6, xgbclassifier__min_child_weight=9, xgbclassifier__n_estimators=193, xgbclassifier__reg_alpha=0.2222222222222222, xgbclassifier__reg_lambda=1.0, xgbclassifier__subsample=0.2; total time=   0.9s\n",
      "[CV] END xgbclassifier__colsample_bytree=0.9, xgbclassifier__gamma=1.0, xgbclassifier__learning_rate=0.11421052631578947, xgbclassifier__max_depth=6, xgbclassifier__min_child_weight=9, xgbclassifier__n_estimators=193, xgbclassifier__reg_alpha=0.2222222222222222, xgbclassifier__reg_lambda=1.0, xgbclassifier__subsample=0.2; total time=   0.7s\n",
      "[CV] END xgbclassifier__colsample_bytree=0.9, xgbclassifier__gamma=1.0, xgbclassifier__learning_rate=0.11421052631578947, xgbclassifier__max_depth=6, xgbclassifier__min_child_weight=9, xgbclassifier__n_estimators=193, xgbclassifier__reg_alpha=0.2222222222222222, xgbclassifier__reg_lambda=1.0, xgbclassifier__subsample=0.2; total time=   0.8s\n",
      "[CV] END xgbclassifier__colsample_bytree=0.8, xgbclassifier__gamma=0.4444444444444444, xgbclassifier__learning_rate=0.4268421052631579, xgbclassifier__max_depth=9, xgbclassifier__min_child_weight=2, xgbclassifier__n_estimators=190, xgbclassifier__reg_alpha=0.4444444444444444, xgbclassifier__reg_lambda=1.0, xgbclassifier__subsample=0.7000000000000001; total time=   1.5s\n",
      "[CV] END xgbclassifier__colsample_bytree=0.8, xgbclassifier__gamma=0.4444444444444444, xgbclassifier__learning_rate=0.4268421052631579, xgbclassifier__max_depth=9, xgbclassifier__min_child_weight=2, xgbclassifier__n_estimators=190, xgbclassifier__reg_alpha=0.4444444444444444, xgbclassifier__reg_lambda=1.0, xgbclassifier__subsample=0.7000000000000001; total time=   1.7s\n",
      "[CV] END xgbclassifier__colsample_bytree=0.6, xgbclassifier__gamma=0.8888888888888888, xgbclassifier__learning_rate=0.21842105263157896, xgbclassifier__max_depth=2, xgbclassifier__min_child_weight=7, xgbclassifier__n_estimators=190, xgbclassifier__reg_alpha=0.4444444444444444, xgbclassifier__reg_lambda=0.4444444444444444, xgbclassifier__subsample=0.2; total time=   0.4s\n",
      "[CV] END xgbclassifier__colsample_bytree=0.8, xgbclassifier__gamma=0.4444444444444444, xgbclassifier__learning_rate=0.4268421052631579, xgbclassifier__max_depth=9, xgbclassifier__min_child_weight=2, xgbclassifier__n_estimators=190, xgbclassifier__reg_alpha=0.4444444444444444, xgbclassifier__reg_lambda=1.0, xgbclassifier__subsample=0.7000000000000001; total time=   1.6s\n",
      "[CV] END xgbclassifier__colsample_bytree=0.9, xgbclassifier__gamma=1.0, xgbclassifier__learning_rate=0.11421052631578947, xgbclassifier__max_depth=6, xgbclassifier__min_child_weight=9, xgbclassifier__n_estimators=193, xgbclassifier__reg_alpha=0.2222222222222222, xgbclassifier__reg_lambda=1.0, xgbclassifier__subsample=0.2; total time=   0.8s\n",
      "[CV] END xgbclassifier__colsample_bytree=0.6, xgbclassifier__gamma=0.8888888888888888, xgbclassifier__learning_rate=0.21842105263157896, xgbclassifier__max_depth=2, xgbclassifier__min_child_weight=7, xgbclassifier__n_estimators=190, xgbclassifier__reg_alpha=0.4444444444444444, xgbclassifier__reg_lambda=0.4444444444444444, xgbclassifier__subsample=0.2; total time=   0.4s\n",
      "[CV] END xgbclassifier__colsample_bytree=0.8, xgbclassifier__gamma=0.4444444444444444, xgbclassifier__learning_rate=0.4268421052631579, xgbclassifier__max_depth=9, xgbclassifier__min_child_weight=2, xgbclassifier__n_estimators=190, xgbclassifier__reg_alpha=0.4444444444444444, xgbclassifier__reg_lambda=1.0, xgbclassifier__subsample=0.7000000000000001; total time=   1.8s\n",
      "[CV] END xgbclassifier__colsample_bytree=0.6, xgbclassifier__gamma=0.8888888888888888, xgbclassifier__learning_rate=0.21842105263157896, xgbclassifier__max_depth=2, xgbclassifier__min_child_weight=7, xgbclassifier__n_estimators=190, xgbclassifier__reg_alpha=0.4444444444444444, xgbclassifier__reg_lambda=0.4444444444444444, xgbclassifier__subsample=0.2; total time=   0.3s\n",
      "[CV] END xgbclassifier__colsample_bytree=0.9, xgbclassifier__gamma=1.0, xgbclassifier__learning_rate=0.11421052631578947, xgbclassifier__max_depth=6, xgbclassifier__min_child_weight=9, xgbclassifier__n_estimators=193, xgbclassifier__reg_alpha=0.2222222222222222, xgbclassifier__reg_lambda=1.0, xgbclassifier__subsample=0.2; total time=   0.7s\n",
      "[CV] END xgbclassifier__colsample_bytree=0.8, xgbclassifier__gamma=0.4444444444444444, xgbclassifier__learning_rate=0.4268421052631579, xgbclassifier__max_depth=9, xgbclassifier__min_child_weight=2, xgbclassifier__n_estimators=190, xgbclassifier__reg_alpha=0.4444444444444444, xgbclassifier__reg_lambda=1.0, xgbclassifier__subsample=0.7000000000000001; total time=   2.0s\n",
      "[CV] END xgbclassifier__colsample_bytree=0.6, xgbclassifier__gamma=0.8888888888888888, xgbclassifier__learning_rate=0.21842105263157896, xgbclassifier__max_depth=2, xgbclassifier__min_child_weight=7, xgbclassifier__n_estimators=190, xgbclassifier__reg_alpha=0.4444444444444444, xgbclassifier__reg_lambda=0.4444444444444444, xgbclassifier__subsample=0.2; total time=   0.4s\n",
      "[CV] END xgbclassifier__colsample_bytree=0.6, xgbclassifier__gamma=0.8888888888888888, xgbclassifier__learning_rate=0.21842105263157896, xgbclassifier__max_depth=2, xgbclassifier__min_child_weight=7, xgbclassifier__n_estimators=190, xgbclassifier__reg_alpha=0.4444444444444444, xgbclassifier__reg_lambda=0.4444444444444444, xgbclassifier__subsample=0.2; total time=   0.4s\n",
      "[CV] END xgbclassifier__colsample_bytree=0.4, xgbclassifier__gamma=1.0, xgbclassifier__learning_rate=0.11421052631578947, xgbclassifier__max_depth=8, xgbclassifier__min_child_weight=2, xgbclassifier__n_estimators=192, xgbclassifier__reg_alpha=0.7777777777777777, xgbclassifier__reg_lambda=0.2222222222222222, xgbclassifier__subsample=0.9; total time=   0.8s\n",
      "[CV] END xgbclassifier__colsample_bytree=0.4, xgbclassifier__gamma=1.0, xgbclassifier__learning_rate=0.11421052631578947, xgbclassifier__max_depth=8, xgbclassifier__min_child_weight=2, xgbclassifier__n_estimators=192, xgbclassifier__reg_alpha=0.7777777777777777, xgbclassifier__reg_lambda=0.2222222222222222, xgbclassifier__subsample=0.9; total time=   0.9s\n",
      "[CV] END xgbclassifier__colsample_bytree=0.4, xgbclassifier__gamma=1.0, xgbclassifier__learning_rate=0.11421052631578947, xgbclassifier__max_depth=8, xgbclassifier__min_child_weight=2, xgbclassifier__n_estimators=192, xgbclassifier__reg_alpha=0.7777777777777777, xgbclassifier__reg_lambda=0.2222222222222222, xgbclassifier__subsample=0.9; total time=   0.8s\n",
      "[CV] END xgbclassifier__colsample_bytree=0.4, xgbclassifier__gamma=1.0, xgbclassifier__learning_rate=0.11421052631578947, xgbclassifier__max_depth=8, xgbclassifier__min_child_weight=2, xgbclassifier__n_estimators=192, xgbclassifier__reg_alpha=0.7777777777777777, xgbclassifier__reg_lambda=0.2222222222222222, xgbclassifier__subsample=0.9; total time=   0.8s\n",
      "[CV] END xgbclassifier__colsample_bytree=0.4, xgbclassifier__gamma=1.0, xgbclassifier__learning_rate=0.11421052631578947, xgbclassifier__max_depth=8, xgbclassifier__min_child_weight=2, xgbclassifier__n_estimators=192, xgbclassifier__reg_alpha=0.7777777777777777, xgbclassifier__reg_lambda=0.2222222222222222, xgbclassifier__subsample=0.9; total time=   0.9s\n",
      "[CV] END xgbclassifier__colsample_bytree=0.5, xgbclassifier__gamma=0.5555555555555556, xgbclassifier__learning_rate=0.791578947368421, xgbclassifier__max_depth=10, xgbclassifier__min_child_weight=2, xgbclassifier__n_estimators=194, xgbclassifier__reg_alpha=0.0, xgbclassifier__reg_lambda=0.0, xgbclassifier__subsample=0.5; total time=   1.2s\n",
      "[CV] END xgbclassifier__colsample_bytree=0.5, xgbclassifier__gamma=0.5555555555555556, xgbclassifier__learning_rate=0.791578947368421, xgbclassifier__max_depth=10, xgbclassifier__min_child_weight=2, xgbclassifier__n_estimators=194, xgbclassifier__reg_alpha=0.0, xgbclassifier__reg_lambda=0.0, xgbclassifier__subsample=0.5; total time=   1.3s\n",
      "[CV] END xgbclassifier__colsample_bytree=0.30000000000000004, xgbclassifier__gamma=0.0, xgbclassifier__learning_rate=0.6873684210526316, xgbclassifier__max_depth=10, xgbclassifier__min_child_weight=6, xgbclassifier__n_estimators=198, xgbclassifier__reg_alpha=0.8888888888888888, xgbclassifier__reg_lambda=0.7777777777777777, xgbclassifier__subsample=0.6; total time=   0.7s\n",
      "[CV] END xgbclassifier__colsample_bytree=0.5, xgbclassifier__gamma=0.5555555555555556, xgbclassifier__learning_rate=0.791578947368421, xgbclassifier__max_depth=10, xgbclassifier__min_child_weight=2, xgbclassifier__n_estimators=194, xgbclassifier__reg_alpha=0.0, xgbclassifier__reg_lambda=0.0, xgbclassifier__subsample=0.5; total time=   1.5s\n",
      "[CV] END xgbclassifier__colsample_bytree=0.30000000000000004, xgbclassifier__gamma=0.0, xgbclassifier__learning_rate=0.6873684210526316, xgbclassifier__max_depth=10, xgbclassifier__min_child_weight=6, xgbclassifier__n_estimators=198, xgbclassifier__reg_alpha=0.8888888888888888, xgbclassifier__reg_lambda=0.7777777777777777, xgbclassifier__subsample=0.6; total time=   0.8s\n",
      "[CV] END xgbclassifier__colsample_bytree=0.30000000000000004, xgbclassifier__gamma=0.0, xgbclassifier__learning_rate=0.6873684210526316, xgbclassifier__max_depth=10, xgbclassifier__min_child_weight=6, xgbclassifier__n_estimators=198, xgbclassifier__reg_alpha=0.8888888888888888, xgbclassifier__reg_lambda=0.7777777777777777, xgbclassifier__subsample=0.6; total time=   0.8s\n",
      "[CV] END xgbclassifier__colsample_bytree=0.5, xgbclassifier__gamma=0.5555555555555556, xgbclassifier__learning_rate=0.791578947368421, xgbclassifier__max_depth=10, xgbclassifier__min_child_weight=2, xgbclassifier__n_estimators=194, xgbclassifier__reg_alpha=0.0, xgbclassifier__reg_lambda=0.0, xgbclassifier__subsample=0.5; total time=   1.1s\n",
      "[CV] END xgbclassifier__colsample_bytree=0.6, xgbclassifier__gamma=0.7777777777777777, xgbclassifier__learning_rate=0.4789473684210527, xgbclassifier__max_depth=2, xgbclassifier__min_child_weight=4, xgbclassifier__n_estimators=197, xgbclassifier__reg_alpha=0.6666666666666666, xgbclassifier__reg_lambda=0.6666666666666666, xgbclassifier__subsample=0.4; total time=   0.4s\n",
      "[CV] END xgbclassifier__colsample_bytree=0.5, xgbclassifier__gamma=0.5555555555555556, xgbclassifier__learning_rate=0.791578947368421, xgbclassifier__max_depth=10, xgbclassifier__min_child_weight=2, xgbclassifier__n_estimators=194, xgbclassifier__reg_alpha=0.0, xgbclassifier__reg_lambda=0.0, xgbclassifier__subsample=0.5; total time=   1.3s\n",
      "[CV] END xgbclassifier__colsample_bytree=0.6, xgbclassifier__gamma=0.7777777777777777, xgbclassifier__learning_rate=0.4789473684210527, xgbclassifier__max_depth=2, xgbclassifier__min_child_weight=4, xgbclassifier__n_estimators=197, xgbclassifier__reg_alpha=0.6666666666666666, xgbclassifier__reg_lambda=0.6666666666666666, xgbclassifier__subsample=0.4; total time=   0.4s\n",
      "[CV] END xgbclassifier__colsample_bytree=0.30000000000000004, xgbclassifier__gamma=0.0, xgbclassifier__learning_rate=0.6873684210526316, xgbclassifier__max_depth=10, xgbclassifier__min_child_weight=6, xgbclassifier__n_estimators=198, xgbclassifier__reg_alpha=0.8888888888888888, xgbclassifier__reg_lambda=0.7777777777777777, xgbclassifier__subsample=0.6; total time=   0.7s\n",
      "[CV] END xgbclassifier__colsample_bytree=0.6, xgbclassifier__gamma=0.7777777777777777, xgbclassifier__learning_rate=0.4789473684210527, xgbclassifier__max_depth=2, xgbclassifier__min_child_weight=4, xgbclassifier__n_estimators=197, xgbclassifier__reg_alpha=0.6666666666666666, xgbclassifier__reg_lambda=0.6666666666666666, xgbclassifier__subsample=0.4; total time=   0.6s\n",
      "[CV] END xgbclassifier__colsample_bytree=0.6, xgbclassifier__gamma=0.7777777777777777, xgbclassifier__learning_rate=0.4789473684210527, xgbclassifier__max_depth=2, xgbclassifier__min_child_weight=4, xgbclassifier__n_estimators=197, xgbclassifier__reg_alpha=0.6666666666666666, xgbclassifier__reg_lambda=0.6666666666666666, xgbclassifier__subsample=0.4; total time=   0.4s\n",
      "[CV] END xgbclassifier__colsample_bytree=0.6, xgbclassifier__gamma=0.7777777777777777, xgbclassifier__learning_rate=0.4789473684210527, xgbclassifier__max_depth=2, xgbclassifier__min_child_weight=4, xgbclassifier__n_estimators=197, xgbclassifier__reg_alpha=0.6666666666666666, xgbclassifier__reg_lambda=0.6666666666666666, xgbclassifier__subsample=0.4; total time=   0.4s\n",
      "[CV] END xgbclassifier__colsample_bytree=0.30000000000000004, xgbclassifier__gamma=0.8888888888888888, xgbclassifier__learning_rate=0.4268421052631579, xgbclassifier__max_depth=9, xgbclassifier__min_child_weight=2, xgbclassifier__n_estimators=190, xgbclassifier__reg_alpha=0.4444444444444444, xgbclassifier__reg_lambda=0.8888888888888888, xgbclassifier__subsample=0.1; total time=   0.5s\n",
      "[CV] END xgbclassifier__colsample_bytree=0.30000000000000004, xgbclassifier__gamma=0.8888888888888888, xgbclassifier__learning_rate=0.4268421052631579, xgbclassifier__max_depth=9, xgbclassifier__min_child_weight=2, xgbclassifier__n_estimators=190, xgbclassifier__reg_alpha=0.4444444444444444, xgbclassifier__reg_lambda=0.8888888888888888, xgbclassifier__subsample=0.1; total time=   0.5s\n",
      "[CV] END xgbclassifier__colsample_bytree=0.30000000000000004, xgbclassifier__gamma=0.8888888888888888, xgbclassifier__learning_rate=0.4268421052631579, xgbclassifier__max_depth=9, xgbclassifier__min_child_weight=2, xgbclassifier__n_estimators=190, xgbclassifier__reg_alpha=0.4444444444444444, xgbclassifier__reg_lambda=0.8888888888888888, xgbclassifier__subsample=0.1; total time=   0.5s\n",
      "[CV] END xgbclassifier__colsample_bytree=0.30000000000000004, xgbclassifier__gamma=0.0, xgbclassifier__learning_rate=0.6873684210526316, xgbclassifier__max_depth=10, xgbclassifier__min_child_weight=6, xgbclassifier__n_estimators=198, xgbclassifier__reg_alpha=0.8888888888888888, xgbclassifier__reg_lambda=0.7777777777777777, xgbclassifier__subsample=0.6; total time=   1.1s\n",
      "[CV] END xgbclassifier__colsample_bytree=0.30000000000000004, xgbclassifier__gamma=0.8888888888888888, xgbclassifier__learning_rate=0.4268421052631579, xgbclassifier__max_depth=9, xgbclassifier__min_child_weight=2, xgbclassifier__n_estimators=190, xgbclassifier__reg_alpha=0.4444444444444444, xgbclassifier__reg_lambda=0.8888888888888888, xgbclassifier__subsample=0.1; total time=   0.8s\n",
      "[CV] END xgbclassifier__colsample_bytree=0.30000000000000004, xgbclassifier__gamma=0.8888888888888888, xgbclassifier__learning_rate=0.4268421052631579, xgbclassifier__max_depth=9, xgbclassifier__min_child_weight=2, xgbclassifier__n_estimators=190, xgbclassifier__reg_alpha=0.4444444444444444, xgbclassifier__reg_lambda=0.8888888888888888, xgbclassifier__subsample=0.1; total time=   0.8s\n",
      "[CV] END xgbclassifier__colsample_bytree=0.9, xgbclassifier__gamma=1.0, xgbclassifier__learning_rate=0.5310526315789474, xgbclassifier__max_depth=2, xgbclassifier__min_child_weight=1, xgbclassifier__n_estimators=199, xgbclassifier__reg_alpha=0.7777777777777777, xgbclassifier__reg_lambda=0.2222222222222222, xgbclassifier__subsample=1.0; total time=   0.5s\n",
      "[CV] END xgbclassifier__colsample_bytree=0.9, xgbclassifier__gamma=1.0, xgbclassifier__learning_rate=0.5310526315789474, xgbclassifier__max_depth=2, xgbclassifier__min_child_weight=1, xgbclassifier__n_estimators=199, xgbclassifier__reg_alpha=0.7777777777777777, xgbclassifier__reg_lambda=0.2222222222222222, xgbclassifier__subsample=1.0; total time=   0.5s\n",
      "[CV] END xgbclassifier__colsample_bytree=0.9, xgbclassifier__gamma=1.0, xgbclassifier__learning_rate=0.5310526315789474, xgbclassifier__max_depth=2, xgbclassifier__min_child_weight=1, xgbclassifier__n_estimators=199, xgbclassifier__reg_alpha=0.7777777777777777, xgbclassifier__reg_lambda=0.2222222222222222, xgbclassifier__subsample=1.0; total time=   0.4s\n",
      "[CV] END xgbclassifier__colsample_bytree=0.9, xgbclassifier__gamma=1.0, xgbclassifier__learning_rate=0.5310526315789474, xgbclassifier__max_depth=2, xgbclassifier__min_child_weight=1, xgbclassifier__n_estimators=199, xgbclassifier__reg_alpha=0.7777777777777777, xgbclassifier__reg_lambda=0.2222222222222222, xgbclassifier__subsample=1.0; total time=   0.4s\n",
      "[CV] END xgbclassifier__colsample_bytree=0.8, xgbclassifier__gamma=0.0, xgbclassifier__learning_rate=0.21842105263157896, xgbclassifier__max_depth=8, xgbclassifier__min_child_weight=8, xgbclassifier__n_estimators=192, xgbclassifier__reg_alpha=1.0, xgbclassifier__reg_lambda=0.1111111111111111, xgbclassifier__subsample=0.6; total time=   1.3s\n",
      "[CV] END xgbclassifier__colsample_bytree=0.8, xgbclassifier__gamma=0.0, xgbclassifier__learning_rate=0.21842105263157896, xgbclassifier__max_depth=8, xgbclassifier__min_child_weight=8, xgbclassifier__n_estimators=192, xgbclassifier__reg_alpha=1.0, xgbclassifier__reg_lambda=0.1111111111111111, xgbclassifier__subsample=0.6; total time=   1.4s\n",
      "[CV] END xgbclassifier__colsample_bytree=0.8, xgbclassifier__gamma=0.0, xgbclassifier__learning_rate=0.21842105263157896, xgbclassifier__max_depth=8, xgbclassifier__min_child_weight=8, xgbclassifier__n_estimators=192, xgbclassifier__reg_alpha=1.0, xgbclassifier__reg_lambda=0.1111111111111111, xgbclassifier__subsample=0.6; total time=   1.2s\n",
      "[CV] END xgbclassifier__colsample_bytree=0.30000000000000004, xgbclassifier__gamma=0.6666666666666666, xgbclassifier__learning_rate=0.8957894736842106, xgbclassifier__max_depth=1, xgbclassifier__min_child_weight=4, xgbclassifier__n_estimators=190, xgbclassifier__reg_alpha=1.0, xgbclassifier__reg_lambda=0.1111111111111111, xgbclassifier__subsample=0.8; total time=   0.3s\n",
      "[CV] END xgbclassifier__colsample_bytree=0.8, xgbclassifier__gamma=0.0, xgbclassifier__learning_rate=0.21842105263157896, xgbclassifier__max_depth=8, xgbclassifier__min_child_weight=8, xgbclassifier__n_estimators=192, xgbclassifier__reg_alpha=1.0, xgbclassifier__reg_lambda=0.1111111111111111, xgbclassifier__subsample=0.6; total time=   1.1s\n",
      "[CV] END xgbclassifier__colsample_bytree=0.9, xgbclassifier__gamma=1.0, xgbclassifier__learning_rate=0.5310526315789474, xgbclassifier__max_depth=2, xgbclassifier__min_child_weight=1, xgbclassifier__n_estimators=199, xgbclassifier__reg_alpha=0.7777777777777777, xgbclassifier__reg_lambda=0.2222222222222222, xgbclassifier__subsample=1.0; total time=   0.5s\n",
      "[CV] END xgbclassifier__colsample_bytree=0.30000000000000004, xgbclassifier__gamma=0.6666666666666666, xgbclassifier__learning_rate=0.8957894736842106, xgbclassifier__max_depth=1, xgbclassifier__min_child_weight=4, xgbclassifier__n_estimators=190, xgbclassifier__reg_alpha=1.0, xgbclassifier__reg_lambda=0.1111111111111111, xgbclassifier__subsample=0.8; total time=   0.3s\n",
      "[CV] END xgbclassifier__colsample_bytree=0.8, xgbclassifier__gamma=0.0, xgbclassifier__learning_rate=0.21842105263157896, xgbclassifier__max_depth=8, xgbclassifier__min_child_weight=8, xgbclassifier__n_estimators=192, xgbclassifier__reg_alpha=1.0, xgbclassifier__reg_lambda=0.1111111111111111, xgbclassifier__subsample=0.6; total time=   1.2s\n",
      "[CV] END xgbclassifier__colsample_bytree=0.30000000000000004, xgbclassifier__gamma=0.6666666666666666, xgbclassifier__learning_rate=0.8957894736842106, xgbclassifier__max_depth=1, xgbclassifier__min_child_weight=4, xgbclassifier__n_estimators=190, xgbclassifier__reg_alpha=1.0, xgbclassifier__reg_lambda=0.1111111111111111, xgbclassifier__subsample=0.8; total time=   0.3s\n",
      "[CV] END xgbclassifier__colsample_bytree=0.30000000000000004, xgbclassifier__gamma=0.6666666666666666, xgbclassifier__learning_rate=0.8957894736842106, xgbclassifier__max_depth=1, xgbclassifier__min_child_weight=4, xgbclassifier__n_estimators=190, xgbclassifier__reg_alpha=1.0, xgbclassifier__reg_lambda=0.1111111111111111, xgbclassifier__subsample=0.8; total time=   0.3s\n",
      "[CV] END xgbclassifier__colsample_bytree=0.30000000000000004, xgbclassifier__gamma=0.6666666666666666, xgbclassifier__learning_rate=0.8957894736842106, xgbclassifier__max_depth=1, xgbclassifier__min_child_weight=4, xgbclassifier__n_estimators=190, xgbclassifier__reg_alpha=1.0, xgbclassifier__reg_lambda=0.1111111111111111, xgbclassifier__subsample=0.8; total time=   0.4s\n",
      "[CV] END xgbclassifier__colsample_bytree=0.9, xgbclassifier__gamma=0.6666666666666666, xgbclassifier__learning_rate=0.9478947368421053, xgbclassifier__max_depth=5, xgbclassifier__min_child_weight=2, xgbclassifier__n_estimators=191, xgbclassifier__reg_alpha=0.7777777777777777, xgbclassifier__reg_lambda=0.0, xgbclassifier__subsample=0.2; total time=   0.8s\n",
      "[CV] END xgbclassifier__colsample_bytree=0.9, xgbclassifier__gamma=0.6666666666666666, xgbclassifier__learning_rate=0.9478947368421053, xgbclassifier__max_depth=5, xgbclassifier__min_child_weight=2, xgbclassifier__n_estimators=191, xgbclassifier__reg_alpha=0.7777777777777777, xgbclassifier__reg_lambda=0.0, xgbclassifier__subsample=0.2; total time=   0.8s\n",
      "[CV] END xgbclassifier__colsample_bytree=0.9, xgbclassifier__gamma=0.6666666666666666, xgbclassifier__learning_rate=0.9478947368421053, xgbclassifier__max_depth=5, xgbclassifier__min_child_weight=2, xgbclassifier__n_estimators=191, xgbclassifier__reg_alpha=0.7777777777777777, xgbclassifier__reg_lambda=0.0, xgbclassifier__subsample=0.2; total time=   0.8s\n",
      "[CV] END xgbclassifier__colsample_bytree=0.4, xgbclassifier__gamma=0.2222222222222222, xgbclassifier__learning_rate=0.32263157894736844, xgbclassifier__max_depth=7, xgbclassifier__min_child_weight=2, xgbclassifier__n_estimators=192, xgbclassifier__reg_alpha=0.6666666666666666, xgbclassifier__reg_lambda=0.0, xgbclassifier__subsample=0.7000000000000001; total time=   0.8s\n",
      "[CV] END xgbclassifier__colsample_bytree=0.9, xgbclassifier__gamma=0.6666666666666666, xgbclassifier__learning_rate=0.9478947368421053, xgbclassifier__max_depth=5, xgbclassifier__min_child_weight=2, xgbclassifier__n_estimators=191, xgbclassifier__reg_alpha=0.7777777777777777, xgbclassifier__reg_lambda=0.0, xgbclassifier__subsample=0.2; total time=   1.0s\n",
      "[CV] END xgbclassifier__colsample_bytree=0.9, xgbclassifier__gamma=0.6666666666666666, xgbclassifier__learning_rate=0.9478947368421053, xgbclassifier__max_depth=5, xgbclassifier__min_child_weight=2, xgbclassifier__n_estimators=191, xgbclassifier__reg_alpha=0.7777777777777777, xgbclassifier__reg_lambda=0.0, xgbclassifier__subsample=0.2; total time=   0.9s\n",
      "[CV] END xgbclassifier__colsample_bytree=0.4, xgbclassifier__gamma=0.2222222222222222, xgbclassifier__learning_rate=0.32263157894736844, xgbclassifier__max_depth=7, xgbclassifier__min_child_weight=2, xgbclassifier__n_estimators=192, xgbclassifier__reg_alpha=0.6666666666666666, xgbclassifier__reg_lambda=0.0, xgbclassifier__subsample=0.7000000000000001; total time=   0.8s\n",
      "[CV] END xgbclassifier__colsample_bytree=0.4, xgbclassifier__gamma=0.2222222222222222, xgbclassifier__learning_rate=0.32263157894736844, xgbclassifier__max_depth=7, xgbclassifier__min_child_weight=2, xgbclassifier__n_estimators=192, xgbclassifier__reg_alpha=0.6666666666666666, xgbclassifier__reg_lambda=0.0, xgbclassifier__subsample=0.7000000000000001; total time=   0.8s\n",
      "[CV] END xgbclassifier__colsample_bytree=0.4, xgbclassifier__gamma=0.2222222222222222, xgbclassifier__learning_rate=0.32263157894736844, xgbclassifier__max_depth=7, xgbclassifier__min_child_weight=2, xgbclassifier__n_estimators=192, xgbclassifier__reg_alpha=0.6666666666666666, xgbclassifier__reg_lambda=0.0, xgbclassifier__subsample=0.7000000000000001; total time=   0.7s\n",
      "[CV] END xgbclassifier__colsample_bytree=0.4, xgbclassifier__gamma=0.2222222222222222, xgbclassifier__learning_rate=0.32263157894736844, xgbclassifier__max_depth=7, xgbclassifier__min_child_weight=2, xgbclassifier__n_estimators=192, xgbclassifier__reg_alpha=0.6666666666666666, xgbclassifier__reg_lambda=0.0, xgbclassifier__subsample=0.7000000000000001; total time=   0.7s\n",
      "[CV] END xgbclassifier__colsample_bytree=0.8, xgbclassifier__gamma=1.0, xgbclassifier__learning_rate=0.16631578947368422, xgbclassifier__max_depth=5, xgbclassifier__min_child_weight=3, xgbclassifier__n_estimators=193, xgbclassifier__reg_alpha=0.2222222222222222, xgbclassifier__reg_lambda=0.3333333333333333, xgbclassifier__subsample=0.7000000000000001; total time=   0.9s\n",
      "[CV] END xgbclassifier__colsample_bytree=0.4, xgbclassifier__gamma=0.0, xgbclassifier__learning_rate=0.4789473684210527, xgbclassifier__max_depth=4, xgbclassifier__min_child_weight=5, xgbclassifier__n_estimators=190, xgbclassifier__reg_alpha=0.6666666666666666, xgbclassifier__reg_lambda=0.7777777777777777, xgbclassifier__subsample=0.8; total time=   0.6s\n",
      "[CV] END xgbclassifier__colsample_bytree=0.8, xgbclassifier__gamma=1.0, xgbclassifier__learning_rate=0.16631578947368422, xgbclassifier__max_depth=5, xgbclassifier__min_child_weight=3, xgbclassifier__n_estimators=193, xgbclassifier__reg_alpha=0.2222222222222222, xgbclassifier__reg_lambda=0.3333333333333333, xgbclassifier__subsample=0.7000000000000001; total time=   1.0s\n",
      "[CV] END xgbclassifier__colsample_bytree=0.8, xgbclassifier__gamma=1.0, xgbclassifier__learning_rate=0.16631578947368422, xgbclassifier__max_depth=5, xgbclassifier__min_child_weight=3, xgbclassifier__n_estimators=193, xgbclassifier__reg_alpha=0.2222222222222222, xgbclassifier__reg_lambda=0.3333333333333333, xgbclassifier__subsample=0.7000000000000001; total time=   1.0s\n",
      "[CV] END xgbclassifier__colsample_bytree=0.8, xgbclassifier__gamma=1.0, xgbclassifier__learning_rate=0.16631578947368422, xgbclassifier__max_depth=5, xgbclassifier__min_child_weight=3, xgbclassifier__n_estimators=193, xgbclassifier__reg_alpha=0.2222222222222222, xgbclassifier__reg_lambda=0.3333333333333333, xgbclassifier__subsample=0.7000000000000001; total time=   1.0s\n",
      "[CV] END xgbclassifier__colsample_bytree=0.8, xgbclassifier__gamma=1.0, xgbclassifier__learning_rate=0.16631578947368422, xgbclassifier__max_depth=5, xgbclassifier__min_child_weight=3, xgbclassifier__n_estimators=193, xgbclassifier__reg_alpha=0.2222222222222222, xgbclassifier__reg_lambda=0.3333333333333333, xgbclassifier__subsample=0.7000000000000001; total time=   1.0s\n",
      "[CV] END xgbclassifier__colsample_bytree=0.4, xgbclassifier__gamma=0.0, xgbclassifier__learning_rate=0.4789473684210527, xgbclassifier__max_depth=4, xgbclassifier__min_child_weight=5, xgbclassifier__n_estimators=190, xgbclassifier__reg_alpha=0.6666666666666666, xgbclassifier__reg_lambda=0.7777777777777777, xgbclassifier__subsample=0.8; total time=   0.5s\n",
      "[CV] END xgbclassifier__colsample_bytree=0.4, xgbclassifier__gamma=0.0, xgbclassifier__learning_rate=0.4789473684210527, xgbclassifier__max_depth=4, xgbclassifier__min_child_weight=5, xgbclassifier__n_estimators=190, xgbclassifier__reg_alpha=0.6666666666666666, xgbclassifier__reg_lambda=0.7777777777777777, xgbclassifier__subsample=0.8; total time=   0.6s\n",
      "[CV] END xgbclassifier__colsample_bytree=0.4, xgbclassifier__gamma=0.0, xgbclassifier__learning_rate=0.4789473684210527, xgbclassifier__max_depth=4, xgbclassifier__min_child_weight=5, xgbclassifier__n_estimators=190, xgbclassifier__reg_alpha=0.6666666666666666, xgbclassifier__reg_lambda=0.7777777777777777, xgbclassifier__subsample=0.8; total time=   0.4s\n",
      "[CV] END xgbclassifier__colsample_bytree=0.4, xgbclassifier__gamma=0.0, xgbclassifier__learning_rate=0.4789473684210527, xgbclassifier__max_depth=4, xgbclassifier__min_child_weight=5, xgbclassifier__n_estimators=190, xgbclassifier__reg_alpha=0.6666666666666666, xgbclassifier__reg_lambda=0.7777777777777777, xgbclassifier__subsample=0.8; total time=   0.5s\n",
      "[CV] END xgbclassifier__colsample_bytree=0.2, xgbclassifier__gamma=0.7777777777777777, xgbclassifier__learning_rate=0.6352631578947369, xgbclassifier__max_depth=7, xgbclassifier__min_child_weight=10, xgbclassifier__n_estimators=193, xgbclassifier__reg_alpha=0.0, xgbclassifier__reg_lambda=0.4444444444444444, xgbclassifier__subsample=0.4; total time=   0.4s\n",
      "[CV] END xgbclassifier__colsample_bytree=0.2, xgbclassifier__gamma=0.7777777777777777, xgbclassifier__learning_rate=0.6352631578947369, xgbclassifier__max_depth=7, xgbclassifier__min_child_weight=10, xgbclassifier__n_estimators=193, xgbclassifier__reg_alpha=0.0, xgbclassifier__reg_lambda=0.4444444444444444, xgbclassifier__subsample=0.4; total time=   0.4s\n",
      "[CV] END xgbclassifier__colsample_bytree=0.2, xgbclassifier__gamma=0.7777777777777777, xgbclassifier__learning_rate=0.6352631578947369, xgbclassifier__max_depth=7, xgbclassifier__min_child_weight=10, xgbclassifier__n_estimators=193, xgbclassifier__reg_alpha=0.0, xgbclassifier__reg_lambda=0.4444444444444444, xgbclassifier__subsample=0.4; total time=   0.5s\n",
      "[CV] END xgbclassifier__colsample_bytree=0.2, xgbclassifier__gamma=0.7777777777777777, xgbclassifier__learning_rate=0.6352631578947369, xgbclassifier__max_depth=7, xgbclassifier__min_child_weight=10, xgbclassifier__n_estimators=193, xgbclassifier__reg_alpha=0.0, xgbclassifier__reg_lambda=0.4444444444444444, xgbclassifier__subsample=0.4; total time=   0.5s\n",
      "[CV] END xgbclassifier__colsample_bytree=0.2, xgbclassifier__gamma=0.7777777777777777, xgbclassifier__learning_rate=0.6352631578947369, xgbclassifier__max_depth=7, xgbclassifier__min_child_weight=10, xgbclassifier__n_estimators=193, xgbclassifier__reg_alpha=0.0, xgbclassifier__reg_lambda=0.4444444444444444, xgbclassifier__subsample=0.4; total time=   0.7s\n",
      "[CV] END xgbclassifier__colsample_bytree=1.0, xgbclassifier__gamma=0.2222222222222222, xgbclassifier__learning_rate=0.5310526315789474, xgbclassifier__max_depth=6, xgbclassifier__min_child_weight=7, xgbclassifier__n_estimators=192, xgbclassifier__reg_alpha=0.4444444444444444, xgbclassifier__reg_lambda=0.0, xgbclassifier__subsample=0.7000000000000001; total time=   1.3s\n",
      "[CV] END xgbclassifier__colsample_bytree=1.0, xgbclassifier__gamma=0.2222222222222222, xgbclassifier__learning_rate=0.5310526315789474, xgbclassifier__max_depth=6, xgbclassifier__min_child_weight=7, xgbclassifier__n_estimators=192, xgbclassifier__reg_alpha=0.4444444444444444, xgbclassifier__reg_lambda=0.0, xgbclassifier__subsample=0.7000000000000001; total time=   1.4s\n",
      "[CV] END xgbclassifier__colsample_bytree=1.0, xgbclassifier__gamma=0.2222222222222222, xgbclassifier__learning_rate=0.5310526315789474, xgbclassifier__max_depth=6, xgbclassifier__min_child_weight=7, xgbclassifier__n_estimators=192, xgbclassifier__reg_alpha=0.4444444444444444, xgbclassifier__reg_lambda=0.0, xgbclassifier__subsample=0.7000000000000001; total time=   1.5s\n",
      "[CV] END xgbclassifier__colsample_bytree=0.7000000000000001, xgbclassifier__gamma=1.0, xgbclassifier__learning_rate=0.4268421052631579, xgbclassifier__max_depth=7, xgbclassifier__min_child_weight=1, xgbclassifier__n_estimators=199, xgbclassifier__reg_alpha=1.0, xgbclassifier__reg_lambda=0.2222222222222222, xgbclassifier__subsample=0.6; total time=   1.2s\n",
      "[CV] END xgbclassifier__colsample_bytree=1.0, xgbclassifier__gamma=0.2222222222222222, xgbclassifier__learning_rate=0.5310526315789474, xgbclassifier__max_depth=6, xgbclassifier__min_child_weight=7, xgbclassifier__n_estimators=192, xgbclassifier__reg_alpha=0.4444444444444444, xgbclassifier__reg_lambda=0.0, xgbclassifier__subsample=0.7000000000000001; total time=   1.2s\n",
      "[CV] END xgbclassifier__colsample_bytree=0.7000000000000001, xgbclassifier__gamma=1.0, xgbclassifier__learning_rate=0.4268421052631579, xgbclassifier__max_depth=7, xgbclassifier__min_child_weight=1, xgbclassifier__n_estimators=199, xgbclassifier__reg_alpha=1.0, xgbclassifier__reg_lambda=0.2222222222222222, xgbclassifier__subsample=0.6; total time=   1.2s\n",
      "[CV] END xgbclassifier__colsample_bytree=1.0, xgbclassifier__gamma=0.2222222222222222, xgbclassifier__learning_rate=0.5310526315789474, xgbclassifier__max_depth=6, xgbclassifier__min_child_weight=7, xgbclassifier__n_estimators=192, xgbclassifier__reg_alpha=0.4444444444444444, xgbclassifier__reg_lambda=0.0, xgbclassifier__subsample=0.7000000000000001; total time=   1.4s\n",
      "[CV] END xgbclassifier__colsample_bytree=0.7000000000000001, xgbclassifier__gamma=1.0, xgbclassifier__learning_rate=0.4268421052631579, xgbclassifier__max_depth=7, xgbclassifier__min_child_weight=1, xgbclassifier__n_estimators=199, xgbclassifier__reg_alpha=1.0, xgbclassifier__reg_lambda=0.2222222222222222, xgbclassifier__subsample=0.6; total time=   1.3s\n",
      "[CV] END xgbclassifier__colsample_bytree=0.30000000000000004, xgbclassifier__gamma=0.7777777777777777, xgbclassifier__learning_rate=0.01, xgbclassifier__max_depth=4, xgbclassifier__min_child_weight=4, xgbclassifier__n_estimators=190, xgbclassifier__reg_alpha=1.0, xgbclassifier__reg_lambda=1.0, xgbclassifier__subsample=0.1; total time=   0.4s\n",
      "[CV] END xgbclassifier__colsample_bytree=0.30000000000000004, xgbclassifier__gamma=0.7777777777777777, xgbclassifier__learning_rate=0.01, xgbclassifier__max_depth=4, xgbclassifier__min_child_weight=4, xgbclassifier__n_estimators=190, xgbclassifier__reg_alpha=1.0, xgbclassifier__reg_lambda=1.0, xgbclassifier__subsample=0.1; total time=   0.4s\n",
      "[CV] END xgbclassifier__colsample_bytree=0.30000000000000004, xgbclassifier__gamma=0.7777777777777777, xgbclassifier__learning_rate=0.01, xgbclassifier__max_depth=4, xgbclassifier__min_child_weight=4, xgbclassifier__n_estimators=190, xgbclassifier__reg_alpha=1.0, xgbclassifier__reg_lambda=1.0, xgbclassifier__subsample=0.1; total time=   0.5s\n",
      "[CV] END xgbclassifier__colsample_bytree=0.30000000000000004, xgbclassifier__gamma=0.7777777777777777, xgbclassifier__learning_rate=0.01, xgbclassifier__max_depth=4, xgbclassifier__min_child_weight=4, xgbclassifier__n_estimators=190, xgbclassifier__reg_alpha=1.0, xgbclassifier__reg_lambda=1.0, xgbclassifier__subsample=0.1; total time=   0.4s\n",
      "[CV] END xgbclassifier__colsample_bytree=0.30000000000000004, xgbclassifier__gamma=0.7777777777777777, xgbclassifier__learning_rate=0.01, xgbclassifier__max_depth=4, xgbclassifier__min_child_weight=4, xgbclassifier__n_estimators=190, xgbclassifier__reg_alpha=1.0, xgbclassifier__reg_lambda=1.0, xgbclassifier__subsample=0.1; total time=   0.4s\n",
      "[CV] END xgbclassifier__colsample_bytree=0.7000000000000001, xgbclassifier__gamma=0.8888888888888888, xgbclassifier__learning_rate=0.21842105263157896, xgbclassifier__max_depth=6, xgbclassifier__min_child_weight=4, xgbclassifier__n_estimators=194, xgbclassifier__reg_alpha=0.6666666666666666, xgbclassifier__reg_lambda=0.5555555555555556, xgbclassifier__subsample=0.1; total time=   0.6s\n",
      "[CV] END xgbclassifier__colsample_bytree=0.7000000000000001, xgbclassifier__gamma=0.8888888888888888, xgbclassifier__learning_rate=0.21842105263157896, xgbclassifier__max_depth=6, xgbclassifier__min_child_weight=4, xgbclassifier__n_estimators=194, xgbclassifier__reg_alpha=0.6666666666666666, xgbclassifier__reg_lambda=0.5555555555555556, xgbclassifier__subsample=0.1; total time=   0.6s\n",
      "[CV] END xgbclassifier__colsample_bytree=0.7000000000000001, xgbclassifier__gamma=0.8888888888888888, xgbclassifier__learning_rate=0.21842105263157896, xgbclassifier__max_depth=6, xgbclassifier__min_child_weight=4, xgbclassifier__n_estimators=194, xgbclassifier__reg_alpha=0.6666666666666666, xgbclassifier__reg_lambda=0.5555555555555556, xgbclassifier__subsample=0.1; total time=   0.6s\n",
      "[CV] END xgbclassifier__colsample_bytree=0.7000000000000001, xgbclassifier__gamma=0.8888888888888888, xgbclassifier__learning_rate=0.21842105263157896, xgbclassifier__max_depth=6, xgbclassifier__min_child_weight=4, xgbclassifier__n_estimators=194, xgbclassifier__reg_alpha=0.6666666666666666, xgbclassifier__reg_lambda=0.5555555555555556, xgbclassifier__subsample=0.1; total time=   0.7s\n",
      "[CV] END xgbclassifier__colsample_bytree=0.7000000000000001, xgbclassifier__gamma=1.0, xgbclassifier__learning_rate=0.4268421052631579, xgbclassifier__max_depth=7, xgbclassifier__min_child_weight=1, xgbclassifier__n_estimators=199, xgbclassifier__reg_alpha=1.0, xgbclassifier__reg_lambda=0.2222222222222222, xgbclassifier__subsample=0.6; total time=   1.4s\n",
      "[CV] END xgbclassifier__colsample_bytree=0.7000000000000001, xgbclassifier__gamma=0.8888888888888888, xgbclassifier__learning_rate=0.21842105263157896, xgbclassifier__max_depth=6, xgbclassifier__min_child_weight=4, xgbclassifier__n_estimators=194, xgbclassifier__reg_alpha=0.6666666666666666, xgbclassifier__reg_lambda=0.5555555555555556, xgbclassifier__subsample=0.1; total time=   0.7s\n",
      "[CV] END xgbclassifier__colsample_bytree=0.7000000000000001, xgbclassifier__gamma=1.0, xgbclassifier__learning_rate=0.4268421052631579, xgbclassifier__max_depth=7, xgbclassifier__min_child_weight=1, xgbclassifier__n_estimators=199, xgbclassifier__reg_alpha=1.0, xgbclassifier__reg_lambda=0.2222222222222222, xgbclassifier__subsample=0.6; total time=   1.4s\n",
      "[CV] END xgbclassifier__colsample_bytree=1.0, xgbclassifier__gamma=0.1111111111111111, xgbclassifier__learning_rate=0.791578947368421, xgbclassifier__max_depth=1, xgbclassifier__min_child_weight=6, xgbclassifier__n_estimators=191, xgbclassifier__reg_alpha=0.8888888888888888, xgbclassifier__reg_lambda=0.6666666666666666, xgbclassifier__subsample=1.0; total time=   0.3s\n",
      "[CV] END xgbclassifier__colsample_bytree=1.0, xgbclassifier__gamma=0.1111111111111111, xgbclassifier__learning_rate=0.791578947368421, xgbclassifier__max_depth=1, xgbclassifier__min_child_weight=6, xgbclassifier__n_estimators=191, xgbclassifier__reg_alpha=0.8888888888888888, xgbclassifier__reg_lambda=0.6666666666666666, xgbclassifier__subsample=1.0; total time=   0.3s\n",
      "[CV] END xgbclassifier__colsample_bytree=0.30000000000000004, xgbclassifier__gamma=1.0, xgbclassifier__learning_rate=0.6873684210526316, xgbclassifier__max_depth=7, xgbclassifier__min_child_weight=3, xgbclassifier__n_estimators=192, xgbclassifier__reg_alpha=0.4444444444444444, xgbclassifier__reg_lambda=1.0, xgbclassifier__subsample=0.7000000000000001; total time=   0.9s\n",
      "[CV] END xgbclassifier__colsample_bytree=1.0, xgbclassifier__gamma=0.1111111111111111, xgbclassifier__learning_rate=0.791578947368421, xgbclassifier__max_depth=1, xgbclassifier__min_child_weight=6, xgbclassifier__n_estimators=191, xgbclassifier__reg_alpha=0.8888888888888888, xgbclassifier__reg_lambda=0.6666666666666666, xgbclassifier__subsample=1.0; total time=   0.3s\n",
      "[CV] END xgbclassifier__colsample_bytree=0.30000000000000004, xgbclassifier__gamma=1.0, xgbclassifier__learning_rate=0.6873684210526316, xgbclassifier__max_depth=7, xgbclassifier__min_child_weight=3, xgbclassifier__n_estimators=192, xgbclassifier__reg_alpha=0.4444444444444444, xgbclassifier__reg_lambda=1.0, xgbclassifier__subsample=0.7000000000000001; total time=   0.7s\n",
      "[CV] END xgbclassifier__colsample_bytree=0.30000000000000004, xgbclassifier__gamma=1.0, xgbclassifier__learning_rate=0.6873684210526316, xgbclassifier__max_depth=7, xgbclassifier__min_child_weight=3, xgbclassifier__n_estimators=192, xgbclassifier__reg_alpha=0.4444444444444444, xgbclassifier__reg_lambda=1.0, xgbclassifier__subsample=0.7000000000000001; total time=   0.7s\n",
      "[CV] END xgbclassifier__colsample_bytree=0.30000000000000004, xgbclassifier__gamma=1.0, xgbclassifier__learning_rate=0.6873684210526316, xgbclassifier__max_depth=7, xgbclassifier__min_child_weight=3, xgbclassifier__n_estimators=192, xgbclassifier__reg_alpha=0.4444444444444444, xgbclassifier__reg_lambda=1.0, xgbclassifier__subsample=0.7000000000000001; total time=   0.7s\n",
      "[CV] END xgbclassifier__colsample_bytree=1.0, xgbclassifier__gamma=0.1111111111111111, xgbclassifier__learning_rate=0.791578947368421, xgbclassifier__max_depth=1, xgbclassifier__min_child_weight=6, xgbclassifier__n_estimators=191, xgbclassifier__reg_alpha=0.8888888888888888, xgbclassifier__reg_lambda=0.6666666666666666, xgbclassifier__subsample=1.0; total time=   0.3s\n",
      "[CV] END xgbclassifier__colsample_bytree=1.0, xgbclassifier__gamma=0.1111111111111111, xgbclassifier__learning_rate=0.791578947368421, xgbclassifier__max_depth=1, xgbclassifier__min_child_weight=6, xgbclassifier__n_estimators=191, xgbclassifier__reg_alpha=0.8888888888888888, xgbclassifier__reg_lambda=0.6666666666666666, xgbclassifier__subsample=1.0; total time=   0.4s\n",
      "[CV] END xgbclassifier__colsample_bytree=0.30000000000000004, xgbclassifier__gamma=1.0, xgbclassifier__learning_rate=0.6873684210526316, xgbclassifier__max_depth=7, xgbclassifier__min_child_weight=3, xgbclassifier__n_estimators=192, xgbclassifier__reg_alpha=0.4444444444444444, xgbclassifier__reg_lambda=1.0, xgbclassifier__subsample=0.7000000000000001; total time=   0.9s\n",
      "[CV] END xgbclassifier__colsample_bytree=1.0, xgbclassifier__gamma=0.4444444444444444, xgbclassifier__learning_rate=0.6352631578947369, xgbclassifier__max_depth=6, xgbclassifier__min_child_weight=10, xgbclassifier__n_estimators=197, xgbclassifier__reg_alpha=0.4444444444444444, xgbclassifier__reg_lambda=0.1111111111111111, xgbclassifier__subsample=1.0; total time=   1.1s[CV] END xgbclassifier__colsample_bytree=0.8, xgbclassifier__gamma=0.7777777777777777, xgbclassifier__learning_rate=0.5831578947368421, xgbclassifier__max_depth=5, xgbclassifier__min_child_weight=9, xgbclassifier__n_estimators=190, xgbclassifier__reg_alpha=0.8888888888888888, xgbclassifier__reg_lambda=0.0, xgbclassifier__subsample=0.30000000000000004; total time=   0.8s\n",
      "[CV] END xgbclassifier__colsample_bytree=0.8, xgbclassifier__gamma=0.7777777777777777, xgbclassifier__learning_rate=0.5831578947368421, xgbclassifier__max_depth=5, xgbclassifier__min_child_weight=9, xgbclassifier__n_estimators=190, xgbclassifier__reg_alpha=0.8888888888888888, xgbclassifier__reg_lambda=0.0, xgbclassifier__subsample=0.30000000000000004; total time=   0.9s\n",
      "\n",
      "[CV] END xgbclassifier__colsample_bytree=1.0, xgbclassifier__gamma=0.4444444444444444, xgbclassifier__learning_rate=0.6352631578947369, xgbclassifier__max_depth=6, xgbclassifier__min_child_weight=10, xgbclassifier__n_estimators=197, xgbclassifier__reg_alpha=0.4444444444444444, xgbclassifier__reg_lambda=0.1111111111111111, xgbclassifier__subsample=1.0; total time=   1.1s\n",
      "[CV] END xgbclassifier__colsample_bytree=0.8, xgbclassifier__gamma=0.7777777777777777, xgbclassifier__learning_rate=0.5831578947368421, xgbclassifier__max_depth=5, xgbclassifier__min_child_weight=9, xgbclassifier__n_estimators=190, xgbclassifier__reg_alpha=0.8888888888888888, xgbclassifier__reg_lambda=0.0, xgbclassifier__subsample=0.30000000000000004; total time=   1.0s\n",
      "[CV] END xgbclassifier__colsample_bytree=1.0, xgbclassifier__gamma=0.4444444444444444, xgbclassifier__learning_rate=0.6352631578947369, xgbclassifier__max_depth=6, xgbclassifier__min_child_weight=10, xgbclassifier__n_estimators=197, xgbclassifier__reg_alpha=0.4444444444444444, xgbclassifier__reg_lambda=0.1111111111111111, xgbclassifier__subsample=1.0; total time=   1.2s\n",
      "[CV] END xgbclassifier__colsample_bytree=1.0, xgbclassifier__gamma=0.4444444444444444, xgbclassifier__learning_rate=0.6352631578947369, xgbclassifier__max_depth=6, xgbclassifier__min_child_weight=10, xgbclassifier__n_estimators=197, xgbclassifier__reg_alpha=0.4444444444444444, xgbclassifier__reg_lambda=0.1111111111111111, xgbclassifier__subsample=1.0; total time=   1.5s\n",
      "[CV] END xgbclassifier__colsample_bytree=0.7000000000000001, xgbclassifier__gamma=0.7777777777777777, xgbclassifier__learning_rate=0.06210526315789474, xgbclassifier__max_depth=3, xgbclassifier__min_child_weight=8, xgbclassifier__n_estimators=198, xgbclassifier__reg_alpha=0.7777777777777777, xgbclassifier__reg_lambda=0.2222222222222222, xgbclassifier__subsample=0.8; total time=   0.6s\n",
      "[CV] END xgbclassifier__colsample_bytree=1.0, xgbclassifier__gamma=0.4444444444444444, xgbclassifier__learning_rate=0.6352631578947369, xgbclassifier__max_depth=6, xgbclassifier__min_child_weight=10, xgbclassifier__n_estimators=197, xgbclassifier__reg_alpha=0.4444444444444444, xgbclassifier__reg_lambda=0.1111111111111111, xgbclassifier__subsample=1.0; total time=   1.7s\n",
      "[CV] END xgbclassifier__colsample_bytree=0.7000000000000001, xgbclassifier__gamma=0.7777777777777777, xgbclassifier__learning_rate=0.06210526315789474, xgbclassifier__max_depth=3, xgbclassifier__min_child_weight=8, xgbclassifier__n_estimators=198, xgbclassifier__reg_alpha=0.7777777777777777, xgbclassifier__reg_lambda=0.2222222222222222, xgbclassifier__subsample=0.8; total time=   0.6s\n",
      "[CV] END xgbclassifier__colsample_bytree=0.7000000000000001, xgbclassifier__gamma=0.7777777777777777, xgbclassifier__learning_rate=0.06210526315789474, xgbclassifier__max_depth=3, xgbclassifier__min_child_weight=8, xgbclassifier__n_estimators=198, xgbclassifier__reg_alpha=0.7777777777777777, xgbclassifier__reg_lambda=0.2222222222222222, xgbclassifier__subsample=0.8; total time=   0.8s\n",
      "[CV] END xgbclassifier__colsample_bytree=0.8, xgbclassifier__gamma=0.7777777777777777, xgbclassifier__learning_rate=0.5831578947368421, xgbclassifier__max_depth=5, xgbclassifier__min_child_weight=9, xgbclassifier__n_estimators=190, xgbclassifier__reg_alpha=0.8888888888888888, xgbclassifier__reg_lambda=0.0, xgbclassifier__subsample=0.30000000000000004; total time=   0.9s\n",
      "[CV] END xgbclassifier__colsample_bytree=0.7000000000000001, xgbclassifier__gamma=0.7777777777777777, xgbclassifier__learning_rate=0.06210526315789474, xgbclassifier__max_depth=3, xgbclassifier__min_child_weight=8, xgbclassifier__n_estimators=198, xgbclassifier__reg_alpha=0.7777777777777777, xgbclassifier__reg_lambda=0.2222222222222222, xgbclassifier__subsample=0.8; total time=   0.7s\n",
      "[CV] END xgbclassifier__colsample_bytree=0.7000000000000001, xgbclassifier__gamma=0.7777777777777777, xgbclassifier__learning_rate=0.06210526315789474, xgbclassifier__max_depth=3, xgbclassifier__min_child_weight=8, xgbclassifier__n_estimators=198, xgbclassifier__reg_alpha=0.7777777777777777, xgbclassifier__reg_lambda=0.2222222222222222, xgbclassifier__subsample=0.8; total time=   0.6s\n",
      "[CV] END xgbclassifier__colsample_bytree=0.8, xgbclassifier__gamma=0.7777777777777777, xgbclassifier__learning_rate=0.5831578947368421, xgbclassifier__max_depth=5, xgbclassifier__min_child_weight=9, xgbclassifier__n_estimators=190, xgbclassifier__reg_alpha=0.8888888888888888, xgbclassifier__reg_lambda=0.0, xgbclassifier__subsample=0.30000000000000004; total time=   1.1s\n",
      "[CV] END xgbclassifier__colsample_bytree=0.9, xgbclassifier__gamma=0.1111111111111111, xgbclassifier__learning_rate=1.0, xgbclassifier__max_depth=4, xgbclassifier__min_child_weight=10, xgbclassifier__n_estimators=193, xgbclassifier__reg_alpha=0.2222222222222222, xgbclassifier__reg_lambda=0.5555555555555556, xgbclassifier__subsample=0.5; total time=   0.9s\n",
      "[CV] END xgbclassifier__colsample_bytree=0.9, xgbclassifier__gamma=0.1111111111111111, xgbclassifier__learning_rate=1.0, xgbclassifier__max_depth=4, xgbclassifier__min_child_weight=10, xgbclassifier__n_estimators=193, xgbclassifier__reg_alpha=0.2222222222222222, xgbclassifier__reg_lambda=0.5555555555555556, xgbclassifier__subsample=0.5; total time=   1.1s\n",
      "[CV] END xgbclassifier__colsample_bytree=0.9, xgbclassifier__gamma=0.1111111111111111, xgbclassifier__learning_rate=1.0, xgbclassifier__max_depth=4, xgbclassifier__min_child_weight=10, xgbclassifier__n_estimators=193, xgbclassifier__reg_alpha=0.2222222222222222, xgbclassifier__reg_lambda=0.5555555555555556, xgbclassifier__subsample=0.5; total time=   1.1s\n",
      "[CV] END xgbclassifier__colsample_bytree=0.9, xgbclassifier__gamma=0.0, xgbclassifier__learning_rate=0.01, xgbclassifier__max_depth=9, xgbclassifier__min_child_weight=4, xgbclassifier__n_estimators=198, xgbclassifier__reg_alpha=0.2222222222222222, xgbclassifier__reg_lambda=0.5555555555555556, xgbclassifier__subsample=0.1; total time=   0.9s\n",
      "[CV] END xgbclassifier__colsample_bytree=0.9, xgbclassifier__gamma=0.0, xgbclassifier__learning_rate=0.01, xgbclassifier__max_depth=9, xgbclassifier__min_child_weight=4, xgbclassifier__n_estimators=198, xgbclassifier__reg_alpha=0.2222222222222222, xgbclassifier__reg_lambda=0.5555555555555556, xgbclassifier__subsample=0.1; total time=   1.0s\n",
      "[CV] END xgbclassifier__colsample_bytree=0.9, xgbclassifier__gamma=0.1111111111111111, xgbclassifier__learning_rate=1.0, xgbclassifier__max_depth=4, xgbclassifier__min_child_weight=10, xgbclassifier__n_estimators=193, xgbclassifier__reg_alpha=0.2222222222222222, xgbclassifier__reg_lambda=0.5555555555555556, xgbclassifier__subsample=0.5; total time=   1.2s\n",
      "[CV] END xgbclassifier__colsample_bytree=0.9, xgbclassifier__gamma=0.0, xgbclassifier__learning_rate=0.01, xgbclassifier__max_depth=9, xgbclassifier__min_child_weight=4, xgbclassifier__n_estimators=198, xgbclassifier__reg_alpha=0.2222222222222222, xgbclassifier__reg_lambda=0.5555555555555556, xgbclassifier__subsample=0.1; total time=   0.8s\n",
      "[CV] END xgbclassifier__colsample_bytree=0.9, xgbclassifier__gamma=0.1111111111111111, xgbclassifier__learning_rate=1.0, xgbclassifier__max_depth=4, xgbclassifier__min_child_weight=10, xgbclassifier__n_estimators=193, xgbclassifier__reg_alpha=0.2222222222222222, xgbclassifier__reg_lambda=0.5555555555555556, xgbclassifier__subsample=0.5; total time=   1.1s\n",
      "[CV] END xgbclassifier__colsample_bytree=0.4, xgbclassifier__gamma=1.0, xgbclassifier__learning_rate=0.4789473684210527, xgbclassifier__max_depth=4, xgbclassifier__min_child_weight=6, xgbclassifier__n_estimators=199, xgbclassifier__reg_alpha=0.2222222222222222, xgbclassifier__reg_lambda=1.0, xgbclassifier__subsample=0.6; total time=   0.6s\n",
      "[CV] END xgbclassifier__colsample_bytree=0.9, xgbclassifier__gamma=0.0, xgbclassifier__learning_rate=0.01, xgbclassifier__max_depth=9, xgbclassifier__min_child_weight=4, xgbclassifier__n_estimators=198, xgbclassifier__reg_alpha=0.2222222222222222, xgbclassifier__reg_lambda=0.5555555555555556, xgbclassifier__subsample=0.1; total time=   0.9s\n",
      "[CV] END xgbclassifier__colsample_bytree=0.4, xgbclassifier__gamma=1.0, xgbclassifier__learning_rate=0.4789473684210527, xgbclassifier__max_depth=4, xgbclassifier__min_child_weight=6, xgbclassifier__n_estimators=199, xgbclassifier__reg_alpha=0.2222222222222222, xgbclassifier__reg_lambda=1.0, xgbclassifier__subsample=0.6; total time=   0.6s\n",
      "[CV] END xgbclassifier__colsample_bytree=0.4, xgbclassifier__gamma=1.0, xgbclassifier__learning_rate=0.4789473684210527, xgbclassifier__max_depth=4, xgbclassifier__min_child_weight=6, xgbclassifier__n_estimators=199, xgbclassifier__reg_alpha=0.2222222222222222, xgbclassifier__reg_lambda=1.0, xgbclassifier__subsample=0.6; total time=   0.6s[CV] END xgbclassifier__colsample_bytree=0.4, xgbclassifier__gamma=1.0, xgbclassifier__learning_rate=0.4789473684210527, xgbclassifier__max_depth=4, xgbclassifier__min_child_weight=6, xgbclassifier__n_estimators=199, xgbclassifier__reg_alpha=0.2222222222222222, xgbclassifier__reg_lambda=1.0, xgbclassifier__subsample=0.6; total time=   0.6s\n",
      "\n",
      "[CV] END xgbclassifier__colsample_bytree=0.9, xgbclassifier__gamma=0.0, xgbclassifier__learning_rate=0.01, xgbclassifier__max_depth=9, xgbclassifier__min_child_weight=4, xgbclassifier__n_estimators=198, xgbclassifier__reg_alpha=0.2222222222222222, xgbclassifier__reg_lambda=0.5555555555555556, xgbclassifier__subsample=0.1; total time=   0.8s\n",
      "[CV] END xgbclassifier__colsample_bytree=0.4, xgbclassifier__gamma=1.0, xgbclassifier__learning_rate=0.4789473684210527, xgbclassifier__max_depth=4, xgbclassifier__min_child_weight=6, xgbclassifier__n_estimators=199, xgbclassifier__reg_alpha=0.2222222222222222, xgbclassifier__reg_lambda=1.0, xgbclassifier__subsample=0.6; total time=   0.7s\n"
     ]
    },
    {
     "data": {
      "text/html": [
       "<style>#sk-container-id-21 {color: black;background-color: white;}#sk-container-id-21 pre{padding: 0;}#sk-container-id-21 div.sk-toggleable {background-color: white;}#sk-container-id-21 label.sk-toggleable__label {cursor: pointer;display: block;width: 100%;margin-bottom: 0;padding: 0.3em;box-sizing: border-box;text-align: center;}#sk-container-id-21 label.sk-toggleable__label-arrow:before {content: \"▸\";float: left;margin-right: 0.25em;color: #696969;}#sk-container-id-21 label.sk-toggleable__label-arrow:hover:before {color: black;}#sk-container-id-21 div.sk-estimator:hover label.sk-toggleable__label-arrow:before {color: black;}#sk-container-id-21 div.sk-toggleable__content {max-height: 0;max-width: 0;overflow: hidden;text-align: left;background-color: #f0f8ff;}#sk-container-id-21 div.sk-toggleable__content pre {margin: 0.2em;color: black;border-radius: 0.25em;background-color: #f0f8ff;}#sk-container-id-21 input.sk-toggleable__control:checked~div.sk-toggleable__content {max-height: 200px;max-width: 100%;overflow: auto;}#sk-container-id-21 input.sk-toggleable__control:checked~label.sk-toggleable__label-arrow:before {content: \"▾\";}#sk-container-id-21 div.sk-estimator input.sk-toggleable__control:checked~label.sk-toggleable__label {background-color: #d4ebff;}#sk-container-id-21 div.sk-label input.sk-toggleable__control:checked~label.sk-toggleable__label {background-color: #d4ebff;}#sk-container-id-21 input.sk-hidden--visually {border: 0;clip: rect(1px 1px 1px 1px);clip: rect(1px, 1px, 1px, 1px);height: 1px;margin: -1px;overflow: hidden;padding: 0;position: absolute;width: 1px;}#sk-container-id-21 div.sk-estimator {font-family: monospace;background-color: #f0f8ff;border: 1px dotted black;border-radius: 0.25em;box-sizing: border-box;margin-bottom: 0.5em;}#sk-container-id-21 div.sk-estimator:hover {background-color: #d4ebff;}#sk-container-id-21 div.sk-parallel-item::after {content: \"\";width: 100%;border-bottom: 1px solid gray;flex-grow: 1;}#sk-container-id-21 div.sk-label:hover label.sk-toggleable__label {background-color: #d4ebff;}#sk-container-id-21 div.sk-serial::before {content: \"\";position: absolute;border-left: 1px solid gray;box-sizing: border-box;top: 0;bottom: 0;left: 50%;z-index: 0;}#sk-container-id-21 div.sk-serial {display: flex;flex-direction: column;align-items: center;background-color: white;padding-right: 0.2em;padding-left: 0.2em;position: relative;}#sk-container-id-21 div.sk-item {position: relative;z-index: 1;}#sk-container-id-21 div.sk-parallel {display: flex;align-items: stretch;justify-content: center;background-color: white;position: relative;}#sk-container-id-21 div.sk-item::before, #sk-container-id-21 div.sk-parallel-item::before {content: \"\";position: absolute;border-left: 1px solid gray;box-sizing: border-box;top: 0;bottom: 0;left: 50%;z-index: -1;}#sk-container-id-21 div.sk-parallel-item {display: flex;flex-direction: column;z-index: 1;position: relative;background-color: white;}#sk-container-id-21 div.sk-parallel-item:first-child::after {align-self: flex-end;width: 50%;}#sk-container-id-21 div.sk-parallel-item:last-child::after {align-self: flex-start;width: 50%;}#sk-container-id-21 div.sk-parallel-item:only-child::after {width: 0;}#sk-container-id-21 div.sk-dashed-wrapped {border: 1px dashed gray;margin: 0 0.4em 0.5em 0.4em;box-sizing: border-box;padding-bottom: 0.4em;background-color: white;}#sk-container-id-21 div.sk-label label {font-family: monospace;font-weight: bold;display: inline-block;line-height: 1.2em;}#sk-container-id-21 div.sk-label-container {text-align: center;}#sk-container-id-21 div.sk-container {/* jupyter's `normalize.less` sets `[hidden] { display: none; }` but bootstrap.min.css set `[hidden] { display: none !important; }` so we also need the `!important` here to be able to override the default hidden behavior on the sphinx rendered scikit-learn.org. See: https://github.com/scikit-learn/scikit-learn/issues/21755 */display: inline-block !important;position: relative;}#sk-container-id-21 div.sk-text-repr-fallback {display: none;}</style><div id=\"sk-container-id-21\" class=\"sk-top-container\"><div class=\"sk-text-repr-fallback\"><pre>RandomizedSearchCV(cv=5,\n",
       "                   estimator=Pipeline(steps=[(&#x27;columntransformer&#x27;,\n",
       "                                              ColumnTransformer(transformers=[(&#x27;standardscaler&#x27;,\n",
       "                                                                               StandardScaler(),\n",
       "                                                                               [&#x27;NoEmp&#x27;,\n",
       "                                                                                &#x27;RetainedJob&#x27;,\n",
       "                                                                                &#x27;Term&#x27;,\n",
       "                                                                                &#x27;NAICS&#x27;]),\n",
       "                                                                              (&#x27;onehotencoder&#x27;,\n",
       "                                                                               OneHotEncoder(),\n",
       "                                                                               [&#x27;UrbanRural&#x27;])])),\n",
       "                                             (&#x27;xgbclassifier&#x27;,\n",
       "                                              XGBClassifier(base_score=None,\n",
       "                                                            booster=None,\n",
       "                                                            callbacks=None,\n",
       "                                                            colsample_bylevel=None,\n",
       "                                                            colsample_bynode=None,...\n",
       "                                        &#x27;xgbclassifier__reg_alpha&#x27;: array([0.        , 0.11111111, 0.22222222, 0.33333333, 0.44444444,\n",
       "       0.55555556, 0.66666667, 0.77777778, 0.88888889, 1.        ]),\n",
       "                                        &#x27;xgbclassifier__reg_lambda&#x27;: array([0.        , 0.11111111, 0.22222222, 0.33333333, 0.44444444,\n",
       "       0.55555556, 0.66666667, 0.77777778, 0.88888889, 1.        ]),\n",
       "                                        &#x27;xgbclassifier__subsample&#x27;: array([0.1, 0.2, 0.3, 0.4, 0.5, 0.6, 0.7, 0.8, 0.9, 1. ])},\n",
       "                   scoring=&#x27;f1_macro&#x27;, verbose=2)</pre><b>In a Jupyter environment, please rerun this cell to show the HTML representation or trust the notebook. <br />On GitHub, the HTML representation is unable to render, please try loading this page with nbviewer.org.</b></div><div class=\"sk-container\" hidden><div class=\"sk-item sk-dashed-wrapped\"><div class=\"sk-label-container\"><div class=\"sk-label sk-toggleable\"><input class=\"sk-toggleable__control sk-hidden--visually\" id=\"sk-estimator-id-151\" type=\"checkbox\" ><label for=\"sk-estimator-id-151\" class=\"sk-toggleable__label sk-toggleable__label-arrow\">RandomizedSearchCV</label><div class=\"sk-toggleable__content\"><pre>RandomizedSearchCV(cv=5,\n",
       "                   estimator=Pipeline(steps=[(&#x27;columntransformer&#x27;,\n",
       "                                              ColumnTransformer(transformers=[(&#x27;standardscaler&#x27;,\n",
       "                                                                               StandardScaler(),\n",
       "                                                                               [&#x27;NoEmp&#x27;,\n",
       "                                                                                &#x27;RetainedJob&#x27;,\n",
       "                                                                                &#x27;Term&#x27;,\n",
       "                                                                                &#x27;NAICS&#x27;]),\n",
       "                                                                              (&#x27;onehotencoder&#x27;,\n",
       "                                                                               OneHotEncoder(),\n",
       "                                                                               [&#x27;UrbanRural&#x27;])])),\n",
       "                                             (&#x27;xgbclassifier&#x27;,\n",
       "                                              XGBClassifier(base_score=None,\n",
       "                                                            booster=None,\n",
       "                                                            callbacks=None,\n",
       "                                                            colsample_bylevel=None,\n",
       "                                                            colsample_bynode=None,...\n",
       "                                        &#x27;xgbclassifier__reg_alpha&#x27;: array([0.        , 0.11111111, 0.22222222, 0.33333333, 0.44444444,\n",
       "       0.55555556, 0.66666667, 0.77777778, 0.88888889, 1.        ]),\n",
       "                                        &#x27;xgbclassifier__reg_lambda&#x27;: array([0.        , 0.11111111, 0.22222222, 0.33333333, 0.44444444,\n",
       "       0.55555556, 0.66666667, 0.77777778, 0.88888889, 1.        ]),\n",
       "                                        &#x27;xgbclassifier__subsample&#x27;: array([0.1, 0.2, 0.3, 0.4, 0.5, 0.6, 0.7, 0.8, 0.9, 1. ])},\n",
       "                   scoring=&#x27;f1_macro&#x27;, verbose=2)</pre></div></div></div><div class=\"sk-parallel\"><div class=\"sk-parallel-item\"><div class=\"sk-item\"><div class=\"sk-label-container\"><div class=\"sk-label sk-toggleable\"><input class=\"sk-toggleable__control sk-hidden--visually\" id=\"sk-estimator-id-152\" type=\"checkbox\" ><label for=\"sk-estimator-id-152\" class=\"sk-toggleable__label sk-toggleable__label-arrow\">estimator: Pipeline</label><div class=\"sk-toggleable__content\"><pre>Pipeline(steps=[(&#x27;columntransformer&#x27;,\n",
       "                 ColumnTransformer(transformers=[(&#x27;standardscaler&#x27;,\n",
       "                                                  StandardScaler(),\n",
       "                                                  [&#x27;NoEmp&#x27;, &#x27;RetainedJob&#x27;,\n",
       "                                                   &#x27;Term&#x27;, &#x27;NAICS&#x27;]),\n",
       "                                                 (&#x27;onehotencoder&#x27;,\n",
       "                                                  OneHotEncoder(),\n",
       "                                                  [&#x27;UrbanRural&#x27;])])),\n",
       "                (&#x27;xgbclassifier&#x27;,\n",
       "                 XGBClassifier(base_score=None, booster=None, callbacks=None,\n",
       "                               colsample_bylevel=None, colsample_bynode=None,\n",
       "                               colsample_bytree=None,\n",
       "                               early_stoppi...\n",
       "                               feature_types=None, gamma=None, gpu_id=None,\n",
       "                               grow_policy=None, importance_type=None,\n",
       "                               interaction_constraints=None, learning_rate=None,\n",
       "                               max_bin=None, max_cat_threshold=None,\n",
       "                               max_cat_to_onehot=None, max_delta_step=None,\n",
       "                               max_depth=None, max_leaves=None,\n",
       "                               min_child_weight=None, missing=nan,\n",
       "                               monotone_constraints=None, n_estimators=100,\n",
       "                               n_jobs=None, num_parallel_tree=None,\n",
       "                               predictor=None, random_state=None, ...))])</pre></div></div></div><div class=\"sk-serial\"><div class=\"sk-item\"><div class=\"sk-serial\"><div class=\"sk-item sk-dashed-wrapped\"><div class=\"sk-label-container\"><div class=\"sk-label sk-toggleable\"><input class=\"sk-toggleable__control sk-hidden--visually\" id=\"sk-estimator-id-153\" type=\"checkbox\" ><label for=\"sk-estimator-id-153\" class=\"sk-toggleable__label sk-toggleable__label-arrow\">columntransformer: ColumnTransformer</label><div class=\"sk-toggleable__content\"><pre>ColumnTransformer(transformers=[(&#x27;standardscaler&#x27;, StandardScaler(),\n",
       "                                 [&#x27;NoEmp&#x27;, &#x27;RetainedJob&#x27;, &#x27;Term&#x27;, &#x27;NAICS&#x27;]),\n",
       "                                (&#x27;onehotencoder&#x27;, OneHotEncoder(),\n",
       "                                 [&#x27;UrbanRural&#x27;])])</pre></div></div></div><div class=\"sk-parallel\"><div class=\"sk-parallel-item\"><div class=\"sk-item\"><div class=\"sk-label-container\"><div class=\"sk-label sk-toggleable\"><input class=\"sk-toggleable__control sk-hidden--visually\" id=\"sk-estimator-id-154\" type=\"checkbox\" ><label for=\"sk-estimator-id-154\" class=\"sk-toggleable__label sk-toggleable__label-arrow\">standardscaler</label><div class=\"sk-toggleable__content\"><pre>[&#x27;NoEmp&#x27;, &#x27;RetainedJob&#x27;, &#x27;Term&#x27;, &#x27;NAICS&#x27;]</pre></div></div></div><div class=\"sk-serial\"><div class=\"sk-item\"><div class=\"sk-estimator sk-toggleable\"><input class=\"sk-toggleable__control sk-hidden--visually\" id=\"sk-estimator-id-155\" type=\"checkbox\" ><label for=\"sk-estimator-id-155\" class=\"sk-toggleable__label sk-toggleable__label-arrow\">StandardScaler</label><div class=\"sk-toggleable__content\"><pre>StandardScaler()</pre></div></div></div></div></div></div><div class=\"sk-parallel-item\"><div class=\"sk-item\"><div class=\"sk-label-container\"><div class=\"sk-label sk-toggleable\"><input class=\"sk-toggleable__control sk-hidden--visually\" id=\"sk-estimator-id-156\" type=\"checkbox\" ><label for=\"sk-estimator-id-156\" class=\"sk-toggleable__label sk-toggleable__label-arrow\">onehotencoder</label><div class=\"sk-toggleable__content\"><pre>[&#x27;UrbanRural&#x27;]</pre></div></div></div><div class=\"sk-serial\"><div class=\"sk-item\"><div class=\"sk-estimator sk-toggleable\"><input class=\"sk-toggleable__control sk-hidden--visually\" id=\"sk-estimator-id-157\" type=\"checkbox\" ><label for=\"sk-estimator-id-157\" class=\"sk-toggleable__label sk-toggleable__label-arrow\">OneHotEncoder</label><div class=\"sk-toggleable__content\"><pre>OneHotEncoder()</pre></div></div></div></div></div></div></div></div><div class=\"sk-item\"><div class=\"sk-estimator sk-toggleable\"><input class=\"sk-toggleable__control sk-hidden--visually\" id=\"sk-estimator-id-158\" type=\"checkbox\" ><label for=\"sk-estimator-id-158\" class=\"sk-toggleable__label sk-toggleable__label-arrow\">XGBClassifier</label><div class=\"sk-toggleable__content\"><pre>XGBClassifier(base_score=None, booster=None, callbacks=None,\n",
       "              colsample_bylevel=None, colsample_bynode=None,\n",
       "              colsample_bytree=None, early_stopping_rounds=None,\n",
       "              enable_categorical=False, eval_metric=None, feature_types=None,\n",
       "              gamma=None, gpu_id=None, grow_policy=None, importance_type=None,\n",
       "              interaction_constraints=None, learning_rate=None, max_bin=None,\n",
       "              max_cat_threshold=None, max_cat_to_onehot=None,\n",
       "              max_delta_step=None, max_depth=None, max_leaves=None,\n",
       "              min_child_weight=None, missing=nan, monotone_constraints=None,\n",
       "              n_estimators=100, n_jobs=None, num_parallel_tree=None,\n",
       "              predictor=None, random_state=None, ...)</pre></div></div></div></div></div></div></div></div></div></div></div></div>"
      ],
      "text/plain": [
       "RandomizedSearchCV(cv=5,\n",
       "                   estimator=Pipeline(steps=[('columntransformer',\n",
       "                                              ColumnTransformer(transformers=[('standardscaler',\n",
       "                                                                               StandardScaler(),\n",
       "                                                                               ['NoEmp',\n",
       "                                                                                'RetainedJob',\n",
       "                                                                                'Term',\n",
       "                                                                                'NAICS']),\n",
       "                                                                              ('onehotencoder',\n",
       "                                                                               OneHotEncoder(),\n",
       "                                                                               ['UrbanRural'])])),\n",
       "                                             ('xgbclassifier',\n",
       "                                              XGBClassifier(base_score=None,\n",
       "                                                            booster=None,\n",
       "                                                            callbacks=None,\n",
       "                                                            colsample_bylevel=None,\n",
       "                                                            colsample_bynode=None,...\n",
       "                                        'xgbclassifier__reg_alpha': array([0.        , 0.11111111, 0.22222222, 0.33333333, 0.44444444,\n",
       "       0.55555556, 0.66666667, 0.77777778, 0.88888889, 1.        ]),\n",
       "                                        'xgbclassifier__reg_lambda': array([0.        , 0.11111111, 0.22222222, 0.33333333, 0.44444444,\n",
       "       0.55555556, 0.66666667, 0.77777778, 0.88888889, 1.        ]),\n",
       "                                        'xgbclassifier__subsample': array([0.1, 0.2, 0.3, 0.4, 0.5, 0.6, 0.7, 0.8, 0.9, 1. ])},\n",
       "                   scoring='f1_macro', verbose=2)"
      ]
     },
     "execution_count": 422,
     "metadata": {},
     "output_type": "execute_result"
    }
   ],
   "source": [
    "param_dist = {'xgbclassifier__n_estimators': np.arange(190, 200, 1), \n",
    "              'xgbclassifier__learning_rate': np.linspace(0.01, 1, 20),\n",
    "              'xgbclassifier__max_depth': np.arange(1, 11),\n",
    "              'xgbclassifier__subsample': np.linspace(0.1, 1, 10),\n",
    "              'xgbclassifier__colsample_bytree': np.linspace(0.1, 1, 10),\n",
    "              'xgbclassifier__reg_alpha': np.linspace(0, 1, 10),\n",
    "              'xgbclassifier__reg_lambda': np.linspace(0, 1, 10),\n",
    "              'xgbclassifier__min_child_weight': np.arange(1, 11),\n",
    "              'xgbclassifier__gamma': np.linspace(0, 1, 10)\n",
    "             }\n",
    "\n",
    "random_search = RandomizedSearchCV(xgb_pipe, param_distributions=param_dist, cv=5, scoring='f1_macro', n_iter=50, n_jobs=-1, verbose=2)\n",
    "\n",
    "\n",
    "random_search.fit(X_train, y_train)"
   ]
  },
  {
   "cell_type": "code",
   "execution_count": 423,
   "metadata": {},
   "outputs": [
    {
     "name": "stdout",
     "output_type": "stream",
     "text": [
      "{'xgbclassifier__subsample': 0.5, 'xgbclassifier__reg_lambda': 0.1111111111111111, 'xgbclassifier__reg_alpha': 0.6666666666666666, 'xgbclassifier__n_estimators': 197, 'xgbclassifier__min_child_weight': 4, 'xgbclassifier__max_depth': 8, 'xgbclassifier__learning_rate': 0.11421052631578947, 'xgbclassifier__gamma': 1.0, 'xgbclassifier__colsample_bytree': 0.2}\n"
     ]
    }
   ],
   "source": [
    "# On récupère les meilleurs hyperparamètres trouvés\n",
    "best_params = random_search.best_params_\n",
    "print(best_params) "
   ]
  },
  {
   "cell_type": "code",
   "execution_count": 424,
   "metadata": {},
   "outputs": [
    {
     "data": {
      "text/html": [
       "<style>#sk-container-id-22 {color: black;background-color: white;}#sk-container-id-22 pre{padding: 0;}#sk-container-id-22 div.sk-toggleable {background-color: white;}#sk-container-id-22 label.sk-toggleable__label {cursor: pointer;display: block;width: 100%;margin-bottom: 0;padding: 0.3em;box-sizing: border-box;text-align: center;}#sk-container-id-22 label.sk-toggleable__label-arrow:before {content: \"▸\";float: left;margin-right: 0.25em;color: #696969;}#sk-container-id-22 label.sk-toggleable__label-arrow:hover:before {color: black;}#sk-container-id-22 div.sk-estimator:hover label.sk-toggleable__label-arrow:before {color: black;}#sk-container-id-22 div.sk-toggleable__content {max-height: 0;max-width: 0;overflow: hidden;text-align: left;background-color: #f0f8ff;}#sk-container-id-22 div.sk-toggleable__content pre {margin: 0.2em;color: black;border-radius: 0.25em;background-color: #f0f8ff;}#sk-container-id-22 input.sk-toggleable__control:checked~div.sk-toggleable__content {max-height: 200px;max-width: 100%;overflow: auto;}#sk-container-id-22 input.sk-toggleable__control:checked~label.sk-toggleable__label-arrow:before {content: \"▾\";}#sk-container-id-22 div.sk-estimator input.sk-toggleable__control:checked~label.sk-toggleable__label {background-color: #d4ebff;}#sk-container-id-22 div.sk-label input.sk-toggleable__control:checked~label.sk-toggleable__label {background-color: #d4ebff;}#sk-container-id-22 input.sk-hidden--visually {border: 0;clip: rect(1px 1px 1px 1px);clip: rect(1px, 1px, 1px, 1px);height: 1px;margin: -1px;overflow: hidden;padding: 0;position: absolute;width: 1px;}#sk-container-id-22 div.sk-estimator {font-family: monospace;background-color: #f0f8ff;border: 1px dotted black;border-radius: 0.25em;box-sizing: border-box;margin-bottom: 0.5em;}#sk-container-id-22 div.sk-estimator:hover {background-color: #d4ebff;}#sk-container-id-22 div.sk-parallel-item::after {content: \"\";width: 100%;border-bottom: 1px solid gray;flex-grow: 1;}#sk-container-id-22 div.sk-label:hover label.sk-toggleable__label {background-color: #d4ebff;}#sk-container-id-22 div.sk-serial::before {content: \"\";position: absolute;border-left: 1px solid gray;box-sizing: border-box;top: 0;bottom: 0;left: 50%;z-index: 0;}#sk-container-id-22 div.sk-serial {display: flex;flex-direction: column;align-items: center;background-color: white;padding-right: 0.2em;padding-left: 0.2em;position: relative;}#sk-container-id-22 div.sk-item {position: relative;z-index: 1;}#sk-container-id-22 div.sk-parallel {display: flex;align-items: stretch;justify-content: center;background-color: white;position: relative;}#sk-container-id-22 div.sk-item::before, #sk-container-id-22 div.sk-parallel-item::before {content: \"\";position: absolute;border-left: 1px solid gray;box-sizing: border-box;top: 0;bottom: 0;left: 50%;z-index: -1;}#sk-container-id-22 div.sk-parallel-item {display: flex;flex-direction: column;z-index: 1;position: relative;background-color: white;}#sk-container-id-22 div.sk-parallel-item:first-child::after {align-self: flex-end;width: 50%;}#sk-container-id-22 div.sk-parallel-item:last-child::after {align-self: flex-start;width: 50%;}#sk-container-id-22 div.sk-parallel-item:only-child::after {width: 0;}#sk-container-id-22 div.sk-dashed-wrapped {border: 1px dashed gray;margin: 0 0.4em 0.5em 0.4em;box-sizing: border-box;padding-bottom: 0.4em;background-color: white;}#sk-container-id-22 div.sk-label label {font-family: monospace;font-weight: bold;display: inline-block;line-height: 1.2em;}#sk-container-id-22 div.sk-label-container {text-align: center;}#sk-container-id-22 div.sk-container {/* jupyter's `normalize.less` sets `[hidden] { display: none; }` but bootstrap.min.css set `[hidden] { display: none !important; }` so we also need the `!important` here to be able to override the default hidden behavior on the sphinx rendered scikit-learn.org. See: https://github.com/scikit-learn/scikit-learn/issues/21755 */display: inline-block !important;position: relative;}#sk-container-id-22 div.sk-text-repr-fallback {display: none;}</style><div id=\"sk-container-id-22\" class=\"sk-top-container\"><div class=\"sk-text-repr-fallback\"><pre>Pipeline(steps=[(&#x27;columntransformer&#x27;,\n",
       "                 ColumnTransformer(transformers=[(&#x27;standardscaler&#x27;,\n",
       "                                                  StandardScaler(),\n",
       "                                                  [&#x27;NoEmp&#x27;, &#x27;RetainedJob&#x27;,\n",
       "                                                   &#x27;Term&#x27;, &#x27;NAICS&#x27;]),\n",
       "                                                 (&#x27;onehotencoder&#x27;,\n",
       "                                                  OneHotEncoder(),\n",
       "                                                  [&#x27;UrbanRural&#x27;])])),\n",
       "                (&#x27;xgbclassifier&#x27;,\n",
       "                 XGBClassifier(base_score=None, booster=None, callbacks=None,\n",
       "                               colsample_bylevel=None, colsample_bynode=None,\n",
       "                               colsample_bytree=0.2, early_stoppin...\n",
       "                               grow_policy=None, importance_type=None,\n",
       "                               interaction_constraints=None,\n",
       "                               learning_rate=0.11421052631578947, max_bin=None,\n",
       "                               max_cat_threshold=None, max_cat_to_onehot=None,\n",
       "                               max_delta_step=None, max_depth=8,\n",
       "                               max_leaves=None, min_child_weight=4, missing=nan,\n",
       "                               monotone_constraints=None, n_estimators=197,\n",
       "                               n_jobs=None, num_parallel_tree=None,\n",
       "                               predictor=None, random_state=None, ...))])</pre><b>In a Jupyter environment, please rerun this cell to show the HTML representation or trust the notebook. <br />On GitHub, the HTML representation is unable to render, please try loading this page with nbviewer.org.</b></div><div class=\"sk-container\" hidden><div class=\"sk-item sk-dashed-wrapped\"><div class=\"sk-label-container\"><div class=\"sk-label sk-toggleable\"><input class=\"sk-toggleable__control sk-hidden--visually\" id=\"sk-estimator-id-159\" type=\"checkbox\" ><label for=\"sk-estimator-id-159\" class=\"sk-toggleable__label sk-toggleable__label-arrow\">Pipeline</label><div class=\"sk-toggleable__content\"><pre>Pipeline(steps=[(&#x27;columntransformer&#x27;,\n",
       "                 ColumnTransformer(transformers=[(&#x27;standardscaler&#x27;,\n",
       "                                                  StandardScaler(),\n",
       "                                                  [&#x27;NoEmp&#x27;, &#x27;RetainedJob&#x27;,\n",
       "                                                   &#x27;Term&#x27;, &#x27;NAICS&#x27;]),\n",
       "                                                 (&#x27;onehotencoder&#x27;,\n",
       "                                                  OneHotEncoder(),\n",
       "                                                  [&#x27;UrbanRural&#x27;])])),\n",
       "                (&#x27;xgbclassifier&#x27;,\n",
       "                 XGBClassifier(base_score=None, booster=None, callbacks=None,\n",
       "                               colsample_bylevel=None, colsample_bynode=None,\n",
       "                               colsample_bytree=0.2, early_stoppin...\n",
       "                               grow_policy=None, importance_type=None,\n",
       "                               interaction_constraints=None,\n",
       "                               learning_rate=0.11421052631578947, max_bin=None,\n",
       "                               max_cat_threshold=None, max_cat_to_onehot=None,\n",
       "                               max_delta_step=None, max_depth=8,\n",
       "                               max_leaves=None, min_child_weight=4, missing=nan,\n",
       "                               monotone_constraints=None, n_estimators=197,\n",
       "                               n_jobs=None, num_parallel_tree=None,\n",
       "                               predictor=None, random_state=None, ...))])</pre></div></div></div><div class=\"sk-serial\"><div class=\"sk-item sk-dashed-wrapped\"><div class=\"sk-label-container\"><div class=\"sk-label sk-toggleable\"><input class=\"sk-toggleable__control sk-hidden--visually\" id=\"sk-estimator-id-160\" type=\"checkbox\" ><label for=\"sk-estimator-id-160\" class=\"sk-toggleable__label sk-toggleable__label-arrow\">columntransformer: ColumnTransformer</label><div class=\"sk-toggleable__content\"><pre>ColumnTransformer(transformers=[(&#x27;standardscaler&#x27;, StandardScaler(),\n",
       "                                 [&#x27;NoEmp&#x27;, &#x27;RetainedJob&#x27;, &#x27;Term&#x27;, &#x27;NAICS&#x27;]),\n",
       "                                (&#x27;onehotencoder&#x27;, OneHotEncoder(),\n",
       "                                 [&#x27;UrbanRural&#x27;])])</pre></div></div></div><div class=\"sk-parallel\"><div class=\"sk-parallel-item\"><div class=\"sk-item\"><div class=\"sk-label-container\"><div class=\"sk-label sk-toggleable\"><input class=\"sk-toggleable__control sk-hidden--visually\" id=\"sk-estimator-id-161\" type=\"checkbox\" ><label for=\"sk-estimator-id-161\" class=\"sk-toggleable__label sk-toggleable__label-arrow\">standardscaler</label><div class=\"sk-toggleable__content\"><pre>[&#x27;NoEmp&#x27;, &#x27;RetainedJob&#x27;, &#x27;Term&#x27;, &#x27;NAICS&#x27;]</pre></div></div></div><div class=\"sk-serial\"><div class=\"sk-item\"><div class=\"sk-estimator sk-toggleable\"><input class=\"sk-toggleable__control sk-hidden--visually\" id=\"sk-estimator-id-162\" type=\"checkbox\" ><label for=\"sk-estimator-id-162\" class=\"sk-toggleable__label sk-toggleable__label-arrow\">StandardScaler</label><div class=\"sk-toggleable__content\"><pre>StandardScaler()</pre></div></div></div></div></div></div><div class=\"sk-parallel-item\"><div class=\"sk-item\"><div class=\"sk-label-container\"><div class=\"sk-label sk-toggleable\"><input class=\"sk-toggleable__control sk-hidden--visually\" id=\"sk-estimator-id-163\" type=\"checkbox\" ><label for=\"sk-estimator-id-163\" class=\"sk-toggleable__label sk-toggleable__label-arrow\">onehotencoder</label><div class=\"sk-toggleable__content\"><pre>[&#x27;UrbanRural&#x27;]</pre></div></div></div><div class=\"sk-serial\"><div class=\"sk-item\"><div class=\"sk-estimator sk-toggleable\"><input class=\"sk-toggleable__control sk-hidden--visually\" id=\"sk-estimator-id-164\" type=\"checkbox\" ><label for=\"sk-estimator-id-164\" class=\"sk-toggleable__label sk-toggleable__label-arrow\">OneHotEncoder</label><div class=\"sk-toggleable__content\"><pre>OneHotEncoder()</pre></div></div></div></div></div></div></div></div><div class=\"sk-item\"><div class=\"sk-estimator sk-toggleable\"><input class=\"sk-toggleable__control sk-hidden--visually\" id=\"sk-estimator-id-165\" type=\"checkbox\" ><label for=\"sk-estimator-id-165\" class=\"sk-toggleable__label sk-toggleable__label-arrow\">XGBClassifier</label><div class=\"sk-toggleable__content\"><pre>XGBClassifier(base_score=None, booster=None, callbacks=None,\n",
       "              colsample_bylevel=None, colsample_bynode=None,\n",
       "              colsample_bytree=0.2, early_stopping_rounds=None,\n",
       "              enable_categorical=False, eval_metric=None, feature_types=None,\n",
       "              gamma=1.0, gpu_id=None, grow_policy=None, importance_type=None,\n",
       "              interaction_constraints=None, learning_rate=0.11421052631578947,\n",
       "              max_bin=None, max_cat_threshold=None, max_cat_to_onehot=None,\n",
       "              max_delta_step=None, max_depth=8, max_leaves=None,\n",
       "              min_child_weight=4, missing=nan, monotone_constraints=None,\n",
       "              n_estimators=197, n_jobs=None, num_parallel_tree=None,\n",
       "              predictor=None, random_state=None, ...)</pre></div></div></div></div></div></div></div>"
      ],
      "text/plain": [
       "Pipeline(steps=[('columntransformer',\n",
       "                 ColumnTransformer(transformers=[('standardscaler',\n",
       "                                                  StandardScaler(),\n",
       "                                                  ['NoEmp', 'RetainedJob',\n",
       "                                                   'Term', 'NAICS']),\n",
       "                                                 ('onehotencoder',\n",
       "                                                  OneHotEncoder(),\n",
       "                                                  ['UrbanRural'])])),\n",
       "                ('xgbclassifier',\n",
       "                 XGBClassifier(base_score=None, booster=None, callbacks=None,\n",
       "                               colsample_bylevel=None, colsample_bynode=None,\n",
       "                               colsample_bytree=0.2, early_stoppin...\n",
       "                               grow_policy=None, importance_type=None,\n",
       "                               interaction_constraints=None,\n",
       "                               learning_rate=0.11421052631578947, max_bin=None,\n",
       "                               max_cat_threshold=None, max_cat_to_onehot=None,\n",
       "                               max_delta_step=None, max_depth=8,\n",
       "                               max_leaves=None, min_child_weight=4, missing=nan,\n",
       "                               monotone_constraints=None, n_estimators=197,\n",
       "                               n_jobs=None, num_parallel_tree=None,\n",
       "                               predictor=None, random_state=None, ...))])"
      ]
     },
     "execution_count": 424,
     "metadata": {},
     "output_type": "execute_result"
    }
   ],
   "source": [
    "saved_config = {'xgbclassifier__subsample': 0.9, 'xgbclassifier__reg_lambda': 0.7777777777777777, 'xgbclassifier__reg_alpha': 1.0, 'xgbclassifier__n_estimators': 192, 'xgbclassifier__min_child_weight': 4, 'xgbclassifier__max_depth': 7, 'xgbclassifier__learning_rate': 0.4268421052631579, 'xgbclassifier__gamma': 0.7777777777777777, 'xgbclassifier__colsample_bytree': 0.1}\n",
    "\n",
    "# best_params = saved_config\n",
    "\n",
    "# Entraînement du modèle\n",
    "xgb_pipe_opti = make_pipeline(preprocessor, xgb.XGBClassifier(colsample_bytree=best_params['xgbclassifier__colsample_bytree'], \n",
    "gamma=best_params['xgbclassifier__gamma'], \n",
    "learning_rate=best_params['xgbclassifier__learning_rate'], \n",
    "max_depth=best_params['xgbclassifier__max_depth'], \n",
    "min_child_weight=best_params['xgbclassifier__min_child_weight'],\n",
    "n_estimators=best_params['xgbclassifier__n_estimators'],\n",
    "reg_alpha=best_params['xgbclassifier__reg_alpha'],\n",
    "reg_lambda=best_params['xgbclassifier__reg_lambda'],\n",
    "subsample=best_params['xgbclassifier__subsample']))\n",
    "\n",
    "xgb_pipe_opti.fit(X_train, y_train)"
   ]
  },
  {
   "cell_type": "code",
   "execution_count": 425,
   "metadata": {},
   "outputs": [
    {
     "name": "stdout",
     "output_type": "stream",
     "text": [
      "              precision    recall  f1-score   support\n",
      "\n",
      "           0       0.85      0.69      0.76       354\n",
      "           1       0.94      0.97      0.96      1646\n",
      "\n",
      "    accuracy                           0.92      2000\n",
      "   macro avg       0.90      0.83      0.86      2000\n",
      "weighted avg       0.92      0.92      0.92      2000\n",
      "\n"
     ]
    }
   ],
   "source": [
    "y_pred = xgb_pipe_opti.predict(X_test)\n",
    "xgb_opti_report = classification_report(y_test, y_pred)\n",
    "\n",
    "print(xgb_opti_report)"
   ]
  },
  {
   "cell_type": "code",
   "execution_count": 426,
   "metadata": {},
   "outputs": [
    {
     "data": {
      "image/png": "[encoded data removed]",
      "text/plain": [
       "<Figure size 640x480 with 1 Axes>"
      ]
     },
     "metadata": {},
     "output_type": "display_data"
    }
   ],
   "source": [
    "from sklearn.model_selection import learning_curve\n",
    "import matplotlib.pyplot as plt\n",
    "\n",
    "train_sizes, train_scores, validation_scores = learning_curve(xgb_pipe_opti, X_train, y_train, cv=5)\n",
    "\n",
    "plt.plot(train_sizes, train_scores.mean(axis=1), label='Score d\\'entraînement')\n",
    "plt.plot(train_sizes, validation_scores.mean(axis=1), label='Score de validation')\n",
    "\n",
    "plt.title(\"Courbe d'apprentissage du modèle\")\n",
    "plt.xlabel('Taille du jeu de données d\\'entraînement')\n",
    "plt.ylabel('Accuracy')\n",
    "plt.legend()\n",
    "plt.show()"
   ]
  },
  {
   "cell_type": "code",
   "execution_count": 427,
   "metadata": {},
   "outputs": [
    {
     "data": {
      "image/png": "[encoded data removed]",
      "text/plain": [
       "<Figure size 640x480 with 1 Axes>"
      ]
     },
     "metadata": {},
     "output_type": "display_data"
    }
   ],
   "source": [
    "train_sizes, train_scores, test_scores = learning_curve(xgb_pipe_opti, X, y, cv=5, scoring='f1_macro', n_jobs=-1)\n",
    "\n",
    "train_scores_mean = np.mean(train_scores, axis=1)\n",
    "train_scores_std = np.std(train_scores, axis=1)\n",
    "\n",
    "test_scores_mean = np.mean(test_scores, axis=1)\n",
    "test_scores_std = np.std(test_scores, axis=1)\n",
    "\n",
    "plt.fill_between(train_sizes, train_scores_mean - train_scores_std, train_scores_mean + train_scores_std, alpha=0.1, color=\"r\")\n",
    "plt.fill_between(train_sizes, test_scores_mean - test_scores_std, test_scores_mean + test_scores_std, alpha=0.1, color=\"g\")\n",
    "\n",
    "plt.plot(train_sizes, train_scores_mean, 'o-', color=\"r\", label=\"Score d'entraînement\")\n",
    "plt.plot(train_sizes, test_scores_mean, 'o-', color=\"g\", label=\"Score de validation croisée\")\n",
    "\n",
    "plt.title(\"Courbe d'apprentissage du modèle\")\n",
    "plt.xlabel(\"Taille d'entraînement\")\n",
    "plt.ylabel(\"Score F1 Macro Moyen\")\n",
    "plt.legend(loc=\"best\")\n",
    "plt.show()"
   ]
  },
  {
   "attachments": {},
   "cell_type": "markdown",
   "metadata": {},
   "source": [
    "# PCA"
   ]
  },
  {
   "cell_type": "code",
   "execution_count": 428,
   "metadata": {},
   "outputs": [
    {
     "data": {
      "text/plain": [
       "5"
      ]
     },
     "execution_count": 428,
     "metadata": {},
     "output_type": "execute_result"
    }
   ],
   "source": [
    "numeric_features = list(X.select_dtypes(include=['int', 'float']).columns)\n",
    "\n",
    "len(numeric_features)"
   ]
  },
  {
   "cell_type": "code",
   "execution_count": 429,
   "metadata": {},
   "outputs": [
    {
     "data": {
      "text/plain": [
       "<matplotlib.collections.LineCollection at 0x7fbccf94e850>"
      ]
     },
     "execution_count": 429,
     "metadata": {},
     "output_type": "execute_result"
    },
    {
     "data": {
      "image/png": "[encoded data removed]",
      "text/plain": [
       "<Figure size 640x480 with 1 Axes>"
      ]
     },
     "metadata": {},
     "output_type": "display_data"
    }
   ],
   "source": [
    "std = StandardScaler()\n",
    "X_train_standard = std.fit_transform(X_train[numeric_features])\n",
    "\n",
    "# Choisir le nb de composants\n",
    "n_dims = X_train_standard.shape[1]\n",
    "model = PCA(n_components=n_dims)\n",
    "model.fit(X_train_standard)\n",
    "\n",
    "variances = model.explained_variance_ratio_\n",
    "\n",
    "meilleur_dims = np.argmax(np.cumsum(variances) > 0.90)\n",
    "\n",
    "plt.bar(range(n_dims), np.cumsum(variances))\n",
    "plt.hlines(0.90, 0, meilleur_dims, colors='r')\n",
    "plt.vlines(meilleur_dims, 0, 0.90, colors='r')"
   ]
  },
  {
   "cell_type": "code",
   "execution_count": 430,
   "metadata": {},
   "outputs": [
    {
     "name": "stdout",
     "output_type": "stream",
     "text": [
      "              precision    recall  f1-score   support\n",
      "\n",
      "           0       0.72      0.58      0.64       354\n",
      "           1       0.91      0.95      0.93      1646\n",
      "\n",
      "    accuracy                           0.89      2000\n",
      "   macro avg       0.82      0.77      0.79      2000\n",
      "weighted avg       0.88      0.89      0.88      2000\n",
      "\n",
      "              precision    recall  f1-score   support\n",
      "\n",
      "           0       0.85      0.69      0.76       354\n",
      "           1       0.94      0.97      0.96      1646\n",
      "\n",
      "    accuracy                           0.92      2000\n",
      "   macro avg       0.90      0.83      0.86      2000\n",
      "weighted avg       0.92      0.92      0.92      2000\n",
      "\n"
     ]
    }
   ],
   "source": [
    "pca = PCA(n_components=n_dims)\n",
    "\n",
    "xgb_pipe_opti_pca = make_pipeline(preprocessor, pca, xgb.XGBClassifier())\n",
    "\n",
    "xgb_pipe_opti_pca.fit(X_train, y_train)\n",
    "y_pred = xgb_pipe_opti_pca.predict(X_test)\n",
    "\n",
    "xgb_pipe_opti_report_pca = classification_report(y_test, y_pred)\n",
    "print(xgb_pipe_opti_report_pca)\n",
    "print(xgb_opti_report)"
   ]
  },
  {
   "cell_type": "code",
   "execution_count": 440,
   "metadata": {},
   "outputs": [
    {
     "name": "stderr",
     "output_type": "stream",
     "text": [
      "2023/02/06 11:29:08 INFO mlflow.models.evaluation.base: Evaluating the model with the default evaluator.\n",
      "2023/02/06 11:29:08 INFO mlflow.models.evaluation.default_evaluator: The evaluation dataset is inferred as binary dataset, positive label is 1, negative label is 0.\n",
      "2023/02/06 11:29:10 INFO mlflow.models.evaluation.default_evaluator: Shap explainer Exact is used.\n",
      "Exact explainer: 2001it [00:40, 39.30it/s]                          \n",
      "Unable to serialize underlying model using MLflow, will use SHAP serialization\n",
      "2023/02/06 11:29:53 WARNING mlflow.utils.environment: Encountered an unexpected error while inferring pip requirements (model URI: /tmp/tmpgabq1130/model, flavor: shap), fall back to return ['shap==0.41.0']. Set logging level to DEBUG to see the full traceback.\n",
      "No data for colormapping provided via 'c'. Parameters 'vmin', 'vmax' will be ignored\n",
      "No data for colormapping provided via 'c'. Parameters 'vmin', 'vmax' will be ignored\n"
     ]
    }
   ],
   "source": [
    "model = xgb_pipe_opti_pca.fit(X_train, y_train)\n",
    "\n",
    "eval_data = X_test.copy()\n",
    "eval_data[\"target\"] = y_test\n",
    "\n",
    "with mlflow.start_run():\n",
    "    pca = PCA(n_dims)\n",
    "    \n",
    "    model_info = mlflow.sklearn.log_model(model, \"model\")\n",
    "    result = mlflow.evaluate(\n",
    "        model_info.model_uri,\n",
    "        eval_data,\n",
    "        targets=\"target\",\n",
    "        model_type=\"classifier\",\n",
    "        evaluators=[\"default\"],\n",
    "        )"
   ]
  },
  {
   "cell_type": "code",
   "execution_count": 441,
   "metadata": {},
   "outputs": [
    {
     "name": "stderr",
     "output_type": "stream",
     "text": [
      "2023/02/06 11:33:07 INFO mlflow.models.evaluation.base: Evaluating the model with the default evaluator.\n",
      "2023/02/06 11:33:07 INFO mlflow.models.evaluation.default_evaluator: The evaluation dataset is inferred as binary dataset, positive label is 1, negative label is 0.\n",
      "2023/02/06 11:33:09 INFO mlflow.models.evaluation.default_evaluator: Shap explainer Exact is used.\n",
      "Exact explainer: 2001it [00:33, 42.61it/s]                          \n",
      "Unable to serialize underlying model using MLflow, will use SHAP serialization\n",
      "No data for colormapping provided via 'c'. Parameters 'vmin', 'vmax' will be ignored\n",
      "No data for colormapping provided via 'c'. Parameters 'vmin', 'vmax' will be ignored\n"
     ]
    }
   ],
   "source": [
    "model = xgb_pipe_opti.fit(X_train, y_train)\n",
    "\n",
    "eval_data = X_test.copy()\n",
    "eval_data[\"target\"] = y_test\n",
    "\n",
    "with mlflow.start_run():\n",
    "    model_info = mlflow.sklearn.log_model(model, \"model\")\n",
    "    result = mlflow.evaluate(\n",
    "        model_info.model_uri,\n",
    "        eval_data,\n",
    "        targets=\"target\",\n",
    "        model_type=\"classifier\",\n",
    "        evaluators=[\"default\"],\n",
    "        )"
   ]
  }
 ],
 "metadata": {
  "kernelspec": {
   "display_name": "env",
   "language": "python",
   "name": "python3"
  },
  "language_info": {
   "codemirror_mode": {
    "name": "ipython",
    "version": 3
   },
   "file_extension": ".py",
   "mimetype": "text/x-python",
   "name": "python",
   "nbconvert_exporter": "python",
   "pygments_lexer": "ipython3",
   "version": "3.9.12"
  },
  "orig_nbformat": 4,
  "vscode": {
   "interpreter": {
    "hash": "cc4dea8e5729fabed56bc94b4b3703873ec3fd82ccffa8a0f5027c5e725a41c0"
   }
  }
 },
 "nbformat": 4,
 "nbformat_minor": 2
}
